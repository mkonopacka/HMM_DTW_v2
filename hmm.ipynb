{
 "cells": [
  {
   "cell_type": "markdown",
   "metadata": {},
   "source": [
    "## Hidden Markov Models \n",
    "Learn how to use `hmmlearn` and use it to:\n",
    "1. generate data \n",
    "2. fit models to the data\n",
    "3. run classification on the fake data\n",
    "\n",
    "Then move to DTW; then to real world data.  "
   ]
  },
  {
   "cell_type": "code",
   "execution_count": 66,
   "metadata": {},
   "outputs": [],
   "source": [
    "import pandas as pd\n",
    "import numpy as np\n",
    "from hmmlearn import hmm\n",
    "import matplotlib.pyplot as plt\n",
    "import matplotlib.patches as mpatches\n",
    "%matplotlib inline"
   ]
  },
  {
   "cell_type": "markdown",
   "metadata": {},
   "source": [
    "#### Test: How it works?"
   ]
  },
  {
   "cell_type": "code",
   "execution_count": 67,
   "metadata": {},
   "outputs": [],
   "source": [
    "np.random.seed(42)\n",
    "model = hmm.GaussianHMM(n_components = 2, covariance_type = \"diag\")\n",
    "\n",
    "# Vector pi; shape: (n_components,)\n",
    "model.startprob_ = np.array([0.9, 0.1]) \n",
    "\n",
    "# Matrix A; shape: (n_components, n_components)\n",
    "model.transmat_ = np.array([[0.9, 0.1],\n",
    "                            [0.1, 0.9]])\n",
    "\n",
    "# Emission distribution means (Gaussian); shape: (n_components, n_features)\n",
    "model.means_ = np.array([[0], [3]])\n",
    "\n",
    "# Emission distribution covariation matrix? (Gaussian); shape: (n_components, n_features)\n",
    "# Shape depends on type of covariance matrix and for some there's a need to manually set n_features (bug)\n",
    "model.covars_ = np.array([[0.1], [0.5]])\n",
    "X, Z = model.sample(50)"
   ]
  },
  {
   "cell_type": "code",
   "execution_count": 68,
   "metadata": {},
   "outputs": [
    {
     "data": {
      "text/plain": [
       "<matplotlib.legend.Legend at 0x7f371fd529d0>"
      ]
     },
     "execution_count": 68,
     "metadata": {},
     "output_type": "execute_result"
    },
    {
     "data": {
      "image/png": "[encoded data removed]",
      "text/plain": [
       "<Figure size 432x288 with 1 Axes>"
      ]
     },
     "metadata": {
      "needs_background": "light"
     },
     "output_type": "display_data"
    }
   ],
   "source": [
    "# Data\n",
    "means = [model.means_[i] for i in Z]\n",
    "colors = [\"red\" if z==0 else \"blue\" for z in Z]\n",
    "# Legend\n",
    "red_patch = mpatches.Patch(color = 'red', label = 'Z = 0 (OFF)')\n",
    "blue_patch = mpatches.Patch(color = 'blue', label = 'Z = 1 (ON)')\n",
    "\n",
    "plt.plot(X, color = \"black\")\n",
    "plt.scatter(np.array(range(len(Z))), means, color = colors, s = 7)\n",
    "plt.title(\"Generated data with red means corresponding to found hidden states\")\n",
    "plt.legend(handles=[red_patch, blue_patch])"
   ]
  },
  {
   "cell_type": "markdown",
   "metadata": {},
   "source": [
    "#### Different models for classification\n",
    "- 3 devices with on/off switch (2 states). Almost no variance when device is off. Two models are similar.\n",
    "- 1 device with 5 states\n",
    "- 2 devices with 3 states\n",
    "- 3 devices with one state"
   ]
  },
  {
   "cell_type": "markdown",
   "metadata": {},
   "source": [
    "##### Create 9 models"
   ]
  },
  {
   "cell_type": "code",
   "execution_count": 81,
   "metadata": {},
   "outputs": [],
   "source": [
    "models_lst = []"
   ]
  },
  {
   "cell_type": "code",
   "execution_count": 82,
   "metadata": {},
   "outputs": [],
   "source": [
    "model_switch_1 = hmm.GaussianHMM(n_components= 2, covariance_type= \"diag\")\n",
    "model_switch_1.means_ = np.array([[0.5],[100]])\n",
    "model_switch_1.covars_ = np.array([[0.001],[10]])\n",
    "model_switch_1.startprob_ = np.array([0.8, 0.2])\n",
    "model_switch_1.transmat_ = np.array([[0.9, 0.1],\n",
    "                                    [0.5, 0.5]])\n",
    "models_lst.append(model_switch_1)"
   ]
  },
  {
   "cell_type": "code",
   "execution_count": 83,
   "metadata": {},
   "outputs": [],
   "source": [
    "model_switch_2 = hmm.GaussianHMM(n_components= 2, covariance_type= \"diag\")\n",
    "model_switch_2.means_ = np.array([[0.5],[98]])\n",
    "model_switch_2.covars_ = np.array([[0.001],[4]])\n",
    "model_switch_2.startprob_ = np.array([0.7, 0.3]) # pytanie: Czy start prob nie powinno być punktem stacj. czy cośtam macierzy A?\n",
    "model_switch_2.transmat_ = np.array([[0.8, 0.2],\n",
    "                                    [0.6, 0.4]])\n",
    "models_lst.append(model_switch_2)"
   ]
  },
  {
   "cell_type": "code",
   "execution_count": 84,
   "metadata": {},
   "outputs": [],
   "source": [
    "model_switch_3 = hmm.GaussianHMM(n_components= 2, covariance_type= \"diag\")\n",
    "model_switch_3.means_ = np.array([[0.5],[50]])\n",
    "model_switch_3.covars_ = np.array([[0.001],[5]])\n",
    "model_switch_3.startprob_ = np.array([0.3, 0.7])\n",
    "model_switch_3.transmat_ = np.array([[0.6, 0.4],\n",
    "                                    [0.2, 0.8]\n",
    "                                    ])\n",
    "                                    \n",
    "models_lst.append(model_switch_3)"
   ]
  },
  {
   "cell_type": "code",
   "execution_count": 85,
   "metadata": {},
   "outputs": [],
   "source": [
    "model_1hidden_1 = hmm.GaussianHMM(n_components= 1, covariance_type= \"diag\")\n",
    "model_1hidden_1.means_ = np.array([[100]])\n",
    "model_1hidden_1.covars_ = np.array([[30]])\n",
    "model_1hidden_1.startprob_ = np.array([1])\n",
    "model_1hidden_1.transmat_ = np.array([[1]])\n",
    "models_lst.append(model_1hidden_1)"
   ]
  },
  {
   "cell_type": "code",
   "execution_count": 86,
   "metadata": {},
   "outputs": [],
   "source": [
    "model_1hidden_2 = hmm.GaussianHMM(n_components= 1, covariance_type= \"diag\")\n",
    "model_1hidden_2.means_ = np.array([[50]])\n",
    "model_1hidden_2.covars_ = np.array([[1]])\n",
    "model_1hidden_2.startprob_ = np.array([1])\n",
    "model_1hidden_2.transmat_ = np.array([[1]])\n",
    "models_lst.append(model_1hidden_2)"
   ]
  },
  {
   "cell_type": "code",
   "execution_count": 87,
   "metadata": {},
   "outputs": [],
   "source": [
    "model_1hidden_3 = hmm.GaussianHMM(n_components= 1, covariance_type= \"diag\")\n",
    "model_1hidden_3.means_ = np.array([[100]])\n",
    "model_1hidden_3.covars_ = np.array([[1]])\n",
    "model_1hidden_3.startprob_ = np.array([1])\n",
    "model_1hidden_3.transmat_ = np.array([[1]])\n",
    "models_lst.append(model_1hidden_3)"
   ]
  },
  {
   "cell_type": "code",
   "execution_count": 88,
   "metadata": {},
   "outputs": [],
   "source": [
    "model_5hidden_3 = hmm.GaussianHMM(n_components= 5, covariance_type= \"diag\")\n",
    "model_5hidden_3.means_ = np.array([[0.1],[20],[30],[200],[300]])\n",
    "model_5hidden_3.covars_ = np.array([[0.001],[0.2],[0.3],[0.5],[0.5]])\n",
    "model_5hidden_3.startprob_ = np.array([0.6, 0.1, 0.1, 0.1, 0.1])\n",
    "model_5hidden_3.transmat_ = np.array([[0.6, 0.1, 0.1, 0.1, 0.1],\n",
    "                                      [0.1, 0.8, 0.05, 0.04, 0.01],\n",
    "                                      [0.1, 0.15, 0.8, 0.04, 0.01],    \n",
    "                                      [0.05, 0.2, 0.02, 0.7, 0.03], \n",
    "                                      [0.3, 0.03, 0.03, 0.04, 0.6]\n",
    "                                      ])\n",
    "models_lst.append(model_5hidden_3)"
   ]
  },
  {
   "cell_type": "code",
   "execution_count": 89,
   "metadata": {},
   "outputs": [],
   "source": [
    "model_3hidden_1 = hmm.GaussianHMM(n_components= 3, covariance_type= \"diag\")\n",
    "model_3hidden_1.means_ = np.array([[0.1],[50], [100]])\n",
    "model_3hidden_1.covars_ = np.array([[0.001],[5], [5]])\n",
    "model_3hidden_1.startprob_ = np.array([0.1, 0.7, 0.2])\n",
    "model_3hidden_1.transmat_ = np.array([[0.6, 0.4, 0],\n",
    "                                      [0.1, 0.8, 0.1],\n",
    "                                      [0.7, 0.01, 0.2]\n",
    "                                      ])\n",
    "models_lst.append(model_3hidden_1)"
   ]
  },
  {
   "cell_type": "code",
   "execution_count": 90,
   "metadata": {},
   "outputs": [],
   "source": [
    "model_3hidden_2 = hmm.GaussianHMM(n_components= 3, covariance_type= \"diag\")\n",
    "model_3hidden_2.means_ = np.array([[1],[30], [45]])\n",
    "model_3hidden_2.covars_ = np.array([[0.001],[5], [5]])\n",
    "model_3hidden_2.startprob_ = np.array([0.1, 0.7, 0.2])\n",
    "model_3hidden_2.transmat_ = np.array([[0.5, 0.4, 0.1],\n",
    "                                      [0.1, 0.6, 0.3],\n",
    "                                      [0.2, 0.51, 0.29]\n",
    "                                      ])\n",
    "models_lst.append(model_3hidden_2)"
   ]
  },
  {
   "cell_type": "markdown",
   "metadata": {},
   "source": [
    "##### Plots of samples"
   ]
  },
  {
   "cell_type": "code",
   "execution_count": 96,
   "metadata": {},
   "outputs": [
    {
     "data": {
      "text/plain": [
       "[<matplotlib.lines.Line2D at 0x7f371ebb6d00>]"
      ]
     },
     "execution_count": 96,
     "metadata": {},
     "output_type": "execute_result"
    },
    {
     "data": {
      "image/png": "[encoded data removed]",
      "text/plain": [
       "<Figure size 432x288 with 1 Axes>"
      ]
     },
     "metadata": {
      "needs_background": "light"
     },
     "output_type": "display_data"
    }
   ],
   "source": [
    "# test czy cos sie zmienia\n",
    "plt.plot(model_1hidden_2.sample(500)[0])"
   ]
  }
 ],
 "metadata": {
  "interpreter": {
   "hash": "824dc94f4a21fb2b9b063d5374c6a5be71ea0704887dd3ffa4e3d703212d1775"
  },
  "kernelspec": {
   "display_name": "Python 3.9.12 ('hmm_dtw')",
   "language": "python",
   "name": "python3"
  },
  "language_info": {
   "codemirror_mode": {
    "name": "ipython",
    "version": 3
   },
   "file_extension": ".py",
   "mimetype": "text/x-python",
   "name": "python",
   "nbconvert_exporter": "python",
   "pygments_lexer": "ipython3",
   "version": "3.9.12"
  },
  "orig_nbformat": 4
 },
 "nbformat": 4,
 "nbformat_minor": 2
}

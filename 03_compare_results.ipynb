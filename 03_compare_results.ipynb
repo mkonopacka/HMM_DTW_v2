{
 "cells": [
  {
   "cell_type": "markdown",
   "metadata": {},
   "source": [
    "# Compare results"
   ]
  },
  {
   "cell_type": "markdown",
   "metadata": {},
   "source": [
    "## Setup"
   ]
  },
  {
   "cell_type": "code",
   "execution_count": null,
   "metadata": {},
   "outputs": [],
   "source": [
    "import pandas as pd\n",
    "import numpy as np\n",
    "import pickle \n",
    "import os\n",
    "import matplotlib.pyplot as plt\n",
    "import time \n",
    "\n",
    "# set the directory containing results files to analyze\n",
    "RESULTS_DIR = \"results_HMM\" \n",
    "# directory where dataframes with summarized results etc will be stored\n",
    "SUMMARY_OUTPUT_DIR = \"summaries\""
   ]
  },
  {
   "cell_type": "markdown",
   "metadata": {},
   "source": [
    "## Load results of classification"
   ]
  },
  {
   "cell_type": "code",
   "execution_count": null,
   "metadata": {},
   "outputs": [],
   "source": [
    "results_lst = []\n",
    "filepaths_lst = []\n",
    "for filename in os.listdir(RESULTS_DIR):\n",
    "    path = f\"{RESULTS_DIR}/{filename}\"\n",
    "    with open(path, \"rb\") as f:\n",
    "        filepaths_lst.append(path)\n",
    "        print(f\"Reading data from {path}\")\n",
    "        results_lst.append(pickle.load(f))"
   ]
  },
  {
   "cell_type": "code",
   "execution_count": null,
   "metadata": {},
   "outputs": [],
   "source": [
    "for i, r in enumerate(results_lst):\n",
    "    with open(r[\"data_filename\"], \"rb\") as f:\n",
    "        data = pickle.load(f)\n",
    "        print(f\"Info about generated data in {i}:\")\n",
    "        print(data.keys())"
   ]
  },
  {
   "cell_type": "markdown",
   "metadata": {},
   "source": [
    "## Compare accuracies\n",
    "\n",
    "- `time_id`: time index of file with generated data / results\n",
    "- `gen_with`: type of model the data was generated with (\"HMM\" / \"ARIMA\" / \"ARIMA_all_statio\" etc)\n",
    "- `n_train`: number of train samples per model\n",
    "- `n_test`: number of test samples per model\n",
    "- `min_len`: min sample size parameter used in generation\n",
    "- `max_len`: max sample size parameter used in generation\n",
    "- `cls_with`: type of model used to classify samples (\"HMM\" / \"DTW\")\n",
    "- `variant`: variant of classification, e.g. for HMM: \"AIC\" or \"BIC\", for DTW: \"1NN\" or \"5NN\" derived as a key from `predictions_dfs` list\n",
    "- `acc`: accuracy of predictions\n"
   ]
  },
  {
   "cell_type": "code",
   "execution_count": null,
   "metadata": {},
   "outputs": [],
   "source": [
    "time_id = []\n",
    "names = []\n",
    "gen_with = []\n",
    "n_train = []\n",
    "n_test = []\n",
    "min_len = []\n",
    "max_len = []\n",
    "cls_with = []\n",
    "variants = []\n",
    "accs = []\n",
    "\n",
    "for r in results_lst:\n",
    "    for variant, acc in r[\"accuracies\"].items():\n",
    "        with open(r[\"data_filename\"], \"rb\") as f:\n",
    "            data = pickle.load(f)\n",
    "            time_id.append(r[\"time_index\"])\n",
    "            name = r[\"data_filename\"].split(\"/\")[1].split(\".\")[0]\n",
    "            names.append(name)\n",
    "            gen_with.append(data[\"generating_model\"])\n",
    "            try:\n",
    "                n_train.append(data[\"metadata\"][\"N_TRAIN_SAMPLES_PER_MODEL\"])\n",
    "                n_test.append(data[\"metadata\"][\"N_TEST_SAMPLES_PER_MODEL\"])\n",
    "            except KeyError:\n",
    "                n_train.append(data[\"metadata\"][\"NO_TRAIN_SAMPLES\"])\n",
    "                n_test.append(data[\"metadata\"][\"NO_TEST_SAMPLES\"])\n",
    "            min_len.append(data[\"metadata\"][\"MIN_SAMPLE_LEN\"])\n",
    "            max_len.append(data[\"metadata\"][\"MAX_SAMPLE_LEN\"])\n",
    "            cls_with.append(r[\"classificator\"])\n",
    "            variants.append(variant)\n",
    "            accs.append(acc)\n",
    "\n",
    "acc_summary = pd.DataFrame({\n",
    "    \"time_id\": time_id,\n",
    "    \"filename\": names,\n",
    "    \"gen_with\": gen_with,\n",
    "    \"n_train\": n_train,\n",
    "    \"n_test\": n_test,\n",
    "    \"min_len\": min_len,\n",
    "    \"max_len\": max_len,\n",
    "    \"cls_with\": cls_with,\n",
    "    \"variant\": variants,\n",
    "    \"acc\": accs\n",
    "})\n",
    "            "
   ]
  },
  {
   "cell_type": "code",
   "execution_count": null,
   "metadata": {},
   "outputs": [],
   "source": [
    "for g, df in acc_summary.sort_values(\n",
    "    by=['acc'], ascending = False).drop([\"time_id\", \"gen_with\"], axis = \"columns\").groupby(\n",
    "        [\"filename\", \"cls_with\"]):\n",
    "        print(g)\n",
    "        display(df)"
   ]
  },
  {
   "cell_type": "code",
   "execution_count": null,
   "metadata": {},
   "outputs": [],
   "source": [
    "t = int(time.time())\n",
    "summary_data = {\n",
    "    \"creation_date\": t,\n",
    "    \"results_files\": filepaths_lst,\n",
    "    \"accuracies_df\": acc_summary\n",
    "\n",
    "}\n",
    "with open(f\"{SUMMARY_OUTPUT_DIR}/summary_{t}.pkl\", \"wb\") as f:\n",
    "    pickle.dump(summary_data, f)"
   ]
  },
  {
   "cell_type": "markdown",
   "metadata": {},
   "source": [
    "#"
   ]
  },
  {
   "cell_type": "markdown",
   "metadata": {},
   "source": [
    "# Number of hidden states\n"
   ]
  },
  {
   "cell_type": "code",
   "execution_count": null,
   "metadata": {},
   "outputs": [],
   "source": [
    "for r in results_lst:\n",
    "    print(r[\"data_filename\"])\n",
    "    display(r[\"hidden_states_df\"])"
   ]
  },
  {
   "cell_type": "markdown",
   "metadata": {},
   "source": [
    "# Misclasified samples check"
   ]
  },
  {
   "cell_type": "markdown",
   "metadata": {},
   "source": [
    "### Find ids of misclassified"
   ]
  },
  {
   "cell_type": "code",
   "execution_count": null,
   "metadata": {},
   "outputs": [],
   "source": [
    "r = results_lst[2]\n",
    "print(r[\"data_filename\"])\n",
    "pred_df = r[\"predictions_dfs\"][\"1NN\"]\n",
    "wrong = (pred_df[\"true_label\"] != pred_df[\"pred\"])\n",
    "sub_df = pred_df.iloc[np.where(wrong)[0]].query(\"true_label == 3\")\n",
    "sub_df"
   ]
  },
  {
   "cell_type": "code",
   "execution_count": null,
   "metadata": {},
   "outputs": [],
   "source": [
    "wrong_samples_ids = pred_df.iloc[np.where(wrong)[0]][\"sample_id\"].values\n",
    "with open(r[\"data_filename\"], \"rb\") as f:\n",
    "    data = pickle.load(f)\n",
    "    all_X = data[\"all_X_samples\"]\n",
    "    wrong = [all_X[i] for i in wrong_samples_ids]\n",
    "\n",
    "wrong[0].shape"
   ]
  },
  {
   "cell_type": "markdown",
   "metadata": {},
   "source": [
    "### Plot samples"
   ]
  },
  {
   "cell_type": "code",
   "execution_count": null,
   "metadata": {},
   "outputs": [],
   "source": [
    "i = 0\n",
    "X = wrong[i]\n",
    "true = sub_df.iloc[i][\"true_label\"]\n",
    "pred = sub_df.iloc[i][\"pred\"]\n",
    "# labels = [\"DD\", \"UD\", \"DU\", \"UU\"] # use for twopat\n",
    "labels = list(range(9))\n",
    "plt.rcParams[\"figure.figsize\"] = (20, 8)\n",
    "plt.rcParams['font.size'] = 20\n",
    "fig,ax = plt.subplots(1,1)\n",
    "ax.plot(X, lw = 3)\n",
    "ax.set_title(f\"Sample from {labels[true]} class classified as {labels[pred]}\")\n",
    "ax.grid()\n",
    "\n",
    "plt.show()"
   ]
  }
 ],
 "metadata": {
  "interpreter": {
   "hash": "824dc94f4a21fb2b9b063d5374c6a5be71ea0704887dd3ffa4e3d703212d1775"
  },
  "kernelspec": {
   "display_name": "Python 3.9.12 ('hmm_dtw')",
   "language": "python",
   "name": "python3"
  },
  "language_info": {
   "codemirror_mode": {
    "name": "ipython",
    "version": 3
   },
   "file_extension": ".py",
   "mimetype": "text/x-python",
   "name": "python",
   "nbconvert_exporter": "python",
   "pygments_lexer": "ipython3",
   "version": "3.9.12"
  },
  "orig_nbformat": 4
 },
 "nbformat": 4,
 "nbformat_minor": 2
}

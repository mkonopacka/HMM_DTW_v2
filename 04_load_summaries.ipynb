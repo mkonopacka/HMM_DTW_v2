{
 "cells": [
  {
   "cell_type": "code",
   "execution_count": null,
   "metadata": {},
   "outputs": [],
   "source": [
    "import numpy as np\n",
    "import pandas as pd\n",
    "import os\n",
    "import functools as ft\n",
    "import pickle\n",
    "\n",
    "SUMMARIES_DIR = \"summaries/\""
   ]
  },
  {
   "cell_type": "code",
   "execution_count": null,
   "metadata": {},
   "outputs": [],
   "source": [
    "summaries_lst = []\n",
    "filepaths_lst = []\n",
    "for filename in os.listdir(SUMMARIES_DIR):\n",
    "    path = f\"{SUMMARIES_DIR}/{filename}\"\n",
    "    with open(path, \"rb\") as f:\n",
    "        filepaths_lst.append(path)\n",
    "        print(f\"Reading data from {path}\")\n",
    "        summaries_lst.append(pickle.load(f))"
   ]
  },
  {
   "cell_type": "code",
   "execution_count": null,
   "metadata": {},
   "outputs": [],
   "source": [
    "acc_dfs = [summary[\"accuracies_df\"] for summary in summaries_lst]\n",
    "merged_accuracies = pd.concat(acc_dfs, ignore_index=True)\n",
    "merged_accuracies.tail(3)"
   ]
  },
  {
   "cell_type": "code",
   "execution_count": null,
   "metadata": {},
   "outputs": [],
   "source": [
    "for time_id, df in merged_accuracies.groupby(\"time_id\"):\n",
    "    print(f\"Results of classification of data in file with {time_id = }:\")\n",
    "    display(df.iloc[:,1:].sort_values(by=['acc'], ascending = False))"
   ]
  }
 ],
 "metadata": {
  "interpreter": {
   "hash": "824dc94f4a21fb2b9b063d5374c6a5be71ea0704887dd3ffa4e3d703212d1775"
  },
  "kernelspec": {
   "display_name": "Python 3.9.12 ('hmm_dtw')",
   "language": "python",
   "name": "python3"
  },
  "language_info": {
   "codemirror_mode": {
    "name": "ipython",
    "version": 3
   },
   "file_extension": ".py",
   "mimetype": "text/x-python",
   "name": "python",
   "nbconvert_exporter": "python",
   "pygments_lexer": "ipython3",
   "version": "3.9.12"
  },
  "orig_nbformat": 4
 },
 "nbformat": 4,
 "nbformat_minor": 2
}

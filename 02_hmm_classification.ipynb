{
 "cells": [
  {
   "cell_type": "markdown",
   "metadata": {},
   "source": [
    "# Generate data"
   ]
  },
  {
   "cell_type": "code",
   "execution_count": 23,
   "metadata": {},
   "outputs": [],
   "source": [
    "import pandas as pd\n",
    "import numpy as np\n",
    "from hmmlearn import hmm\n",
    "import matplotlib.pyplot as plt\n",
    "import pickle\n",
    "from time import time\n",
    "\n",
    "DATA_PICKLE_FILE = \"./data/genrated_data_1657969230.pkl\""
   ]
  },
  {
   "cell_type": "code",
   "execution_count": null,
   "metadata": {},
   "outputs": [],
   "source": [
    "with open(DATA_PICKLE_FILE, \"rb\") as f:\n",
    "    data = pickle.load(f)"
   ]
  },
  {
   "cell_type": "code",
   "execution_count": 6,
   "metadata": {},
   "outputs": [],
   "source": [
    "def fit_with_known_no_hidden_states(X, lengths, no_hidden_states, trials, print_scores = False) -> hmm.GaussianHMM:\n",
    "    \"\"\"Fit GaussianHMM with known number of hidden states.\"\"\"\n",
    "    best_model = None\n",
    "    best_score = -np.infty\n",
    "    for t in range(trials):\n",
    "        remodel = hmm.GaussianHMM(n_components = no_hidden_states).fit(X, lengths)\n",
    "        if not remodel.monitor_.converged:\n",
    "            print(f\"Model in trial {t} didn't converge.\") \n",
    "        score = remodel.score(X) # log-likelihood of the model\n",
    "        if score > best_score:\n",
    "            best_model = remodel\n",
    "            best_score = score\n",
    "            if print_scores: \n",
    "                print(f\"Model in trial {t} is best so far with score {score}.\")\n",
    "    return best_model\n",
    "\n",
    "def AIC(X, lengths, model) -> float:\n",
    "    loglik = model.score(X, lengths)\n",
    "    k = model.n_components\n",
    "    return 2*k - 2*loglik\n",
    "\n",
    "def BIC(X, lengths, model) -> float:\n",
    "    loglik = model.score(X, lengths)\n",
    "    k = model.n_components\n",
    "    n = sum(lengths) # TODO jak to dziala jak to rozbijam na czesci?\n",
    "    return k*np.log(n) - 2*loglik\n",
    "\n",
    "def compute_AIC_BIC(X, lengths, search_space: list[int], trials):\n",
    "    models = [fit_with_known_no_hidden_states(X, lengths, nhs, trials) for nhs in search_space]\n",
    "    AICs = [AIC(X, lengths, model) for model in models]\n",
    "    BICs = [BIC(X, lengths, model) for model in models]\n",
    "    # print(f\"Models:\\n{models}\\nAICs:\\n{AICs}\\nBICs:\\n{BICs}\")\n",
    "    return {\"models\": models, \"AIC\": AICs, \"BIC\": BICs}\n",
    "\n",
    "def fit_best_model(X, lengths, trials = 10, criterion = \"AIC\", print_debug = False):\n",
    "    results = compute_AIC_BIC(X, lengths, [1,2,3,4,5,6], trials)\n",
    "    best_model_id = np.argmin(results[criterion])\n",
    "    if print_debug: \n",
    "        print(\"Fitting best model - results:\")\n",
    "        print(results)\n",
    "    return results[\"models\"][best_model_id]\n",
    "\n",
    "fitted_models_lst = []\n",
    "for i in range(train_df.shape[1]):\n",
    "    X = np.array([train_df.iloc[:,i]]).transpose()\n",
    "    fitted_models_lst.append(fit_best_model(X, sample_lengths[:-1]))\n"
   ]
  },
  {
   "cell_type": "markdown",
   "metadata": {},
   "source": [
    "Use fitted models to classification\n",
    "\n",
    "test_sample_id | true_label | predicted_label | (*) kind of probits\n"
   ]
  },
  {
   "cell_type": "code",
   "execution_count": 7,
   "metadata": {},
   "outputs": [],
   "source": [
    "def classify(X, fitted_models) -> int:\n",
    "    \"\"\"Return id of fitted model with best log-likelihood given (one) sample X.\"\"\"\n",
    "    scores = [model.score(X) for model in fitted_models]\n",
    "    return np.argmax(scores)\n",
    "\n",
    "test_samples = [] \n",
    "true_labels = []  \n",
    "for col in test_df: \n",
    "    start_id = test_df.index[0]\n",
    "    for i in range(samples_per_model):\n",
    "        sample = np.array([test_df[col].loc[start_id: start_id + (i+1)*sample_n]])\n",
    "        test_samples.append(sample)\n",
    "        true_labels.append(i)\n",
    "\n",
    "predictions = [classify(X, fitted_models_lst) for X in test_samples]\n",
    "predictions_dtf = pd.DataFrame({\n",
    "    \"true_label\": true_labels, \n",
    "    \"prediction\": predictions\n",
    "    })"
   ]
  }
 ],
 "metadata": {
  "interpreter": {
   "hash": "824dc94f4a21fb2b9b063d5374c6a5be71ea0704887dd3ffa4e3d703212d1775"
  },
  "kernelspec": {
   "display_name": "Python 3.9.12 ('hmm_dtw')",
   "language": "python",
   "name": "python3"
  },
  "language_info": {
   "codemirror_mode": {
    "name": "ipython",
    "version": 3
   },
   "file_extension": ".py",
   "mimetype": "text/x-python",
   "name": "python",
   "nbconvert_exporter": "python",
   "pygments_lexer": "ipython3",
   "version": "3.9.12"
  },
  "orig_nbformat": 4
 },
 "nbformat": 4,
 "nbformat_minor": 2
}

{
 "cells": [
  {
   "cell_type": "markdown",
   "metadata": {},
   "source": [
    "# Classification with Hidden Markov Models"
   ]
  },
  {
   "cell_type": "markdown",
   "metadata": {},
   "source": [
    "## Setup"
   ]
  },
  {
   "cell_type": "code",
   "execution_count": 1,
   "metadata": {},
   "outputs": [],
   "source": [
    "import pandas as pd\n",
    "import numpy as np\n",
    "from hmmlearn import hmm\n",
    "import pickle\n",
    "\n",
    "DATA_PICKLE_FILE = \"./data/genrated_data_1657979568.pkl\""
   ]
  },
  {
   "cell_type": "code",
   "execution_count": 9,
   "metadata": {},
   "outputs": [],
   "source": [
    "def fit_with_known_no_hidden_states(samples: list[np.ndarray], no_hidden_states: int, trials: int) -> hmm.GaussianHMM:\n",
    "    \"\"\"Fit GaussianHMM when number of hidden states is known.\n",
    "    EM Algorithm will stuck in local optima, so it is recommended to try to fit model multiple times \n",
    "    and select the one with highest score. Number of iterations is set via `trials` argument.\n",
    "    \"\"\"\n",
    "    lengths = [len(sample) for sample in samples]\n",
    "    X = np.concatenate(samples)\n",
    "    best_model = None\n",
    "    best_score = -np.infty\n",
    "    for t in range(trials):\n",
    "        remodel = hmm.GaussianHMM(n_components = no_hidden_states).fit(X, lengths)\n",
    "        if not remodel.monitor_.converged:\n",
    "            print(f\"Model in trial {t} didn't converge.\") \n",
    "        score = remodel.score(X)\n",
    "        if score > best_score:\n",
    "            best_model = remodel\n",
    "            best_score = score\n",
    "    return best_model\n",
    "\n",
    "def AIC(samples: list[np.ndarray], model: hmm.BaseHMM) -> float:\n",
    "    \"\"\"Akaike Information Criterion implemented for Hidden Markov Model.\"\"\"\n",
    "    lengths = [len(sample) for sample in samples]\n",
    "    X = np.concatenate(samples)\n",
    "    loglik = model.score(X, lengths)\n",
    "    k = model.n_components\n",
    "    return 2*k - 2*loglik\n",
    "\n",
    "def BIC(samples: list[np.ndarray], model: hmm.BaseHMM) -> float:\n",
    "    \"\"\"Bayesian Information Criterion implemented for Hidden Markov Model.\"\"\"\n",
    "    lengths = [len(sample) for sample in samples]\n",
    "    X = np.concatenate(samples)\n",
    "    loglik = model.score(X, lengths)\n",
    "    k = model.n_components\n",
    "    n = sum(lengths) # TODO jak to dziala jak to rozbijam na czesci?\n",
    "    return k*np.log(n) - 2*loglik\n",
    "\n",
    "def fit_and_compute_criteria(samples: list[np.ndarray], search_space: list[int], trials: int) -> dict:\n",
    "    \"\"\"Return dict containing models and corresponding information criteria values.\"\"\"\n",
    "    models = [fit_with_known_no_hidden_states(samples, nhs, trials) for nhs in search_space]\n",
    "    AICs = [AIC(samples, model) for model in models]\n",
    "    BICs = [BIC(samples, model) for model in models]\n",
    "    return {\"models\": models, \"AIC\": AICs, \"BIC\": BICs}\n",
    "\n",
    "def fit_best_model(samples: list[np.ndarray], search_space: list[int], trials: int = 10, criterion: str = \"AIC\") -> hmm.BaseHMM:\n",
    "    \"\"\"Fit hmm.GaussianHMM models for all number of hidden states in `search_space` and return the one selected\n",
    "    by given criterion.\"\"\"\n",
    "    results = fit_and_compute_criteria(samples, search_space, trials)\n",
    "    best_model_id = np.argmin(results[criterion]) # Information criteria are minimized, not maximized.\n",
    "    return results[\"models\"][best_model_id]\n",
    "\n",
    "def classify_sample(X: np.ndarray, fitted_models: list[hmm.BaseHMM]) -> int:\n",
    "    \"\"\"Return id of fitted model with best log-likelihood given (one) sample X.\"\"\"\n",
    "    scores = [model.score(X) for model in fitted_models]\n",
    "    return np.argmax(scores)"
   ]
  },
  {
   "cell_type": "markdown",
   "metadata": {},
   "source": [
    "## Load data and prepare train and test splits"
   ]
  },
  {
   "cell_type": "code",
   "execution_count": 21,
   "metadata": {},
   "outputs": [
    {
     "data": {
      "text/plain": [
       "dict_keys(['models_lst', 'labels_df', 'all_X_samples', 'all_Z_samples'])"
      ]
     },
     "execution_count": 21,
     "metadata": {},
     "output_type": "execute_result"
    }
   ],
   "source": [
    "with open(DATA_PICKLE_FILE, \"rb\") as f:\n",
    "    data = pickle.load(f)\n",
    "\n",
    "all_X_samples = data[\"all_X_samples\"]\n",
    "labels_df = data[\"labels_df\"]\n",
    "data.keys()"
   ]
  },
  {
   "cell_type": "code",
   "execution_count": 4,
   "metadata": {},
   "outputs": [],
   "source": [
    "TRAIN_SUBSET_SIZE = 0.8 # stratified sampling\n",
    "train_samples_ids = []\n",
    "test_samples_ids = []\n",
    "for label, sub_df in labels_df.groupby(\"true_label\"):\n",
    "    n = sub_df.shape[0]\n",
    "    train_size = int(n*TRAIN_SUBSET_SIZE)\n",
    "    test_size = n - train_size\n",
    "    if test_size < 1:\n",
    "        raise Exception(f\"For {TRAIN_SUBSET_SIZE = } and {n = } test subset in group {label} is empty.\")\n",
    "    train_ids = sub_df.sample(8).index.values\n",
    "    train_samples_ids.extend(train_ids)\n",
    "    test_samples_ids.extend(sub_df.drop(train_ids).index.values)\n"
   ]
  },
  {
   "cell_type": "markdown",
   "metadata": {},
   "source": [
    "## Fit the models"
   ]
  },
  {
   "cell_type": "code",
   "execution_count": 20,
   "metadata": {},
   "outputs": [],
   "source": [
    "SEARCH_SPACE = list(range(1,6)) # numbers of hidden states to try\n",
    "\n",
    "fitted_models = dict()\n",
    "for label, sub_df in labels_df.loc[train_samples_ids].groupby(\"true_label\"):\n",
    "    int_ids = sub_df.index.values.astype('int')\n",
    "    X = [all_X_samples[id] for id in int_ids]\n",
    "    fitted_models[label] = fit_best_model(X, SEARCH_SPACE)\n",
    "    "
   ]
  },
  {
   "cell_type": "markdown",
   "metadata": {},
   "source": [
    "### Compare fitted models and true models"
   ]
  },
  {
   "cell_type": "code",
   "execution_count": 25,
   "metadata": {},
   "outputs": [
    {
     "name": "stdout",
     "output_type": "stream",
     "text": [
      "Samples labeled as 0: generated with k = 2; results in fitted model with k = 2.\n",
      "Samples labeled as 1: generated with k = 2; results in fitted model with k = 2.\n",
      "Samples labeled as 2: generated with k = 2; results in fitted model with k = 4.\n",
      "Samples labeled as 3: generated with k = 1; results in fitted model with k = 4.\n",
      "Samples labeled as 4: generated with k = 1; results in fitted model with k = 2.\n",
      "Samples labeled as 5: generated with k = 1; results in fitted model with k = 2.\n",
      "Samples labeled as 6: generated with k = 5; results in fitted model with k = 5.\n",
      "Samples labeled as 7: generated with k = 3; results in fitted model with k = 4.\n",
      "Samples labeled as 8: generated with k = 3; results in fitted model with k = 3.\n"
     ]
    }
   ],
   "source": [
    "true_models = data[\"models_lst\"]\n",
    "for i in range(len(fitted_models)):\n",
    "    true_model = true_models[i]\n",
    "    fitted_model = fitted_models[i]\n",
    "    print(f\"Samples labeled as {i}: generated with k = {true_model.n_components}; results in fitted model with k = {fitted_model.n_components}.\")"
   ]
  },
  {
   "cell_type": "markdown",
   "metadata": {},
   "source": [
    "## Classify test samples"
   ]
  }
 ],
 "metadata": {
  "interpreter": {
   "hash": "824dc94f4a21fb2b9b063d5374c6a5be71ea0704887dd3ffa4e3d703212d1775"
  },
  "kernelspec": {
   "display_name": "Python 3.9.12 ('hmm_dtw')",
   "language": "python",
   "name": "python3"
  },
  "language_info": {
   "codemirror_mode": {
    "name": "ipython",
    "version": 3
   },
   "file_extension": ".py",
   "mimetype": "text/x-python",
   "name": "python",
   "nbconvert_exporter": "python",
   "pygments_lexer": "ipython3",
   "version": "3.9.12"
  },
  "orig_nbformat": 4
 },
 "nbformat": 4,
 "nbformat_minor": 2
}

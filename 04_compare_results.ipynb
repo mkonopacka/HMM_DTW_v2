{
 "cells": [
  {
   "cell_type": "markdown",
   "metadata": {},
   "source": [
    "# Compare results"
   ]
  },
  {
   "cell_type": "markdown",
   "metadata": {},
   "source": [
    "## Setup"
   ]
  },
  {
   "cell_type": "code",
   "execution_count": 1,
   "metadata": {},
   "outputs": [],
   "source": [
    "import pandas as pd\n",
    "import numpy as np\n",
    "import pickle \n",
    "from functools import reduce\n",
    "import utils\n",
    "\n",
    "RESULTS_FILENAME_LIST = [\n",
    "    \"./results/dtw_results_1658168584_00.pkl\",\n",
    "    \"./results/hmm_results_1658168584_00.pkl\"\n",
    "    ]"
   ]
  },
  {
   "cell_type": "markdown",
   "metadata": {},
   "source": [
    "## Load and merge dataframes with predictions"
   ]
  },
  {
   "cell_type": "code",
   "execution_count": 2,
   "metadata": {},
   "outputs": [
    {
     "data": {
      "text/plain": [
       "dict_keys(['data_filename', 'time_index', 'split_id', 'results_df'])"
      ]
     },
     "execution_count": 2,
     "metadata": {},
     "output_type": "execute_result"
    }
   ],
   "source": [
    "results_lst = []\n",
    "for file in RESULTS_FILENAME_LIST:\n",
    "    with open(file, \"rb\") as f:\n",
    "        results_lst.append(pickle.load(f))\n",
    "\n",
    "results_lst[0].keys()"
   ]
  },
  {
   "cell_type": "code",
   "execution_count": 3,
   "metadata": {},
   "outputs": [],
   "source": [
    "df_lst = [r[\"results_df\"] for r in results_lst]\n",
    "merged_results_df = reduce(\n",
    "    lambda df1, df2: pd.merge(\n",
    "                              df1, df2, \n",
    "                              on = [\"sample_id\", \"true_label\"], \n",
    "                              how = \"outer\"), \n",
    "                    df_lst)"
   ]
  },
  {
   "cell_type": "code",
   "execution_count": 4,
   "metadata": {},
   "outputs": [
    {
     "data": {
      "text/html": [
       "<div>\n",
       "<style scoped>\n",
       "    .dataframe tbody tr th:only-of-type {\n",
       "        vertical-align: middle;\n",
       "    }\n",
       "\n",
       "    .dataframe tbody tr th {\n",
       "        vertical-align: top;\n",
       "    }\n",
       "\n",
       "    .dataframe thead th {\n",
       "        text-align: right;\n",
       "    }\n",
       "</style>\n",
       "<table border=\"1\" class=\"dataframe\">\n",
       "  <thead>\n",
       "    <tr style=\"text-align: right;\">\n",
       "      <th></th>\n",
       "      <th>true_label</th>\n",
       "      <th>sample_id</th>\n",
       "      <th>predicted_label_1NN</th>\n",
       "      <th>predicted_label_5NN</th>\n",
       "      <th>predicted_label_AIC</th>\n",
       "      <th>predicted_label_BIC</th>\n",
       "    </tr>\n",
       "  </thead>\n",
       "  <tbody>\n",
       "    <tr>\n",
       "      <th>0</th>\n",
       "      <td>0</td>\n",
       "      <td>1</td>\n",
       "      <td>0</td>\n",
       "      <td>0</td>\n",
       "      <td>0</td>\n",
       "      <td>0</td>\n",
       "    </tr>\n",
       "    <tr>\n",
       "      <th>1</th>\n",
       "      <td>0</td>\n",
       "      <td>2</td>\n",
       "      <td>0</td>\n",
       "      <td>0</td>\n",
       "      <td>0</td>\n",
       "      <td>0</td>\n",
       "    </tr>\n",
       "    <tr>\n",
       "      <th>2</th>\n",
       "      <td>0</td>\n",
       "      <td>3</td>\n",
       "      <td>0</td>\n",
       "      <td>0</td>\n",
       "      <td>0</td>\n",
       "      <td>0</td>\n",
       "    </tr>\n",
       "    <tr>\n",
       "      <th>3</th>\n",
       "      <td>0</td>\n",
       "      <td>4</td>\n",
       "      <td>0</td>\n",
       "      <td>0</td>\n",
       "      <td>0</td>\n",
       "      <td>0</td>\n",
       "    </tr>\n",
       "    <tr>\n",
       "      <th>4</th>\n",
       "      <td>0</td>\n",
       "      <td>5</td>\n",
       "      <td>0</td>\n",
       "      <td>0</td>\n",
       "      <td>0</td>\n",
       "      <td>0</td>\n",
       "    </tr>\n",
       "    <tr>\n",
       "      <th>...</th>\n",
       "      <td>...</td>\n",
       "      <td>...</td>\n",
       "      <td>...</td>\n",
       "      <td>...</td>\n",
       "      <td>...</td>\n",
       "      <td>...</td>\n",
       "    </tr>\n",
       "    <tr>\n",
       "      <th>355</th>\n",
       "      <td>8</td>\n",
       "      <td>891</td>\n",
       "      <td>8</td>\n",
       "      <td>8</td>\n",
       "      <td>8</td>\n",
       "      <td>8</td>\n",
       "    </tr>\n",
       "    <tr>\n",
       "      <th>356</th>\n",
       "      <td>8</td>\n",
       "      <td>893</td>\n",
       "      <td>8</td>\n",
       "      <td>8</td>\n",
       "      <td>8</td>\n",
       "      <td>8</td>\n",
       "    </tr>\n",
       "    <tr>\n",
       "      <th>357</th>\n",
       "      <td>8</td>\n",
       "      <td>895</td>\n",
       "      <td>8</td>\n",
       "      <td>8</td>\n",
       "      <td>8</td>\n",
       "      <td>8</td>\n",
       "    </tr>\n",
       "    <tr>\n",
       "      <th>358</th>\n",
       "      <td>8</td>\n",
       "      <td>896</td>\n",
       "      <td>8</td>\n",
       "      <td>8</td>\n",
       "      <td>8</td>\n",
       "      <td>8</td>\n",
       "    </tr>\n",
       "    <tr>\n",
       "      <th>359</th>\n",
       "      <td>8</td>\n",
       "      <td>898</td>\n",
       "      <td>8</td>\n",
       "      <td>8</td>\n",
       "      <td>8</td>\n",
       "      <td>8</td>\n",
       "    </tr>\n",
       "  </tbody>\n",
       "</table>\n",
       "<p>360 rows × 6 columns</p>\n",
       "</div>"
      ],
      "text/plain": [
       "     true_label  sample_id  predicted_label_1NN  predicted_label_5NN  \\\n",
       "0             0          1                    0                    0   \n",
       "1             0          2                    0                    0   \n",
       "2             0          3                    0                    0   \n",
       "3             0          4                    0                    0   \n",
       "4             0          5                    0                    0   \n",
       "..          ...        ...                  ...                  ...   \n",
       "355           8        891                    8                    8   \n",
       "356           8        893                    8                    8   \n",
       "357           8        895                    8                    8   \n",
       "358           8        896                    8                    8   \n",
       "359           8        898                    8                    8   \n",
       "\n",
       "     predicted_label_AIC  predicted_label_BIC  \n",
       "0                      0                    0  \n",
       "1                      0                    0  \n",
       "2                      0                    0  \n",
       "3                      0                    0  \n",
       "4                      0                    0  \n",
       "..                   ...                  ...  \n",
       "355                    8                    8  \n",
       "356                    8                    8  \n",
       "357                    8                    8  \n",
       "358                    8                    8  \n",
       "359                    8                    8  \n",
       "\n",
       "[360 rows x 6 columns]"
      ]
     },
     "execution_count": 4,
     "metadata": {},
     "output_type": "execute_result"
    }
   ],
   "source": [
    "merged_results_df"
   ]
  },
  {
   "cell_type": "markdown",
   "metadata": {},
   "source": [
    "## Show accuracy and train/test subsets size"
   ]
  },
  {
   "cell_type": "code",
   "execution_count": 5,
   "metadata": {},
   "outputs": [
    {
     "name": "stdout",
     "output_type": "stream",
     "text": [
      "predicted_label_1NN accuracy: 0.9416666666666667\n",
      "predicted_label_5NN accuracy: 0.9111111111111111\n",
      "predicted_label_AIC accuracy: 0.9972222222222222\n",
      "predicted_label_BIC accuracy: 0.9972222222222222\n"
     ]
    }
   ],
   "source": [
    "true = merged_results_df[\"true_label\"]\n",
    "for preds_col in merged_results_df.iloc[:,2:]:\n",
    "    print(f\"{preds_col} accuracy: {utils.accuracy(true, merged_results_df[preds_col])}\")"
   ]
  },
  {
   "cell_type": "code",
   "execution_count": 6,
   "metadata": {},
   "outputs": [
    {
     "name": "stdout",
     "output_type": "stream",
     "text": [
      "{'samples_per_model': 100, 'max_sample_len': 50, 'train_subset_size': 0.6, 'different_lenghts': False}\n"
     ]
    }
   ],
   "source": [
    "data_filename = results_lst[0][\"data_filename\"]\n",
    "with open(data_filename, \"rb\") as f:\n",
    "    data = pickle.load(f)\n",
    "print(data[\"metadata\"])"
   ]
  },
  {
   "cell_type": "markdown",
   "metadata": {},
   "source": [
    "## Find wrong labels"
   ]
  },
  {
   "cell_type": "code",
   "execution_count": 21,
   "metadata": {},
   "outputs": [
    {
     "name": "stdout",
     "output_type": "stream",
     "text": [
      "Ids of 21 misclassified samples in column predicted_label_1NN:\n",
      "[ 33  54  66  85  94 307 308 328 336 339 348 349 351 359 364 380 385 388\n",
      " 395 680 734]\n",
      "Ids of 32 misclassified samples in column predicted_label_5NN:\n",
      "[ 32  33  54  66  67  82  85 307 308 311 317 320 325 326 328 336 339 343\n",
      " 348 349 351 359 364 380 385 386 388 395 396 606 680 737]\n",
      "Ids of 1 misclassified samples in column predicted_label_AIC:\n",
      "[63]\n",
      "Ids of 1 misclassified samples in column predicted_label_BIC:\n",
      "[63]\n"
     ]
    }
   ],
   "source": [
    "wrong_samples = {}\n",
    "for col in utils.find_colnames_with(merged_results_df):\n",
    "    is_wrong = merged_results_df[col] != merged_results_df[\"true_label\"]\n",
    "    ids = np.where(is_wrong)[0]\n",
    "    wrong_samples[col] = merged_results_df.iloc[ids][\"sample_id\"].values\n",
    "\n",
    "for col, ids in wrong_samples.items():\n",
    "    print(f\"Ids of {len(ids)} misclassified samples in column {col}:\")\n",
    "    print(ids)"
   ]
  },
  {
   "cell_type": "markdown",
   "metadata": {},
   "source": [
    "### Plots"
   ]
  }
 ],
 "metadata": {
  "interpreter": {
   "hash": "824dc94f4a21fb2b9b063d5374c6a5be71ea0704887dd3ffa4e3d703212d1775"
  },
  "kernelspec": {
   "display_name": "Python 3.9.12 ('hmm_dtw')",
   "language": "python",
   "name": "python3"
  },
  "language_info": {
   "codemirror_mode": {
    "name": "ipython",
    "version": 3
   },
   "file_extension": ".py",
   "mimetype": "text/x-python",
   "name": "python",
   "nbconvert_exporter": "python",
   "pygments_lexer": "ipython3",
   "version": "3.9.12"
  },
  "orig_nbformat": 4
 },
 "nbformat": 4,
 "nbformat_minor": 2
}

{
 "cells": [
  {
   "cell_type": "markdown",
   "metadata": {},
   "source": [
    "# Compare results"
   ]
  },
  {
   "cell_type": "markdown",
   "metadata": {},
   "source": [
    "## Setup"
   ]
  },
  {
   "cell_type": "code",
   "execution_count": 1,
   "metadata": {},
   "outputs": [],
   "source": [
    "import pandas as pd\n",
    "import numpy as np\n",
    "import pickle \n",
    "from functools import reduce\n",
    "import utils\n",
    "import os\n",
    "\n",
    "RESULTS_DIR = \"results\""
   ]
  },
  {
   "cell_type": "markdown",
   "metadata": {},
   "source": [
    "## Load and merge dataframes with predictions"
   ]
  },
  {
   "cell_type": "code",
   "execution_count": 3,
   "metadata": {},
   "outputs": [
    {
     "name": "stdout",
     "output_type": "stream",
     "text": [
      "Reading data from results/dtw_results_for_HMM_1658502416_00.pkl\n",
      "Reading data from results/hmm_results_for_ARIMA_1658502456_00.pkl\n",
      "Reading data from results/hmm_results_for_HMM_1658502416_00.pkl\n",
      "Reading data from results/dtw_results_for_ARIMA_1658502456_00.pkl\n",
      "dict_keys(['data_filename', 'time_index', 'split_id', 'results_df', 'accuracies', 'total_time'])\n",
      "dict_keys(['data_filename', 'time_index', 'split_id', 'results_df', 'accuracies', 'total_time'])\n",
      "dict_keys(['data_filename', 'time_index', 'split_id', 'results_df', 'accuracies', 'total_time'])\n",
      "dict_keys(['data_filename', 'time_index', 'split_id', 'results_df', 'accuracies', 'total_time'])\n"
     ]
    }
   ],
   "source": [
    "results_lst = []\n",
    "for filename in os.listdir(RESULTS_DIR):\n",
    "    path = f\"{RESULTS_DIR}/{filename}\"\n",
    "    with open(path, \"rb\") as f:\n",
    "        print(f\"Reading data from {path}\")\n",
    "        results_lst.append(pickle.load(f))"
   ]
  },
  {
   "cell_type": "code",
   "execution_count": 6,
   "metadata": {},
   "outputs": [
    {
     "name": "stdout",
     "output_type": "stream",
     "text": [
      "dict_keys(['data_filename', 'time_index', 'split_id', 'results_df', 'accuracies', 'total_time'])\n",
      "dict_keys(['data_filename', 'time_index', 'split_id', 'results_df', 'accuracies', 'total_time'])\n",
      "dict_keys(['data_filename', 'time_index', 'split_id', 'results_df', 'accuracies', 'total_time'])\n",
      "dict_keys(['data_filename', 'time_index', 'split_id', 'results_df', 'accuracies', 'total_time'])\n"
     ]
    }
   ],
   "source": [
    "# Make sure all results are in the same format\n",
    "for r in results_lst:\n",
    "    print(r.keys())"
   ]
  },
  {
   "cell_type": "code",
   "execution_count": 4,
   "metadata": {},
   "outputs": [],
   "source": [
    "df_lst = [r[\"results_df\"] for r in results_lst]\n",
    "merged_results_df = reduce(\n",
    "    lambda df1, df2: pd.merge(\n",
    "                              df1, df2, \n",
    "                              on = [\"sample_id\", \"true_label\", \"sample_len\"], \n",
    "                              how = \"outer\"), \n",
    "                    df_lst)"
   ]
  },
  {
   "cell_type": "code",
   "execution_count": 5,
   "metadata": {},
   "outputs": [
    {
     "data": {
      "text/html": [
       "<div>\n",
       "<style scoped>\n",
       "    .dataframe tbody tr th:only-of-type {\n",
       "        vertical-align: middle;\n",
       "    }\n",
       "\n",
       "    .dataframe tbody tr th {\n",
       "        vertical-align: top;\n",
       "    }\n",
       "\n",
       "    .dataframe thead th {\n",
       "        text-align: right;\n",
       "    }\n",
       "</style>\n",
       "<table border=\"1\" class=\"dataframe\">\n",
       "  <thead>\n",
       "    <tr style=\"text-align: right;\">\n",
       "      <th></th>\n",
       "      <th>sample_id</th>\n",
       "      <th>true_label</th>\n",
       "      <th>sample_len</th>\n",
       "      <th>pred_label_1NN_x</th>\n",
       "      <th>pred_label_5NN_x</th>\n",
       "      <th>pred_AIC_x</th>\n",
       "      <th>pred_BIC_x</th>\n",
       "      <th>pred_AIC_y</th>\n",
       "      <th>pred_BIC_y</th>\n",
       "      <th>pred_label_1NN_y</th>\n",
       "      <th>pred_label_5NN_y</th>\n",
       "    </tr>\n",
       "  </thead>\n",
       "  <tbody>\n",
       "    <tr>\n",
       "      <th>0</th>\n",
       "      <td>0</td>\n",
       "      <td>0</td>\n",
       "      <td>32</td>\n",
       "      <td>0.0</td>\n",
       "      <td>0.0</td>\n",
       "      <td>0.0</td>\n",
       "      <td>0.0</td>\n",
       "      <td>0.0</td>\n",
       "      <td>0.0</td>\n",
       "      <td>0.0</td>\n",
       "      <td>0.0</td>\n",
       "    </tr>\n",
       "    <tr>\n",
       "      <th>1</th>\n",
       "      <td>2</td>\n",
       "      <td>0</td>\n",
       "      <td>20</td>\n",
       "      <td>1.0</td>\n",
       "      <td>0.0</td>\n",
       "      <td>NaN</td>\n",
       "      <td>NaN</td>\n",
       "      <td>0.0</td>\n",
       "      <td>0.0</td>\n",
       "      <td>NaN</td>\n",
       "      <td>NaN</td>\n",
       "    </tr>\n",
       "    <tr>\n",
       "      <th>2</th>\n",
       "      <td>4</td>\n",
       "      <td>0</td>\n",
       "      <td>23</td>\n",
       "      <td>1.0</td>\n",
       "      <td>0.0</td>\n",
       "      <td>NaN</td>\n",
       "      <td>NaN</td>\n",
       "      <td>0.0</td>\n",
       "      <td>0.0</td>\n",
       "      <td>NaN</td>\n",
       "      <td>NaN</td>\n",
       "    </tr>\n",
       "    <tr>\n",
       "      <th>3</th>\n",
       "      <td>5</td>\n",
       "      <td>0</td>\n",
       "      <td>41</td>\n",
       "      <td>0.0</td>\n",
       "      <td>0.0</td>\n",
       "      <td>NaN</td>\n",
       "      <td>NaN</td>\n",
       "      <td>0.0</td>\n",
       "      <td>0.0</td>\n",
       "      <td>NaN</td>\n",
       "      <td>NaN</td>\n",
       "    </tr>\n",
       "    <tr>\n",
       "      <th>4</th>\n",
       "      <td>6</td>\n",
       "      <td>0</td>\n",
       "      <td>20</td>\n",
       "      <td>0.0</td>\n",
       "      <td>0.0</td>\n",
       "      <td>NaN</td>\n",
       "      <td>NaN</td>\n",
       "      <td>1.0</td>\n",
       "      <td>1.0</td>\n",
       "      <td>NaN</td>\n",
       "      <td>NaN</td>\n",
       "    </tr>\n",
       "    <tr>\n",
       "      <th>...</th>\n",
       "      <td>...</td>\n",
       "      <td>...</td>\n",
       "      <td>...</td>\n",
       "      <td>...</td>\n",
       "      <td>...</td>\n",
       "      <td>...</td>\n",
       "      <td>...</td>\n",
       "      <td>...</td>\n",
       "      <td>...</td>\n",
       "      <td>...</td>\n",
       "      <td>...</td>\n",
       "    </tr>\n",
       "    <tr>\n",
       "      <th>506</th>\n",
       "      <td>309</td>\n",
       "      <td>8</td>\n",
       "      <td>50</td>\n",
       "      <td>NaN</td>\n",
       "      <td>NaN</td>\n",
       "      <td>8.0</td>\n",
       "      <td>8.0</td>\n",
       "      <td>NaN</td>\n",
       "      <td>NaN</td>\n",
       "      <td>7.0</td>\n",
       "      <td>7.0</td>\n",
       "    </tr>\n",
       "    <tr>\n",
       "      <th>507</th>\n",
       "      <td>310</td>\n",
       "      <td>8</td>\n",
       "      <td>44</td>\n",
       "      <td>NaN</td>\n",
       "      <td>NaN</td>\n",
       "      <td>7.0</td>\n",
       "      <td>7.0</td>\n",
       "      <td>NaN</td>\n",
       "      <td>NaN</td>\n",
       "      <td>6.0</td>\n",
       "      <td>7.0</td>\n",
       "    </tr>\n",
       "    <tr>\n",
       "      <th>508</th>\n",
       "      <td>312</td>\n",
       "      <td>8</td>\n",
       "      <td>41</td>\n",
       "      <td>NaN</td>\n",
       "      <td>NaN</td>\n",
       "      <td>6.0</td>\n",
       "      <td>6.0</td>\n",
       "      <td>NaN</td>\n",
       "      <td>NaN</td>\n",
       "      <td>6.0</td>\n",
       "      <td>6.0</td>\n",
       "    </tr>\n",
       "    <tr>\n",
       "      <th>509</th>\n",
       "      <td>313</td>\n",
       "      <td>8</td>\n",
       "      <td>35</td>\n",
       "      <td>NaN</td>\n",
       "      <td>NaN</td>\n",
       "      <td>8.0</td>\n",
       "      <td>8.0</td>\n",
       "      <td>NaN</td>\n",
       "      <td>NaN</td>\n",
       "      <td>8.0</td>\n",
       "      <td>8.0</td>\n",
       "    </tr>\n",
       "    <tr>\n",
       "      <th>510</th>\n",
       "      <td>314</td>\n",
       "      <td>8</td>\n",
       "      <td>26</td>\n",
       "      <td>NaN</td>\n",
       "      <td>NaN</td>\n",
       "      <td>6.0</td>\n",
       "      <td>6.0</td>\n",
       "      <td>NaN</td>\n",
       "      <td>NaN</td>\n",
       "      <td>7.0</td>\n",
       "      <td>2.0</td>\n",
       "    </tr>\n",
       "  </tbody>\n",
       "</table>\n",
       "<p>511 rows × 11 columns</p>\n",
       "</div>"
      ],
      "text/plain": [
       "     sample_id  true_label  sample_len  pred_label_1NN_x  pred_label_5NN_x  \\\n",
       "0            0           0          32               0.0               0.0   \n",
       "1            2           0          20               1.0               0.0   \n",
       "2            4           0          23               1.0               0.0   \n",
       "3            5           0          41               0.0               0.0   \n",
       "4            6           0          20               0.0               0.0   \n",
       "..         ...         ...         ...               ...               ...   \n",
       "506        309           8          50               NaN               NaN   \n",
       "507        310           8          44               NaN               NaN   \n",
       "508        312           8          41               NaN               NaN   \n",
       "509        313           8          35               NaN               NaN   \n",
       "510        314           8          26               NaN               NaN   \n",
       "\n",
       "     pred_AIC_x  pred_BIC_x  pred_AIC_y  pred_BIC_y  pred_label_1NN_y  \\\n",
       "0           0.0         0.0         0.0         0.0               0.0   \n",
       "1           NaN         NaN         0.0         0.0               NaN   \n",
       "2           NaN         NaN         0.0         0.0               NaN   \n",
       "3           NaN         NaN         0.0         0.0               NaN   \n",
       "4           NaN         NaN         1.0         1.0               NaN   \n",
       "..          ...         ...         ...         ...               ...   \n",
       "506         8.0         8.0         NaN         NaN               7.0   \n",
       "507         7.0         7.0         NaN         NaN               6.0   \n",
       "508         6.0         6.0         NaN         NaN               6.0   \n",
       "509         8.0         8.0         NaN         NaN               8.0   \n",
       "510         6.0         6.0         NaN         NaN               7.0   \n",
       "\n",
       "     pred_label_5NN_y  \n",
       "0                 0.0  \n",
       "1                 NaN  \n",
       "2                 NaN  \n",
       "3                 NaN  \n",
       "4                 NaN  \n",
       "..                ...  \n",
       "506               7.0  \n",
       "507               7.0  \n",
       "508               6.0  \n",
       "509               8.0  \n",
       "510               2.0  \n",
       "\n",
       "[511 rows x 11 columns]"
      ]
     },
     "execution_count": 5,
     "metadata": {},
     "output_type": "execute_result"
    }
   ],
   "source": [
    "merged_results_df"
   ]
  },
  {
   "cell_type": "markdown",
   "metadata": {},
   "source": [
    "## Show accuracy and train/test subsets size"
   ]
  },
  {
   "cell_type": "code",
   "execution_count": null,
   "metadata": {},
   "outputs": [],
   "source": [
    "for r in results_lst:\n",
    "    for lab, acc in r[\"accuracies\"].items():\n",
    "        print(f\"{lab} accuracy: {acc:.3f}\")"
   ]
  },
  {
   "cell_type": "code",
   "execution_count": null,
   "metadata": {},
   "outputs": [],
   "source": [
    "data_filename = results_lst[0][\"data_filename\"]\n",
    "with open(data_filename, \"rb\") as f:\n",
    "    data = pickle.load(f)\n",
    "print(data[\"metadata\"])"
   ]
  },
  {
   "cell_type": "markdown",
   "metadata": {},
   "source": [
    "## Find wrong labels"
   ]
  },
  {
   "cell_type": "code",
   "execution_count": null,
   "metadata": {},
   "outputs": [],
   "source": [
    "wrong_samples = {}\n",
    "for col in utils.find_colnames_with(merged_results_df):\n",
    "    is_wrong = merged_results_df[col] != merged_results_df[\"true_label\"]\n",
    "    ids = np.where(is_wrong)[0]\n",
    "    wrong_samples[col] = sorted(merged_results_df.iloc[ids][\"sample_id\"].values)\n",
    "\n",
    "for col, ids in wrong_samples.items():\n",
    "    print(f\"Ids of {len(ids)} misclassified samples in column {col}:\")\n",
    "    print(ids)"
   ]
  },
  {
   "cell_type": "markdown",
   "metadata": {},
   "source": [
    "### Plots"
   ]
  }
 ],
 "metadata": {
  "interpreter": {
   "hash": "824dc94f4a21fb2b9b063d5374c6a5be71ea0704887dd3ffa4e3d703212d1775"
  },
  "kernelspec": {
   "display_name": "Python 3.9.12 ('hmm_dtw')",
   "language": "python",
   "name": "python3"
  },
  "language_info": {
   "codemirror_mode": {
    "name": "ipython",
    "version": 3
   },
   "file_extension": ".py",
   "mimetype": "text/x-python",
   "name": "python",
   "nbconvert_exporter": "python",
   "pygments_lexer": "ipython3",
   "version": "3.9.12"
  },
  "orig_nbformat": 4
 },
 "nbformat": 4,
 "nbformat_minor": 2
}

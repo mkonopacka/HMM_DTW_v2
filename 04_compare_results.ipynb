{
 "cells": [
  {
   "cell_type": "markdown",
   "metadata": {},
   "source": [
    "# Compare results"
   ]
  },
  {
   "cell_type": "markdown",
   "metadata": {},
   "source": [
    "## Setup"
   ]
  },
  {
   "cell_type": "code",
   "execution_count": 8,
   "metadata": {},
   "outputs": [],
   "source": [
    "import pandas as pd\n",
    "import numpy as np\n",
    "import pickle \n",
    "from functools import reduce\n",
    "import utils\n",
    "import os\n",
    "\n",
    "RESULTS_DIR = \"results\""
   ]
  },
  {
   "cell_type": "markdown",
   "metadata": {},
   "source": [
    "## Load and merge dataframes with predictions"
   ]
  },
  {
   "cell_type": "code",
   "execution_count": 9,
   "metadata": {},
   "outputs": [
    {
     "name": "stdout",
     "output_type": "stream",
     "text": [
      "Reading data from results/dtw_results_1658228687_00.pkl\n",
      "Reading data from results/hmm_results_1658228687_00.pkl\n"
     ]
    },
    {
     "data": {
      "text/plain": [
       "dict_keys(['data_filename', 'time_index', 'split_id', 'results_df', 'accuracies', 'total_time'])"
      ]
     },
     "execution_count": 9,
     "metadata": {},
     "output_type": "execute_result"
    }
   ],
   "source": [
    "results_lst = []\n",
    "for filename in os.listdir(RESULTS_DIR):\n",
    "    path = f\"{RESULTS_DIR}/{filename}\"\n",
    "    with open(path, \"rb\") as f:\n",
    "        print(f\"Reading data from {path}\")\n",
    "        results_lst.append(pickle.load(f))\n",
    "\n",
    "results_lst[0].keys()"
   ]
  },
  {
   "cell_type": "code",
   "execution_count": 10,
   "metadata": {},
   "outputs": [],
   "source": [
    "df_lst = [r[\"results_df\"] for r in results_lst]\n",
    "merged_results_df = reduce(\n",
    "    lambda df1, df2: pd.merge(\n",
    "                              df1, df2, \n",
    "                              on = [\"sample_id\", \"true_label\", \"sample_len\"], \n",
    "                              how = \"outer\"), \n",
    "                    df_lst)"
   ]
  },
  {
   "cell_type": "code",
   "execution_count": 11,
   "metadata": {},
   "outputs": [
    {
     "data": {
      "text/html": [
       "<div>\n",
       "<style scoped>\n",
       "    .dataframe tbody tr th:only-of-type {\n",
       "        vertical-align: middle;\n",
       "    }\n",
       "\n",
       "    .dataframe tbody tr th {\n",
       "        vertical-align: top;\n",
       "    }\n",
       "\n",
       "    .dataframe thead th {\n",
       "        text-align: right;\n",
       "    }\n",
       "</style>\n",
       "<table border=\"1\" class=\"dataframe\">\n",
       "  <thead>\n",
       "    <tr style=\"text-align: right;\">\n",
       "      <th></th>\n",
       "      <th>sample_id</th>\n",
       "      <th>true_label</th>\n",
       "      <th>sample_len</th>\n",
       "      <th>pred_label_1NN</th>\n",
       "      <th>pred_label_5NN</th>\n",
       "      <th>pred_AIC</th>\n",
       "      <th>pred_BIC</th>\n",
       "    </tr>\n",
       "  </thead>\n",
       "  <tbody>\n",
       "    <tr>\n",
       "      <th>0</th>\n",
       "      <td>0</td>\n",
       "      <td>0</td>\n",
       "      <td>32</td>\n",
       "      <td>0</td>\n",
       "      <td>0</td>\n",
       "      <td>0</td>\n",
       "      <td>0</td>\n",
       "    </tr>\n",
       "    <tr>\n",
       "      <th>1</th>\n",
       "      <td>1</td>\n",
       "      <td>0</td>\n",
       "      <td>20</td>\n",
       "      <td>0</td>\n",
       "      <td>0</td>\n",
       "      <td>0</td>\n",
       "      <td>0</td>\n",
       "    </tr>\n",
       "    <tr>\n",
       "      <th>2</th>\n",
       "      <td>2</td>\n",
       "      <td>0</td>\n",
       "      <td>20</td>\n",
       "      <td>0</td>\n",
       "      <td>0</td>\n",
       "      <td>0</td>\n",
       "      <td>0</td>\n",
       "    </tr>\n",
       "    <tr>\n",
       "      <th>3</th>\n",
       "      <td>3</td>\n",
       "      <td>0</td>\n",
       "      <td>23</td>\n",
       "      <td>0</td>\n",
       "      <td>0</td>\n",
       "      <td>1</td>\n",
       "      <td>1</td>\n",
       "    </tr>\n",
       "    <tr>\n",
       "      <th>4</th>\n",
       "      <td>4</td>\n",
       "      <td>0</td>\n",
       "      <td>26</td>\n",
       "      <td>0</td>\n",
       "      <td>0</td>\n",
       "      <td>0</td>\n",
       "      <td>0</td>\n",
       "    </tr>\n",
       "    <tr>\n",
       "      <th>...</th>\n",
       "      <td>...</td>\n",
       "      <td>...</td>\n",
       "      <td>...</td>\n",
       "      <td>...</td>\n",
       "      <td>...</td>\n",
       "      <td>...</td>\n",
       "      <td>...</td>\n",
       "    </tr>\n",
       "    <tr>\n",
       "      <th>265</th>\n",
       "      <td>310</td>\n",
       "      <td>8</td>\n",
       "      <td>23</td>\n",
       "      <td>8</td>\n",
       "      <td>8</td>\n",
       "      <td>8</td>\n",
       "      <td>8</td>\n",
       "    </tr>\n",
       "    <tr>\n",
       "      <th>266</th>\n",
       "      <td>311</td>\n",
       "      <td>8</td>\n",
       "      <td>29</td>\n",
       "      <td>8</td>\n",
       "      <td>8</td>\n",
       "      <td>8</td>\n",
       "      <td>8</td>\n",
       "    </tr>\n",
       "    <tr>\n",
       "      <th>267</th>\n",
       "      <td>312</td>\n",
       "      <td>8</td>\n",
       "      <td>38</td>\n",
       "      <td>8</td>\n",
       "      <td>8</td>\n",
       "      <td>8</td>\n",
       "      <td>8</td>\n",
       "    </tr>\n",
       "    <tr>\n",
       "      <th>268</th>\n",
       "      <td>313</td>\n",
       "      <td>8</td>\n",
       "      <td>44</td>\n",
       "      <td>8</td>\n",
       "      <td>8</td>\n",
       "      <td>8</td>\n",
       "      <td>8</td>\n",
       "    </tr>\n",
       "    <tr>\n",
       "      <th>269</th>\n",
       "      <td>314</td>\n",
       "      <td>8</td>\n",
       "      <td>23</td>\n",
       "      <td>8</td>\n",
       "      <td>8</td>\n",
       "      <td>8</td>\n",
       "      <td>8</td>\n",
       "    </tr>\n",
       "  </tbody>\n",
       "</table>\n",
       "<p>270 rows × 7 columns</p>\n",
       "</div>"
      ],
      "text/plain": [
       "     sample_id  true_label  sample_len  pred_label_1NN  pred_label_5NN  \\\n",
       "0            0           0          32               0               0   \n",
       "1            1           0          20               0               0   \n",
       "2            2           0          20               0               0   \n",
       "3            3           0          23               0               0   \n",
       "4            4           0          26               0               0   \n",
       "..         ...         ...         ...             ...             ...   \n",
       "265        310           8          23               8               8   \n",
       "266        311           8          29               8               8   \n",
       "267        312           8          38               8               8   \n",
       "268        313           8          44               8               8   \n",
       "269        314           8          23               8               8   \n",
       "\n",
       "     pred_AIC  pred_BIC  \n",
       "0           0         0  \n",
       "1           0         0  \n",
       "2           0         0  \n",
       "3           1         1  \n",
       "4           0         0  \n",
       "..        ...       ...  \n",
       "265         8         8  \n",
       "266         8         8  \n",
       "267         8         8  \n",
       "268         8         8  \n",
       "269         8         8  \n",
       "\n",
       "[270 rows x 7 columns]"
      ]
     },
     "execution_count": 11,
     "metadata": {},
     "output_type": "execute_result"
    }
   ],
   "source": [
    "merged_results_df"
   ]
  },
  {
   "cell_type": "markdown",
   "metadata": {},
   "source": [
    "## Show accuracy and train/test subsets size"
   ]
  },
  {
   "cell_type": "code",
   "execution_count": 12,
   "metadata": {},
   "outputs": [
    {
     "name": "stdout",
     "output_type": "stream",
     "text": [
      "pred_label_1NN accuracy: 0.819\n",
      "pred_label_5NN accuracy: 0.800\n",
      "pred_AIC accuracy: 0.970\n",
      "pred_BIC accuracy: 0.967\n"
     ]
    }
   ],
   "source": [
    "for r in results_lst:\n",
    "    for lab, acc in r[\"accuracies\"].items():\n",
    "        print(f\"{lab} accuracy: {acc:.3f}\")"
   ]
  },
  {
   "cell_type": "code",
   "execution_count": 13,
   "metadata": {},
   "outputs": [
    {
     "name": "stdout",
     "output_type": "stream",
     "text": [
      "{'N_TRAIN_SAMPLES_PER_MODEL': 5, 'N_TEST_SAMPLES_PER_MODEL': 30, 'MAX_SAMPLE_LEN': 50, 'MIN_SAMPLE_LEN': 20}\n"
     ]
    }
   ],
   "source": [
    "data_filename = results_lst[0][\"data_filename\"]\n",
    "with open(data_filename, \"rb\") as f:\n",
    "    data = pickle.load(f)\n",
    "print(data[\"metadata\"])"
   ]
  },
  {
   "cell_type": "markdown",
   "metadata": {},
   "source": [
    "## Find wrong labels"
   ]
  },
  {
   "cell_type": "code",
   "execution_count": 14,
   "metadata": {},
   "outputs": [
    {
     "name": "stdout",
     "output_type": "stream",
     "text": [
      "Ids of 49 misclassified samples in column pred_label_1NN:\n",
      "[6, 11, 13, 21, 28, 34, 37, 40, 41, 46, 47, 105, 107, 108, 109, 110, 112, 113, 114, 115, 116, 117, 118, 120, 121, 122, 124, 125, 127, 128, 129, 130, 131, 132, 133, 136, 137, 138, 139, 211, 241, 243, 249, 250, 251, 252, 256, 267, 278]\n",
      "Ids of 54 misclassified samples in column pred_label_5NN:\n",
      "[30, 34, 37, 38, 40, 41, 45, 46, 47, 49, 55, 61, 100, 102, 105, 107, 108, 109, 110, 111, 112, 113, 114, 115, 116, 117, 118, 120, 121, 122, 124, 125, 127, 128, 129, 130, 131, 132, 133, 136, 137, 138, 139, 211, 222, 241, 249, 250, 252, 260, 267, 276, 277, 278]\n",
      "Ids of 8 misclassified samples in column pred_AIC:\n",
      "[3, 13, 15, 28, 30, 252, 263, 265]\n",
      "Ids of 9 misclassified samples in column pred_BIC:\n",
      "[3, 13, 15, 16, 28, 30, 252, 263, 265]\n"
     ]
    }
   ],
   "source": [
    "wrong_samples = {}\n",
    "for col in utils.find_colnames_with(merged_results_df):\n",
    "    is_wrong = merged_results_df[col] != merged_results_df[\"true_label\"]\n",
    "    ids = np.where(is_wrong)[0]\n",
    "    wrong_samples[col] = sorted(merged_results_df.iloc[ids][\"sample_id\"].values)\n",
    "\n",
    "for col, ids in wrong_samples.items():\n",
    "    print(f\"Ids of {len(ids)} misclassified samples in column {col}:\")\n",
    "    print(ids)"
   ]
  },
  {
   "cell_type": "markdown",
   "metadata": {},
   "source": [
    "### Plots"
   ]
  }
 ],
 "metadata": {
  "interpreter": {
   "hash": "824dc94f4a21fb2b9b063d5374c6a5be71ea0704887dd3ffa4e3d703212d1775"
  },
  "kernelspec": {
   "display_name": "Python 3.9.12 ('hmm_dtw')",
   "language": "python",
   "name": "python3"
  },
  "language_info": {
   "codemirror_mode": {
    "name": "ipython",
    "version": 3
   },
   "file_extension": ".py",
   "mimetype": "text/x-python",
   "name": "python",
   "nbconvert_exporter": "python",
   "pygments_lexer": "ipython3",
   "version": "3.9.12"
  },
  "orig_nbformat": 4
 },
 "nbformat": 4,
 "nbformat_minor": 2
}

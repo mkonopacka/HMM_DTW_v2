{
 "cells": [
  {
   "cell_type": "markdown",
   "metadata": {},
   "source": [
    "# Toy example from the book\n",
    "- hidden states {HOT(1), COLD (2)} -> {0, 1}\n",
    "- observable states: {1, 2, 3} -> {0, 1, 2}"
   ]
  },
  {
   "cell_type": "code",
   "execution_count": 1,
   "metadata": {},
   "outputs": [],
   "source": [
    "import pandas as pd\n",
    "import numpy as np\n",
    "from hmmlearn import hmm\n",
    "import math\n",
    "import matplotlib.pyplot as plt"
   ]
  },
  {
   "cell_type": "code",
   "execution_count": 2,
   "metadata": {},
   "outputs": [],
   "source": [
    "# model with discrete emissions\n",
    "toy_model = hmm.MultinomialHMM(n_components = 2)\n",
    "\n",
    "# (n_components,) = (2,)\n",
    "toy_model.startprob_ = np.array([0.8, 0.2])\n",
    "\n",
    "# (n_components, n_components) = (2,2)\n",
    "toy_model.transmat_ = np.array([[0.6, 0.4],\n",
    "                                [0.5, 0.5]])\n",
    "\n",
    "# (n_components, n_features) = (2,3)\n",
    "toy_model.emissionprob_ = np.array([[0.2, 0.4, 0.4],\n",
    "                                    [0.5, 0.4, 0.1]])"
   ]
  },
  {
   "cell_type": "code",
   "execution_count": 3,
   "metadata": {},
   "outputs": [
    {
     "name": "stdout",
     "output_type": "stream",
     "text": [
      "(10, 1) (10,)\n",
      "[0 2 1 2 0 2 1 2 0 0]\n",
      "[0 0 1 1 0 0 1 0 1 1]\n"
     ]
    }
   ],
   "source": [
    "# Example of sampling\n",
    "X, Z = toy_model.sample(10)\n",
    "print(X.shape, Z.shape)\n",
    "print(X.reshape(-1))\n",
    "print(Z)"
   ]
  },
  {
   "cell_type": "markdown",
   "metadata": {},
   "source": [
    "## Forward algorithm"
   ]
  },
  {
   "cell_type": "code",
   "execution_count": 5,
   "metadata": {},
   "outputs": [
    {
     "name": "stdout",
     "output_type": "stream",
     "text": [
      "Log-likelihood and likelihood ----\n",
      "model.score:\n",
      "-2.212744388994256 \n",
      " 0.1094\n",
      "by hand:\n",
      "-2.212744388994256 \n",
      " 0.1094\n"
     ]
    }
   ],
   "source": [
    "# Score sample: Forward algorithm\n",
    "toy_X = np.array([[2],[0]]) # (3, 1) -> (2, 0)\n",
    "loglik = toy_model.score(toy_X)\n",
    "print(\"Log-likelihood and likelihood ----\")\n",
    "print(\"model.score:\")\n",
    "print(loglik, \"\\n\", np.exp(loglik))\n",
    "\n",
    "# Likelihood by hand:\n",
    "lik = 0.0404 + 0.069\n",
    "print(\"by hand:\")\n",
    "print(math.log(lik), \"\\n\", lik)\n"
   ]
  }
 ],
 "metadata": {
  "interpreter": {
   "hash": "824dc94f4a21fb2b9b063d5374c6a5be71ea0704887dd3ffa4e3d703212d1775"
  },
  "kernelspec": {
   "display_name": "Python 3.9.12 ('hmm_dtw')",
   "language": "python",
   "name": "python3"
  },
  "language_info": {
   "codemirror_mode": {
    "name": "ipython",
    "version": 3
   },
   "file_extension": ".py",
   "mimetype": "text/x-python",
   "name": "python",
   "nbconvert_exporter": "python",
   "pygments_lexer": "ipython3",
   "version": "3.9.12"
  },
  "orig_nbformat": 4
 },
 "nbformat": 4,
 "nbformat_minor": 2
}

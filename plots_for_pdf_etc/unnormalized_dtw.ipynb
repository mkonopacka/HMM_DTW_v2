{
 "cells": [
  {
   "cell_type": "code",
   "execution_count": 4,
   "metadata": {},
   "outputs": [
    {
     "data": {
      "image/png": "[encoded data removed]",
      "text/plain": [
       "<Figure size 432x288 with 3 Axes>"
      ]
     },
     "metadata": {
      "needs_background": "light"
     },
     "output_type": "display_data"
    }
   ],
   "source": [
    "import numpy as np\n",
    "import dtw\n",
    "import matplotlib.pyplot as plt\n",
    "\n",
    "mul = 10\n",
    "X = np.array([2,1,2,1,2,1,2,1])\n",
    "Y = np.array([1,1,1,1,1,1,1,1]) - 0.1\n",
    "Z = np.array([mul*[x + 0.1] for x in X]).reshape(-1)\n",
    "xs_Z = np.array(range(len(Z)))\n",
    "xs_XY = xs_Z[::mul]\n",
    "Z = Z[:-(mul-1)]\n",
    "xs_Z = xs_Z[:-(mul-1)]\n",
    "xs = [xs_XY, xs_XY, xs_Z]\n",
    "ys = [X,Y,Z]\n",
    "names = [\"X\", \"Y\", \"Z\"]\n",
    "\n",
    "fig,ax = plt.subplots(3,1, sharex = True, sharey = True)\n",
    "for i in [0,1,2]:\n",
    "    ax[i].scatter(xs[i], ys[i], color = \"black\", s = 1.5)\n",
    "    ax[i].plot(xs[i], ys[i], color = \"black\", lw = 1)\n",
    "    ax[i].set_ylim(0.5, 2.5)\n",
    "    ax[i].xaxis.set_ticklabels([])\n",
    "    ax[i].text(1, 1, names[i])\n",
    "\n",
    "plt.savefig(\"./unnormalized_dtw.png\")\n",
    "plt.show()"
   ]
  },
  {
   "cell_type": "code",
   "execution_count": 2,
   "metadata": {},
   "outputs": [
    {
     "name": "stdout",
     "output_type": "stream",
     "text": [
      "dtw(X,Y):  {'d_un': 5.5, 'd_no': 0.34, 'len': 15}\n",
      "dtw(X,Z):  {'d_un': 7.8, 'd_no': 0.1, 'len': 71}\n"
     ]
    }
   ],
   "source": [
    "xy = dtw.dtw(X,Y)\n",
    "xz = dtw.dtw(X,Z)\n",
    "\n",
    "def summary(dtw_):\n",
    "    return {\n",
    "        \"d_un\": round(dtw_.distance, 2),\n",
    "        \"d_no\": round(dtw_.normalizedDistance, 2),\n",
    "        \"len\": len(dtw_.index1)}\n",
    "\n",
    "print(\"dtw(X,Y): \", summary(xy))\n",
    "print(\"dtw(X,Z): \", summary(xz))\n",
    "# xz.distance/len(xz.stepsTaken) - xz.normalizedDistance\n",
    "# xz.__dict__"
   ]
  },
  {
   "cell_type": "code",
   "execution_count": 9,
   "metadata": {},
   "outputs": [
    {
     "data": {
      "text/plain": [
       "0.0"
      ]
     },
     "execution_count": 9,
     "metadata": {},
     "output_type": "execute_result"
    }
   ],
   "source": [
    "xy.distance/(xy.N + xy.M) - xy.normalizedDistance"
   ]
  }
 ],
 "metadata": {
  "interpreter": {
   "hash": "824dc94f4a21fb2b9b063d5374c6a5be71ea0704887dd3ffa4e3d703212d1775"
  },
  "kernelspec": {
   "display_name": "Python 3.9.12 ('hmm_dtw')",
   "language": "python",
   "name": "python3"
  },
  "language_info": {
   "codemirror_mode": {
    "name": "ipython",
    "version": 3
   },
   "file_extension": ".py",
   "mimetype": "text/x-python",
   "name": "python",
   "nbconvert_exporter": "python",
   "pygments_lexer": "ipython3",
   "version": "3.9.12"
  },
  "orig_nbformat": 4
 },
 "nbformat": 4,
 "nbformat_minor": 2
}

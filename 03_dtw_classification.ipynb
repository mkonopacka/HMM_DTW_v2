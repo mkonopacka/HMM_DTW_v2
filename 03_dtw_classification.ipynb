{
 "cells": [
  {
   "cell_type": "markdown",
   "metadata": {},
   "source": [
    "# Classification with Dynamic Time Warping"
   ]
  },
  {
   "cell_type": "markdown",
   "metadata": {},
   "source": [
    "## Setup"
   ]
  },
  {
   "cell_type": "code",
   "execution_count": 43,
   "metadata": {},
   "outputs": [],
   "source": [
    "import pandas as pd\n",
    "import numpy as np\n",
    "import pickle\n",
    "from sklearn.metrics import confusion_matrix\n",
    "import matplotlib.pyplot as plt\n",
    "import seaborn as sns\n",
    "import dtw\n",
    "from statistics import mode\n",
    "import utils\n",
    "\n",
    "DATA_PICKLE_FILE = \"./data/generated_data_1658166668.pkl\"\n",
    "SPLIT_ID = 0"
   ]
  },
  {
   "cell_type": "markdown",
   "metadata": {},
   "source": [
    "## Load data"
   ]
  },
  {
   "cell_type": "code",
   "execution_count": 2,
   "metadata": {},
   "outputs": [
    {
     "data": {
      "text/plain": [
       "dict_keys(['data_filename', 'time_index', 'models_lst', 'labels_df', 'all_X_samples', 'all_Z_samples', 'indices_splits_lst'])"
      ]
     },
     "execution_count": 2,
     "metadata": {},
     "output_type": "execute_result"
    }
   ],
   "source": [
    "with open(DATA_PICKLE_FILE, \"rb\") as f:\n",
    "    data = pickle.load(f)\n",
    "\n",
    "data.keys()"
   ]
  },
  {
   "cell_type": "code",
   "execution_count": 3,
   "metadata": {},
   "outputs": [
    {
     "name": "stdout",
     "output_type": "stream",
     "text": [
      "Number of created splits: 1.\n"
     ]
    }
   ],
   "source": [
    "indices_splits_lst = data[\"indices_splits_lst\"]\n",
    "print(f\"Number of created splits: {len(indices_splits_lst)}.\")"
   ]
  },
  {
   "cell_type": "code",
   "execution_count": 4,
   "metadata": {},
   "outputs": [],
   "source": [
    "all_X_samples = data[\"all_X_samples\"]\n",
    "labels_df = data[\"labels_df\"]\n",
    "current_split = indices_splits_lst[SPLIT_ID]\n",
    "train_samples_ids = current_split[\"train_samples_ids\"]\n",
    "test_samples_ids = current_split[\"test_samples_ids\"]"
   ]
  },
  {
   "cell_type": "markdown",
   "metadata": {},
   "source": [
    "## Classify test samples with DTW\n",
    "For each test sample find DTW distance to all samples in train subset and classify as the closest one's label."
   ]
  },
  {
   "cell_type": "code",
   "execution_count": 39,
   "metadata": {},
   "outputs": [],
   "source": [
    "# TODO try cross-validation to choose better k\n",
    "def classify_sample(X: np.ndarray, train_samples: list[np.ndarray], train_labels: list[int], k: int = 1) -> int:\n",
    "    \"\"\"Classify a sample using DTW with k-NN based on samples in `train_samples`.\"\"\"\n",
    "    if k >= len(train_samples):\n",
    "        raise ValueError(\"k >= number of train examples doesn't make sense in KNN-classifier.\")\n",
    "    distances = []\n",
    "    for Y in train_samples:\n",
    "        normalized_dist = dtw.dtw(X, Y, distance_only= True).normalizedDistance\n",
    "        distances.append(normalized_dist)\n",
    "    first_k = np.argsort(distances)[:k] # TODO optimize\n",
    "    return(mode(train_labels[first_k]))"
   ]
  },
  {
   "cell_type": "code",
   "execution_count": 21,
   "metadata": {},
   "outputs": [],
   "source": [
    "train_df = labels_df.loc[train_samples_ids]\n",
    "train_ids = train_df.index.values.astype('int')\n",
    "train_samples = [all_X_samples[id] for id in train_ids]\n",
    "train_labels = train_df[\"true_label\"].values\n",
    "\n",
    "test_df = labels_df.loc[test_samples_ids]\n",
    "test_ids = test_df.index.values.astype('int')\n",
    "test_samples = [all_X_samples[id] for id in test_ids]"
   ]
  },
  {
   "cell_type": "code",
   "execution_count": 40,
   "metadata": {},
   "outputs": [
    {
     "data": {
      "text/html": [
       "<div>\n",
       "<style scoped>\n",
       "    .dataframe tbody tr th:only-of-type {\n",
       "        vertical-align: middle;\n",
       "    }\n",
       "\n",
       "    .dataframe tbody tr th {\n",
       "        vertical-align: top;\n",
       "    }\n",
       "\n",
       "    .dataframe thead th {\n",
       "        text-align: right;\n",
       "    }\n",
       "</style>\n",
       "<table border=\"1\" class=\"dataframe\">\n",
       "  <thead>\n",
       "    <tr style=\"text-align: right;\">\n",
       "      <th></th>\n",
       "      <th>true_label</th>\n",
       "      <th>predicted_label_1NN</th>\n",
       "      <th>predicted_label_5NN</th>\n",
       "    </tr>\n",
       "  </thead>\n",
       "  <tbody>\n",
       "    <tr>\n",
       "      <th>0</th>\n",
       "      <td>0</td>\n",
       "      <td>0</td>\n",
       "      <td>1</td>\n",
       "    </tr>\n",
       "    <tr>\n",
       "      <th>1</th>\n",
       "      <td>0</td>\n",
       "      <td>0</td>\n",
       "      <td>0</td>\n",
       "    </tr>\n",
       "    <tr>\n",
       "      <th>2</th>\n",
       "      <td>0</td>\n",
       "      <td>0</td>\n",
       "      <td>0</td>\n",
       "    </tr>\n",
       "    <tr>\n",
       "      <th>3</th>\n",
       "      <td>0</td>\n",
       "      <td>0</td>\n",
       "      <td>0</td>\n",
       "    </tr>\n",
       "    <tr>\n",
       "      <th>4</th>\n",
       "      <td>0</td>\n",
       "      <td>0</td>\n",
       "      <td>0</td>\n",
       "    </tr>\n",
       "  </tbody>\n",
       "</table>\n",
       "</div>"
      ],
      "text/plain": [
       "   true_label  predicted_label_1NN  predicted_label_5NN\n",
       "0           0                    0                    1\n",
       "1           0                    0                    0\n",
       "2           0                    0                    0\n",
       "3           0                    0                    0\n",
       "4           0                    0                    0"
      ]
     },
     "execution_count": 40,
     "metadata": {},
     "output_type": "execute_result"
    }
   ],
   "source": [
    "predictions_1NN = [classify_sample(X, train_samples, train_labels, 1) for X in test_samples]\n",
    "predictions_5NN = [classify_sample(X, train_samples, train_labels, 5) for X in test_samples]\n",
    "predictions_df = pd.DataFrame({\n",
    "    \"predicted_label_1NN\": predictions_1NN,\n",
    "    \"predicted_label_5NN\": predictions_5NN\n",
    "}, index= test_df.index)\n",
    "\n",
    "classification_results = test_df.join(predictions_df)\n",
    "classification_results.head()"
   ]
  },
  {
   "cell_type": "code",
   "execution_count": 41,
   "metadata": {},
   "outputs": [
    {
     "data": {
      "image/png": "[encoded data removed]",
      "text/plain": [
       "<Figure size 1152x576 with 2 Axes>"
      ]
     },
     "metadata": {
      "needs_background": "light"
     },
     "output_type": "display_data"
    }
   ],
   "source": [
    "y_true = classification_results[\"true_label\"]\n",
    "y_pred_1NN = classification_results[\"predicted_label_1NN\"]\n",
    "y_pred_5NN = classification_results[\"predicted_label_5NN\"]\n",
    "\n",
    "cm_1NN = confusion_matrix(y_true, y_pred_1NN)\n",
    "cm_5NN = confusion_matrix(y_true, y_pred_5NN)\n",
    "\n",
    "plt.rcParams[\"figure.figsize\"] = (16, 8)\n",
    "plt.rcParams['font.size'] = 10\n",
    "fig, axes = plt.subplots(ncols = 2)\n",
    "sns.heatmap(cm_1NN, annot=True, fmt='g', ax=axes[0], cbar = False)\n",
    "axes[0].matshow(cm_1NN)\n",
    "axes[0].set_title(\"DTW with 1NN\")\n",
    "sns.heatmap(cm_5NN, annot=True, fmt='g', ax=axes[1], cbar = False)\n",
    "axes[1].matshow(cm_5NN)\n",
    "axes[1].set_title(\"DTW with 5NN\")\n",
    "plt.show()"
   ]
  },
  {
   "cell_type": "code",
   "execution_count": 47,
   "metadata": {},
   "outputs": [
    {
     "name": "stdout",
     "output_type": "stream",
     "text": [
      "predicted_label_1NN accuracy: 0.8756038647342995\n",
      "predicted_label_5NN accuracy: 0.821256038647343\n"
     ]
    }
   ],
   "source": [
    "true = classification_results[\"true_label\"]\n",
    "for preds_col in classification_results.iloc[:,2:]:\n",
    "    print(f\"{preds_col} accuracy: {utils.accuracy(true, classification_results[preds_col])}\")"
   ]
  },
  {
   "cell_type": "code",
   "execution_count": 31,
   "metadata": {},
   "outputs": [
    {
     "name": "stdout",
     "output_type": "stream",
     "text": [
      "Classification results saved to ./results/dtw_results_1657988831_00.pkl.\n"
     ]
    }
   ],
   "source": [
    "time_index = data[\"time_index\"]\n",
    "summary = {\n",
    "    \"data_filename\": DATA_PICKLE_FILE,\n",
    "    \"time_index\": time_index,\n",
    "    \"split_id\": SPLIT_ID,\n",
    "    \"results_df\": classification_results\n",
    "}\n",
    "\n",
    "split_id_str = str(SPLIT_ID)\n",
    "if len(split_id_str) == 1:\n",
    "    split_id_str = \"0\" + split_id_str\n",
    "output_filename = f\"./results/dtw_results_{time_index}_{split_id_str}.pkl\"\n",
    "with open(output_filename, 'wb') as f:\n",
    "    pickle.dump(summary, f)\n",
    "    print(f\"Classification results saved to {output_filename}.\")"
   ]
  }
 ],
 "metadata": {
  "interpreter": {
   "hash": "824dc94f4a21fb2b9b063d5374c6a5be71ea0704887dd3ffa4e3d703212d1775"
  },
  "kernelspec": {
   "display_name": "Python 3.9.12 ('hmm_dtw')",
   "language": "python",
   "name": "python3"
  },
  "language_info": {
   "codemirror_mode": {
    "name": "ipython",
    "version": 3
   },
   "file_extension": ".py",
   "mimetype": "text/x-python",
   "name": "python",
   "nbconvert_exporter": "python",
   "pygments_lexer": "ipython3",
   "version": "3.9.12"
  },
  "orig_nbformat": 4
 },
 "nbformat": 4,
 "nbformat_minor": 2
}

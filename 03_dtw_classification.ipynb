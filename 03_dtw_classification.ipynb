{
 "cells": [
  {
   "cell_type": "markdown",
   "metadata": {},
   "source": [
    "# Classification with Dynamic Time Warping"
   ]
  },
  {
   "cell_type": "markdown",
   "metadata": {},
   "source": [
    "## Setup"
   ]
  },
  {
   "cell_type": "code",
   "execution_count": 1,
   "metadata": {},
   "outputs": [
    {
     "name": "stdout",
     "output_type": "stream",
     "text": [
      "Importing the dtw module. When using in academic works please cite:\n",
      "  T. Giorgino. Computing and Visualizing Dynamic Time Warping Alignments in R: The dtw Package.\n",
      "  J. Stat. Soft., doi:10.18637/jss.v031.i07.\n",
      "\n"
     ]
    }
   ],
   "source": [
    "import pandas as pd\n",
    "import numpy as np\n",
    "import pickle\n",
    "from sklearn.metrics import confusion_matrix\n",
    "import matplotlib.pyplot as plt\n",
    "import seaborn as sns\n",
    "import dtw\n",
    "from statistics import mode\n",
    "import utils\n",
    "from tqdm import tqdm\n",
    "import os\n",
    "import time\n",
    "\n",
    "RESULTS_DIR = \"results_twoPattern\"\n",
    "DATA_PICKLE_FILE = \"data_two_pat/two_pattern_diff_lens.pkl\"\n",
    "CLS_NAME = \"DTW\"\n",
    "SPLIT_ID = 0\n",
    "K_LST = [1,3,5,10,20,30,100] # list of used K, don't change\n",
    "PARTIAL_MATCHES = False         # if True, allow for partial matches"
   ]
  },
  {
   "cell_type": "markdown",
   "metadata": {},
   "source": [
    "## Load data"
   ]
  },
  {
   "cell_type": "code",
   "execution_count": 2,
   "metadata": {},
   "outputs": [
    {
     "data": {
      "text/plain": [
       "dict_keys(['generating_model', 'data_filename', 'time_index', 'models_lst', 'labels_df', 'all_X_samples', 'indices_splits_lst', 'metadata', 'description'])"
      ]
     },
     "execution_count": 2,
     "metadata": {},
     "output_type": "execute_result"
    }
   ],
   "source": [
    "with open(DATA_PICKLE_FILE, \"rb\") as f:\n",
    "    data = pickle.load(f)\n",
    "\n",
    "data.keys()"
   ]
  },
  {
   "cell_type": "code",
   "execution_count": 3,
   "metadata": {},
   "outputs": [
    {
     "name": "stdout",
     "output_type": "stream",
     "text": [
      "{'N_TRAIN_SAMPLES_PER_MODEL': 1000, 'N_TEST_SAMPLES_PER_MODEL': 4000, 'MAX_SAMPLE_LEN': 127, 'MIN_SAMPLE_LEN': 89}\n"
     ]
    }
   ],
   "source": [
    "print(data[\"metadata\"])"
   ]
  },
  {
   "cell_type": "code",
   "execution_count": 4,
   "metadata": {},
   "outputs": [],
   "source": [
    "indices_splits_lst = data[\"indices_splits_lst\"]\n",
    "all_X_samples = data[\"all_X_samples\"]\n",
    "labels_df = data[\"labels_df\"]\n",
    "current_split = indices_splits_lst[SPLIT_ID]\n",
    "train_samples_ids = current_split[\"train_samples_ids\"]\n",
    "test_samples_ids = current_split[\"test_samples_ids\"]"
   ]
  },
  {
   "cell_type": "code",
   "execution_count": 5,
   "metadata": {},
   "outputs": [
    {
     "data": {
      "text/plain": [
       "4000"
      ]
     },
     "execution_count": 5,
     "metadata": {},
     "output_type": "execute_result"
    }
   ],
   "source": [
    "len(current_split[\"test_samples_ids\"])"
   ]
  },
  {
   "cell_type": "markdown",
   "metadata": {},
   "source": [
    "## Classify test samples with DTW\n",
    "For each test sample find DTW distance to all samples in train subset and classify as the closest one's label."
   ]
  },
  {
   "cell_type": "code",
   "execution_count": 6,
   "metadata": {},
   "outputs": [],
   "source": [
    "# TODO try cross-validation to choose better k\n",
    "def classify_sample(X: np.ndarray, train_samples: list[np.ndarray], train_labels: list[int], k_lst: list[int],\n",
    "partial = PARTIAL_MATCHES) -> dict[int, int]:\n",
    "    \"\"\"Classify a sample using DTW with k-NN based on samples in `train_samples` with different values of k.\n",
    "    Returns a mapping k -> returned label. \n",
    "    If `partial` is set to True, partial mapping is found by letting go of connected endpoints \n",
    "    contraint from classic DTW version. Uses default window type and step pattern from dtw library.\"\"\"\n",
    "    results = dict()\n",
    "    distances = []\n",
    "    for Y in train_samples:\n",
    "        dtw_obj = dtw.dtw(X, Y, distance_only= True, open_begin= partial, open_end= partial)\n",
    "        normalized_dist = dtw_obj.normalizedDistance\n",
    "        distances.append(normalized_dist)\n",
    "    sorted_distances = np.argsort(distances)\n",
    "    for k in k_lst:\n",
    "        if k >= len(train_samples):\n",
    "            raise ValueError(\"k >= number of train examples doesn't make sense in KNN-classifier.\")\n",
    "        first_k = sorted_distances[:k]\n",
    "        results[k] = mode(train_labels[first_k])\n",
    "    return results \n"
   ]
  },
  {
   "cell_type": "code",
   "execution_count": 7,
   "metadata": {},
   "outputs": [],
   "source": [
    "train_df = labels_df.loc[train_samples_ids]\n",
    "train_ids = train_df.index.values.astype('int')\n",
    "train_samples = [all_X_samples[id] for id in train_ids]\n",
    "train_labels = train_df[\"true_label\"].values\n",
    "\n",
    "test_df = labels_df.loc[test_samples_ids]\n",
    "test_ids = test_df.index.values.astype('int')\n",
    "test_samples = [all_X_samples[id] for id in test_ids]"
   ]
  },
  {
   "cell_type": "code",
   "execution_count": null,
   "metadata": {},
   "outputs": [],
   "source": [
    "# Remove too small k from k_lst based on train size\n",
    "k_lst = [k for k in K_LST if k <= len(train_samples)]\n",
    "start = time.time()\n",
    "k_to_label_mappings_lst = [\n",
    "    classify_sample(X, train_samples, train_labels, k_lst) \n",
    "    for X in tqdm(test_samples, desc = \"Classifying test samples\")\n",
    "    ]\n",
    "\n",
    "stop = time.time()\n",
    "total_time = stop - start\n",
    "print(f\"Time needed to classify all test samples: {total_time:.2f}s\")"
   ]
  },
  {
   "cell_type": "code",
   "execution_count": 9,
   "metadata": {},
   "outputs": [
    {
     "data": {
      "text/html": [
       "<div>\n",
       "<style scoped>\n",
       "    .dataframe tbody tr th:only-of-type {\n",
       "        vertical-align: middle;\n",
       "    }\n",
       "\n",
       "    .dataframe tbody tr th {\n",
       "        vertical-align: top;\n",
       "    }\n",
       "\n",
       "    .dataframe thead th {\n",
       "        text-align: right;\n",
       "    }\n",
       "</style>\n",
       "<table border=\"1\" class=\"dataframe\">\n",
       "  <thead>\n",
       "    <tr style=\"text-align: right;\">\n",
       "      <th></th>\n",
       "      <th>sample_id</th>\n",
       "      <th>true_label</th>\n",
       "      <th>sample_len</th>\n",
       "      <th>pred</th>\n",
       "    </tr>\n",
       "  </thead>\n",
       "  <tbody>\n",
       "    <tr>\n",
       "      <th>0</th>\n",
       "      <td>0</td>\n",
       "      <td>1</td>\n",
       "      <td>119</td>\n",
       "      <td>1</td>\n",
       "    </tr>\n",
       "    <tr>\n",
       "      <th>1</th>\n",
       "      <td>1</td>\n",
       "      <td>2</td>\n",
       "      <td>92</td>\n",
       "      <td>2</td>\n",
       "    </tr>\n",
       "    <tr>\n",
       "      <th>2</th>\n",
       "      <td>2</td>\n",
       "      <td>0</td>\n",
       "      <td>99</td>\n",
       "      <td>0</td>\n",
       "    </tr>\n",
       "    <tr>\n",
       "      <th>3</th>\n",
       "      <td>3</td>\n",
       "      <td>2</td>\n",
       "      <td>109</td>\n",
       "      <td>0</td>\n",
       "    </tr>\n",
       "    <tr>\n",
       "      <th>4</th>\n",
       "      <td>4</td>\n",
       "      <td>1</td>\n",
       "      <td>108</td>\n",
       "      <td>1</td>\n",
       "    </tr>\n",
       "  </tbody>\n",
       "</table>\n",
       "</div>"
      ],
      "text/plain": [
       "   sample_id  true_label  sample_len  pred\n",
       "0          0           1         119     1\n",
       "1          1           2          92     2\n",
       "2          2           0          99     0\n",
       "3          3           2         109     0\n",
       "4          4           1         108     1"
      ]
     },
     "execution_count": 9,
     "metadata": {},
     "output_type": "execute_result"
    }
   ],
   "source": [
    "predictions_dict = {\n",
    "    k: tuple([d[k] for d in k_to_label_mappings_lst])\n",
    "    for k in k_lst\n",
    "}\n",
    "\n",
    "dfs_dict = {\n",
    "    k: pd.DataFrame({\"pred\": predictions_dict[k]}, index= test_df.index)\n",
    "    for k in k_lst\n",
    "}\n",
    "\n",
    "predictions_dfs = {\n",
    "    f\"{k}NN\": test_df.join(dfs_dict[k])\n",
    "    for k in k_lst\n",
    "}\n",
    "\n",
    "predictions_dfs[\"1NN\"].head()"
   ]
  },
  {
   "cell_type": "code",
   "execution_count": 15,
   "metadata": {},
   "outputs": [
    {
     "data": {
      "image/png": "[encoded data removed]",
      "text/plain": [
       "<Figure size 1080x1080 with 9 Axes>"
      ]
     },
     "metadata": {
      "needs_background": "light"
     },
     "output_type": "display_data"
    }
   ],
   "source": [
    "# how many plots based on # used k values\n",
    "ncols = int(np.ceil(np.sqrt(len(k_lst))))\n",
    "nrows = int(np.ceil(len(k_lst)/ncols))\n",
    "\n",
    "y_true = test_df[\"true_label\"]\n",
    "plt.rcParams[\"figure.figsize\"] = (5*ncols, 5*nrows)\n",
    "plt.rcParams['font.size'] = 3*nrows\n",
    "fig, axes = plt.subplots(ncols = ncols, nrows = nrows)\n",
    "\n",
    "for i,k in enumerate(k_lst):\n",
    "    max_i = i\n",
    "    ax = axes.flat[i]\n",
    "    y_pred = predictions_dfs[f\"{k}NN\"][\"pred\"]\n",
    "    cm = confusion_matrix(y_true, y_pred)\n",
    "    sns.heatmap(cm, annot=True, fmt='g', ax=ax, cbar = False)\n",
    "    ax.matshow(cm)\n",
    "    ax.set_title(f\"DTW with {k}NN\")\n",
    "\n",
    "# hide unused axes\n",
    "for i in range(max_i+1,len(axes.flat)):\n",
    "    axes.flat[i].set_visible(False)\n",
    "\n",
    "plt.tight_layout()\n",
    "plt.show()"
   ]
  },
  {
   "cell_type": "code",
   "execution_count": 11,
   "metadata": {},
   "outputs": [
    {
     "name": "stdout",
     "output_type": "stream",
     "text": [
      "1NN accuracy: 0.9240\n",
      "3NN accuracy: 0.9283\n",
      "5NN accuracy: 0.9295\n",
      "10NN accuracy: 0.9287\n",
      "20NN accuracy: 0.9310\n",
      "30NN accuracy: 0.9280\n",
      "100NN accuracy: 0.9203\n"
     ]
    }
   ],
   "source": [
    "accuracies = dict()\n",
    "for variant, df in predictions_dfs.items():\n",
    "    acc = utils.accuracy(y_true, df[\"pred\"])\n",
    "    accuracies[variant] = acc\n",
    "    print(f\"{variant} accuracy: {acc:.4f}\")"
   ]
  },
  {
   "cell_type": "code",
   "execution_count": 12,
   "metadata": {},
   "outputs": [
    {
     "name": "stdout",
     "output_type": "stream",
     "text": [
      "data_filename: data_two_pat/two_pattern_diff_lens.pkl\n",
      "classificator: DTW\n",
      "time_index: 1661512203\n",
      "split_id: 0\n",
      "predictions_dfs: {'1NN':       sample_id  true_label  sample_len  pred\n",
      "0             0           1         119     1\n",
      "1             1           2          92     2\n",
      "2             2           0          99     0\n",
      "3             3           2         109     0\n",
      "4             4           1         108     1\n",
      "...         ...         ...         ...   ...\n",
      "3995       3995           1         124     1\n",
      "3996       3996           1         124     1\n",
      "3997       3997           1         118     1\n",
      "3998       3998           1         121     1\n",
      "3999       3999           0         125     0\n",
      "\n",
      "[4000 rows x 4 columns], '3NN':       sample_id  true_label  sample_len  pred\n",
      "0             0           1         119     1\n",
      "1             1           2          92     2\n",
      "2             2           0          99     0\n",
      "3             3           2         109     0\n",
      "4             4           1         108     1\n",
      "...         ...         ...         ...   ...\n",
      "3995       3995           1         124     1\n",
      "3996       3996           1         124     1\n",
      "3997       3997           1         118     1\n",
      "3998       3998           1         121     1\n",
      "3999       3999           0         125     0\n",
      "\n",
      "[4000 rows x 4 columns], '5NN':       sample_id  true_label  sample_len  pred\n",
      "0             0           1         119     1\n",
      "1             1           2          92     2\n",
      "2             2           0          99     0\n",
      "3             3           2         109     0\n",
      "4             4           1         108     1\n",
      "...         ...         ...         ...   ...\n",
      "3995       3995           1         124     1\n",
      "3996       3996           1         124     1\n",
      "3997       3997           1         118     1\n",
      "3998       3998           1         121     1\n",
      "3999       3999           0         125     0\n",
      "\n",
      "[4000 rows x 4 columns], '10NN':       sample_id  true_label  sample_len  pred\n",
      "0             0           1         119     1\n",
      "1             1           2          92     2\n",
      "2             2           0          99     0\n",
      "3             3           2         109     0\n",
      "4             4           1         108     1\n",
      "...         ...         ...         ...   ...\n",
      "3995       3995           1         124     1\n",
      "3996       3996           1         124     1\n",
      "3997       3997           1         118     1\n",
      "3998       3998           1         121     1\n",
      "3999       3999           0         125     0\n",
      "\n",
      "[4000 rows x 4 columns], '20NN':       sample_id  true_label  sample_len  pred\n",
      "0             0           1         119     1\n",
      "1             1           2          92     2\n",
      "2             2           0          99     0\n",
      "3             3           2         109     2\n",
      "4             4           1         108     1\n",
      "...         ...         ...         ...   ...\n",
      "3995       3995           1         124     1\n",
      "3996       3996           1         124     1\n",
      "3997       3997           1         118     1\n",
      "3998       3998           1         121     1\n",
      "3999       3999           0         125     0\n",
      "\n",
      "[4000 rows x 4 columns], '30NN':       sample_id  true_label  sample_len  pred\n",
      "0             0           1         119     1\n",
      "1             1           2          92     2\n",
      "2             2           0          99     0\n",
      "3             3           2         109     0\n",
      "4             4           1         108     1\n",
      "...         ...         ...         ...   ...\n",
      "3995       3995           1         124     1\n",
      "3996       3996           1         124     1\n",
      "3997       3997           1         118     1\n",
      "3998       3998           1         121     1\n",
      "3999       3999           0         125     0\n",
      "\n",
      "[4000 rows x 4 columns], '100NN':       sample_id  true_label  sample_len  pred\n",
      "0             0           1         119     1\n",
      "1             1           2          92     2\n",
      "2             2           0          99     0\n",
      "3             3           2         109     0\n",
      "4             4           1         108     1\n",
      "...         ...         ...         ...   ...\n",
      "3995       3995           1         124     1\n",
      "3996       3996           1         124     1\n",
      "3997       3997           1         118     1\n",
      "3998       3998           1         121     1\n",
      "3999       3999           0         125     0\n",
      "\n",
      "[4000 rows x 4 columns]}\n",
      "accuracies: {'1NN': 0.924, '3NN': 0.92825, '5NN': 0.9295, '10NN': 0.92875, '20NN': 0.931, '30NN': 0.928, '100NN': 0.92025}\n",
      "total_time: 1350.4530985355377\n"
     ]
    }
   ],
   "source": [
    "time_index = data[\"time_index\"]\n",
    "summary = {\n",
    "    \"data_filename\": DATA_PICKLE_FILE,\n",
    "    \"classificator\": CLS_NAME,\n",
    "    \"time_index\": time_index,\n",
    "    \"split_id\": SPLIT_ID,\n",
    "    \"predictions_dfs\": predictions_dfs,\n",
    "    \"accuracies\": accuracies,\n",
    "    \"total_time\": total_time\n",
    "}\n",
    "\n",
    "for key, val in summary.items():\n",
    "    print(f\"{key}: {val}\")"
   ]
  },
  {
   "cell_type": "code",
   "execution_count": 13,
   "metadata": {},
   "outputs": [
    {
     "name": "stdout",
     "output_type": "stream",
     "text": [
      "Canceled.\n"
     ]
    }
   ],
   "source": [
    "gen_type = data[\"generating_model\"]\n",
    "split_id_str = str(SPLIT_ID)\n",
    "if len(split_id_str) == 1:\n",
    "    split_id_str = \"0\" + split_id_str\n",
    "\n",
    "output_path = f\"{RESULTS_DIR}/dtw_results_for_{gen_type}_{time_index}_{split_id_str}.pkl\"\n",
    "if os.path.exists(output_path):\n",
    "    inp = input(f\"Classification results {output_path} already exists. Do you want to overwrite it? (y = yes)\")\n",
    "    if inp in [\"y\", \"Y\"]:\n",
    "        with open(output_path, 'wb') as f:\n",
    "                pickle.dump(summary, f)\n",
    "                print(f\"Updated classification results saved to {output_path}.\")\n",
    "    else:\n",
    "        print(\"Canceled.\")\n",
    "else:\n",
    "    with open(output_path, 'wb') as f:\n",
    "        pickle.dump(summary, f)\n",
    "        print(f\"Classification results saved to {output_path}.\")"
   ]
  }
 ],
 "metadata": {
  "interpreter": {
   "hash": "824dc94f4a21fb2b9b063d5374c6a5be71ea0704887dd3ffa4e3d703212d1775"
  },
  "kernelspec": {
   "display_name": "Python 3.9.12 ('hmm_dtw')",
   "language": "python",
   "name": "python3"
  },
  "language_info": {
   "codemirror_mode": {
    "name": "ipython",
    "version": 3
   },
   "file_extension": ".py",
   "mimetype": "text/x-python",
   "name": "python",
   "nbconvert_exporter": "python",
   "pygments_lexer": "ipython3",
   "version": "3.9.12"
  },
  "orig_nbformat": 4
 },
 "nbformat": 4,
 "nbformat_minor": 2
}

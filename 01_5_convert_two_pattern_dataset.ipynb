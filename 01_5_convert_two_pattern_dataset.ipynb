{
 "cells": [
  {
   "cell_type": "markdown",
   "metadata": {},
   "source": [
    "# Load and transform TwoPattern dataset\n",
    "http://timeseriesclassification.com/description.php?Dataset=TwoPatterns"
   ]
  },
  {
   "cell_type": "markdown",
   "metadata": {},
   "source": [
    "## Setup"
   ]
  },
  {
   "cell_type": "code",
   "execution_count": 1,
   "metadata": {},
   "outputs": [],
   "source": [
    "import pandas as pd\n",
    "import numpy as np\n",
    "import matplotlib.pyplot as plt\n",
    "import pickle\n",
    "from time import time\n",
    "from tqdm import tqdm\n",
    "\n",
    "time_index = int(time())\n",
    "\n",
    "DATA_DIR = \"data_two_pattern\"\n",
    "DIFFERENT_LENS = True\n",
    "UNBALANCED = False # if set to unbalanced, samples are shuffled so that data is unbalanced \n",
    "\n",
    "infix = \"dif\" if DIFFERENT_LENS else \"eq\"\n",
    "OUTPUT_FILENAME = f\"two_pattern_{infix}_lens.pkl\"\n",
    "NO_TEST_SAMPLES = 4000 # there are total 5000 samples"
   ]
  },
  {
   "cell_type": "markdown",
   "metadata": {},
   "source": [
    "## Prepare and save dataset"
   ]
  },
  {
   "cell_type": "code",
   "execution_count": 2,
   "metadata": {},
   "outputs": [],
   "source": [
    "converted_lines = []\n",
    "for filename in [\"test.txt\", \"train.txt\"]:\n",
    "    with open (f\"{DATA_DIR}/{filename}\", \"r\") as f:\n",
    "        lines = f.readlines()\n",
    "        for l in lines:\n",
    "            floats = list(map(float, l.split()))\n",
    "            converted_lines.append(floats)\n",
    "\n",
    "sample_ids = list(range(len(converted_lines)))\n",
    "true_labels = [int(X[0])-1 for X in converted_lines] # labels should start from 0\n",
    "all_X_samples = [np.array(X[1:]).reshape(-1,1) for X in converted_lines]\n",
    "\n",
    "# if different lenghts, cut some of samples\n",
    "if DIFFERENT_LENS:\n",
    "    new_samples = []\n",
    "    for X in all_X_samples:\n",
    "        cut = np.random.randint(1,40)\n",
    "        new = X[:-cut]\n",
    "        new_samples.append(new)\n",
    "        if len(new) == 0:\n",
    "            raise Exception\n",
    "    all_X_samples = new_samples # overwrite sample list\n",
    "\n",
    "sample_lengths = [sample.shape[0] for sample in all_X_samples]\n",
    "\n",
    "labels_df = pd.DataFrame({\n",
    "    \"sample_id\": sample_ids,\n",
    "    \"true_label\": true_labels,\n",
    "    \"sample_len\": sample_lengths\n",
    "})"
   ]
  },
  {
   "cell_type": "code",
   "execution_count": 3,
   "metadata": {},
   "outputs": [],
   "source": [
    "test_ids = []\n",
    "train_ids = []\n",
    "\n",
    "if not UNBALANCED:\n",
    "    for label, df in labels_df.groupby(\"true_label\"):\n",
    "        pass\n",
    "    \n",
    "indices_splits_lst = [{\"test_samples_ids\": test_ids, \"train_samples_ids\": train_ids}]"
   ]
  },
  {
   "cell_type": "code",
   "execution_count": 4,
   "metadata": {},
   "outputs": [
    {
     "name": "stdout",
     "output_type": "stream",
     "text": [
      "Data saved to data_two_pattern/two_pattern_dif_lens.pkl.\n"
     ]
    }
   ],
   "source": [
    "output_path = f\"{DATA_DIR}/{OUTPUT_FILENAME}\"\n",
    "\n",
    "metadata = {\n",
    "    \"N_TRAIN_SAMPLES_PER_MODEL\": len(train_ids),\n",
    "    \"N_TEST_SAMPLES_PER_MODEL\": len(test_ids),\n",
    "    \"MAX_SAMPLE_LEN\": max(sample_lengths),\n",
    "    \"MIN_SAMPLE_LEN\": min(sample_lengths)\n",
    "}\n",
    "\n",
    "data = {\n",
    "    'generating_model': \"SIM_TwoPat\",\n",
    "    'data_filename': output_path,\n",
    "    'time_index': time_index,\n",
    "    'models_lst': None,\n",
    "    'labels_df': labels_df,\n",
    "    'all_X_samples': all_X_samples,\n",
    "    'indices_splits_lst': indices_splits_lst,\n",
    "    'metadata': metadata,\n",
    "    'description': \"http://timeseriesclassification.com/description.php?Dataset=TwoPatterns\"\n",
    "}\n",
    "\n",
    "with open(output_path, 'wb') as f:\n",
    "    pickle.dump(data, f)\n",
    "    print(f\"Data saved to {output_path}.\")"
   ]
  },
  {
   "cell_type": "markdown",
   "metadata": {},
   "source": [
    "## EDA"
   ]
  },
  {
   "cell_type": "markdown",
   "metadata": {},
   "source": [
    "### Is dataset balanced?"
   ]
  },
  {
   "cell_type": "code",
   "execution_count": 5,
   "metadata": {},
   "outputs": [
    {
     "data": {
      "text/html": [
       "<div>\n",
       "<style scoped>\n",
       "    .dataframe tbody tr th:only-of-type {\n",
       "        vertical-align: middle;\n",
       "    }\n",
       "\n",
       "    .dataframe tbody tr th {\n",
       "        vertical-align: top;\n",
       "    }\n",
       "\n",
       "    .dataframe thead th {\n",
       "        text-align: right;\n",
       "    }\n",
       "</style>\n",
       "<table border=\"1\" class=\"dataframe\">\n",
       "  <thead>\n",
       "    <tr style=\"text-align: right;\">\n",
       "      <th></th>\n",
       "      <th>sample_len</th>\n",
       "    </tr>\n",
       "    <tr>\n",
       "      <th>true_label</th>\n",
       "      <th></th>\n",
       "    </tr>\n",
       "  </thead>\n",
       "  <tbody>\n",
       "    <tr>\n",
       "      <th>0</th>\n",
       "      <td>1035</td>\n",
       "    </tr>\n",
       "    <tr>\n",
       "      <th>1</th>\n",
       "      <td>1011</td>\n",
       "    </tr>\n",
       "    <tr>\n",
       "      <th>2</th>\n",
       "      <td>995</td>\n",
       "    </tr>\n",
       "    <tr>\n",
       "      <th>3</th>\n",
       "      <td>959</td>\n",
       "    </tr>\n",
       "  </tbody>\n",
       "</table>\n",
       "</div>"
      ],
      "text/plain": [
       "            sample_len\n",
       "true_label            \n",
       "0                 1035\n",
       "1                 1011\n",
       "2                  995\n",
       "3                  959"
      ]
     },
     "execution_count": 5,
     "metadata": {},
     "output_type": "execute_result"
    }
   ],
   "source": [
    "# test\n",
    "labels_df.set_index(\"sample_id\").iloc[test_ids].groupby(\"true_label\").count()"
   ]
  },
  {
   "cell_type": "code",
   "execution_count": 6,
   "metadata": {},
   "outputs": [
    {
     "data": {
      "text/html": [
       "<div>\n",
       "<style scoped>\n",
       "    .dataframe tbody tr th:only-of-type {\n",
       "        vertical-align: middle;\n",
       "    }\n",
       "\n",
       "    .dataframe tbody tr th {\n",
       "        vertical-align: top;\n",
       "    }\n",
       "\n",
       "    .dataframe thead th {\n",
       "        text-align: right;\n",
       "    }\n",
       "</style>\n",
       "<table border=\"1\" class=\"dataframe\">\n",
       "  <thead>\n",
       "    <tr style=\"text-align: right;\">\n",
       "      <th></th>\n",
       "      <th>sample_len</th>\n",
       "    </tr>\n",
       "    <tr>\n",
       "      <th>true_label</th>\n",
       "      <th></th>\n",
       "    </tr>\n",
       "  </thead>\n",
       "  <tbody>\n",
       "    <tr>\n",
       "      <th>0</th>\n",
       "      <td>271</td>\n",
       "    </tr>\n",
       "    <tr>\n",
       "      <th>1</th>\n",
       "      <td>237</td>\n",
       "    </tr>\n",
       "    <tr>\n",
       "      <th>2</th>\n",
       "      <td>250</td>\n",
       "    </tr>\n",
       "    <tr>\n",
       "      <th>3</th>\n",
       "      <td>242</td>\n",
       "    </tr>\n",
       "  </tbody>\n",
       "</table>\n",
       "</div>"
      ],
      "text/plain": [
       "            sample_len\n",
       "true_label            \n",
       "0                  271\n",
       "1                  237\n",
       "2                  250\n",
       "3                  242"
      ]
     },
     "execution_count": 6,
     "metadata": {},
     "output_type": "execute_result"
    }
   ],
   "source": [
    "labels_df.set_index(\"sample_id\").iloc[train_ids].groupby(\"true_label\").count()"
   ]
  },
  {
   "cell_type": "markdown",
   "metadata": {},
   "source": [
    "Sizes of all classes are roughly equal both in train and test subsets."
   ]
  },
  {
   "cell_type": "markdown",
   "metadata": {},
   "source": [
    "### Plots of samples"
   ]
  },
  {
   "cell_type": "code",
   "execution_count": 7,
   "metadata": {},
   "outputs": [
    {
     "name": "stderr",
     "output_type": "stream",
     "text": [
      "Preparing plots:   0%|          | 0/4 [00:00<?, ?it/s]/tmp/ipykernel_12418/2180241337.py:9: VisibleDeprecationWarning: Creating an ndarray from ragged nested sequences (which is a list-or-tuple of lists-or-tuples-or ndarrays with different lengths or shapes) is deprecated. If you meant to do this, you must specify 'dtype=object' when creating the ndarray.\n",
      "  samples = np.array([all_X_samples[id] for id in ids])\n",
      "Preparing plots:   0%|          | 0/4 [00:00<?, ?it/s]\n"
     ]
    },
    {
     "ename": "ValueError",
     "evalue": "setting an array element with a sequence.",
     "output_type": "error",
     "traceback": [
      "\u001b[0;31m---------------------------------------------------------------------------\u001b[0m",
      "\u001b[0;31mTypeError\u001b[0m                                 Traceback (most recent call last)",
      "\u001b[0;31mTypeError\u001b[0m: only size-1 arrays can be converted to Python scalars",
      "\nThe above exception was the direct cause of the following exception:\n",
      "\u001b[0;31mValueError\u001b[0m                                Traceback (most recent call last)",
      "\u001b[1;32m/home/martyna/hmm_dtw/01_5_convert_two_pattern_dataset.ipynb Cell 14'\u001b[0m in \u001b[0;36m<cell line: 6>\u001b[0;34m()\u001b[0m\n\u001b[1;32m      <a href='vscode-notebook-cell:/home/martyna/hmm_dtw/01_5_convert_two_pattern_dataset.ipynb#ch0000013?line=7'>8</a>\u001b[0m ids \u001b[39m=\u001b[39m df[\u001b[39m\"\u001b[39m\u001b[39msample_id\u001b[39m\u001b[39m\"\u001b[39m]\u001b[39m.\u001b[39msample(\u001b[39m2\u001b[39m)\u001b[39m.\u001b[39mvalues\n\u001b[1;32m      <a href='vscode-notebook-cell:/home/martyna/hmm_dtw/01_5_convert_two_pattern_dataset.ipynb#ch0000013?line=8'>9</a>\u001b[0m samples \u001b[39m=\u001b[39m np\u001b[39m.\u001b[39marray([all_X_samples[\u001b[39mid\u001b[39m] \u001b[39mfor\u001b[39;00m \u001b[39mid\u001b[39m \u001b[39min\u001b[39;00m ids])\n\u001b[0;32m---> <a href='vscode-notebook-cell:/home/martyna/hmm_dtw/01_5_convert_two_pattern_dataset.ipynb#ch0000013?line=9'>10</a>\u001b[0m ax\u001b[39m.\u001b[39;49mplot(samples\u001b[39m.\u001b[39;49mreshape((\u001b[39m2\u001b[39;49m, \u001b[39m-\u001b[39;49m\u001b[39m1\u001b[39;49m))\u001b[39m.\u001b[39;49mT, lw \u001b[39m=\u001b[39;49m \u001b[39m3\u001b[39;49m)\n\u001b[1;32m     <a href='vscode-notebook-cell:/home/martyna/hmm_dtw/01_5_convert_two_pattern_dataset.ipynb#ch0000013?line=10'>11</a>\u001b[0m ax\u001b[39m.\u001b[39mset_title(\u001b[39mf\u001b[39m\u001b[39m\"\u001b[39m\u001b[39m(\u001b[39m\u001b[39m{\u001b[39;00mlabels[i]\u001b[39m}\u001b[39;00m\u001b[39m) label = \u001b[39m\u001b[39m{\u001b[39;00mi\u001b[39m}\u001b[39;00m\u001b[39m\"\u001b[39m)\n\u001b[1;32m     <a href='vscode-notebook-cell:/home/martyna/hmm_dtw/01_5_convert_two_pattern_dataset.ipynb#ch0000013?line=11'>12</a>\u001b[0m ax\u001b[39m.\u001b[39mgrid()\n",
      "File \u001b[0;32m~/miniconda3/envs/hmm_dtw/lib/python3.9/site-packages/matplotlib/axes/_axes.py:1634\u001b[0m, in \u001b[0;36mAxes.plot\u001b[0;34m(self, scalex, scaley, data, *args, **kwargs)\u001b[0m\n\u001b[1;32m   <a href='file:///home/martyna/miniconda3/envs/hmm_dtw/lib/python3.9/site-packages/matplotlib/axes/_axes.py?line=1631'>1632</a>\u001b[0m lines \u001b[39m=\u001b[39m [\u001b[39m*\u001b[39m\u001b[39mself\u001b[39m\u001b[39m.\u001b[39m_get_lines(\u001b[39m*\u001b[39margs, data\u001b[39m=\u001b[39mdata, \u001b[39m*\u001b[39m\u001b[39m*\u001b[39mkwargs)]\n\u001b[1;32m   <a href='file:///home/martyna/miniconda3/envs/hmm_dtw/lib/python3.9/site-packages/matplotlib/axes/_axes.py?line=1632'>1633</a>\u001b[0m \u001b[39mfor\u001b[39;00m line \u001b[39min\u001b[39;00m lines:\n\u001b[0;32m-> <a href='file:///home/martyna/miniconda3/envs/hmm_dtw/lib/python3.9/site-packages/matplotlib/axes/_axes.py?line=1633'>1634</a>\u001b[0m     \u001b[39mself\u001b[39;49m\u001b[39m.\u001b[39;49madd_line(line)\n\u001b[1;32m   <a href='file:///home/martyna/miniconda3/envs/hmm_dtw/lib/python3.9/site-packages/matplotlib/axes/_axes.py?line=1634'>1635</a>\u001b[0m \u001b[39mself\u001b[39m\u001b[39m.\u001b[39m_request_autoscale_view(scalex\u001b[39m=\u001b[39mscalex, scaley\u001b[39m=\u001b[39mscaley)\n\u001b[1;32m   <a href='file:///home/martyna/miniconda3/envs/hmm_dtw/lib/python3.9/site-packages/matplotlib/axes/_axes.py?line=1635'>1636</a>\u001b[0m \u001b[39mreturn\u001b[39;00m lines\n",
      "File \u001b[0;32m~/miniconda3/envs/hmm_dtw/lib/python3.9/site-packages/matplotlib/axes/_base.py:2283\u001b[0m, in \u001b[0;36m_AxesBase.add_line\u001b[0;34m(self, line)\u001b[0m\n\u001b[1;32m   <a href='file:///home/martyna/miniconda3/envs/hmm_dtw/lib/python3.9/site-packages/matplotlib/axes/_base.py?line=2279'>2280</a>\u001b[0m \u001b[39mif\u001b[39;00m line\u001b[39m.\u001b[39mget_clip_path() \u001b[39mis\u001b[39;00m \u001b[39mNone\u001b[39;00m:\n\u001b[1;32m   <a href='file:///home/martyna/miniconda3/envs/hmm_dtw/lib/python3.9/site-packages/matplotlib/axes/_base.py?line=2280'>2281</a>\u001b[0m     line\u001b[39m.\u001b[39mset_clip_path(\u001b[39mself\u001b[39m\u001b[39m.\u001b[39mpatch)\n\u001b[0;32m-> <a href='file:///home/martyna/miniconda3/envs/hmm_dtw/lib/python3.9/site-packages/matplotlib/axes/_base.py?line=2282'>2283</a>\u001b[0m \u001b[39mself\u001b[39;49m\u001b[39m.\u001b[39;49m_update_line_limits(line)\n\u001b[1;32m   <a href='file:///home/martyna/miniconda3/envs/hmm_dtw/lib/python3.9/site-packages/matplotlib/axes/_base.py?line=2283'>2284</a>\u001b[0m \u001b[39mif\u001b[39;00m \u001b[39mnot\u001b[39;00m line\u001b[39m.\u001b[39mget_label():\n\u001b[1;32m   <a href='file:///home/martyna/miniconda3/envs/hmm_dtw/lib/python3.9/site-packages/matplotlib/axes/_base.py?line=2284'>2285</a>\u001b[0m     line\u001b[39m.\u001b[39mset_label(\u001b[39mf\u001b[39m\u001b[39m'\u001b[39m\u001b[39m_child\u001b[39m\u001b[39m{\u001b[39;00m\u001b[39mlen\u001b[39m(\u001b[39mself\u001b[39m\u001b[39m.\u001b[39m_children)\u001b[39m}\u001b[39;00m\u001b[39m'\u001b[39m)\n",
      "File \u001b[0;32m~/miniconda3/envs/hmm_dtw/lib/python3.9/site-packages/matplotlib/axes/_base.py:2306\u001b[0m, in \u001b[0;36m_AxesBase._update_line_limits\u001b[0;34m(self, line)\u001b[0m\n\u001b[1;32m   <a href='file:///home/martyna/miniconda3/envs/hmm_dtw/lib/python3.9/site-packages/matplotlib/axes/_base.py?line=2301'>2302</a>\u001b[0m \u001b[39mdef\u001b[39;00m \u001b[39m_update_line_limits\u001b[39m(\u001b[39mself\u001b[39m, line):\n\u001b[1;32m   <a href='file:///home/martyna/miniconda3/envs/hmm_dtw/lib/python3.9/site-packages/matplotlib/axes/_base.py?line=2302'>2303</a>\u001b[0m     \u001b[39m\"\"\"\u001b[39;00m\n\u001b[1;32m   <a href='file:///home/martyna/miniconda3/envs/hmm_dtw/lib/python3.9/site-packages/matplotlib/axes/_base.py?line=2303'>2304</a>\u001b[0m \u001b[39m    Figures out the data limit of the given line, updating self.dataLim.\u001b[39;00m\n\u001b[1;32m   <a href='file:///home/martyna/miniconda3/envs/hmm_dtw/lib/python3.9/site-packages/matplotlib/axes/_base.py?line=2304'>2305</a>\u001b[0m \u001b[39m    \"\"\"\u001b[39;00m\n\u001b[0;32m-> <a href='file:///home/martyna/miniconda3/envs/hmm_dtw/lib/python3.9/site-packages/matplotlib/axes/_base.py?line=2305'>2306</a>\u001b[0m     path \u001b[39m=\u001b[39m line\u001b[39m.\u001b[39;49mget_path()\n\u001b[1;32m   <a href='file:///home/martyna/miniconda3/envs/hmm_dtw/lib/python3.9/site-packages/matplotlib/axes/_base.py?line=2306'>2307</a>\u001b[0m     \u001b[39mif\u001b[39;00m path\u001b[39m.\u001b[39mvertices\u001b[39m.\u001b[39msize \u001b[39m==\u001b[39m \u001b[39m0\u001b[39m:\n\u001b[1;32m   <a href='file:///home/martyna/miniconda3/envs/hmm_dtw/lib/python3.9/site-packages/matplotlib/axes/_base.py?line=2307'>2308</a>\u001b[0m         \u001b[39mreturn\u001b[39;00m\n",
      "File \u001b[0;32m~/miniconda3/envs/hmm_dtw/lib/python3.9/site-packages/matplotlib/lines.py:999\u001b[0m, in \u001b[0;36mLine2D.get_path\u001b[0;34m(self)\u001b[0m\n\u001b[1;32m    <a href='file:///home/martyna/miniconda3/envs/hmm_dtw/lib/python3.9/site-packages/matplotlib/lines.py?line=996'>997</a>\u001b[0m \u001b[39m\"\"\"Return the `~matplotlib.path.Path` associated with this line.\"\"\"\u001b[39;00m\n\u001b[1;32m    <a href='file:///home/martyna/miniconda3/envs/hmm_dtw/lib/python3.9/site-packages/matplotlib/lines.py?line=997'>998</a>\u001b[0m \u001b[39mif\u001b[39;00m \u001b[39mself\u001b[39m\u001b[39m.\u001b[39m_invalidy \u001b[39mor\u001b[39;00m \u001b[39mself\u001b[39m\u001b[39m.\u001b[39m_invalidx:\n\u001b[0;32m--> <a href='file:///home/martyna/miniconda3/envs/hmm_dtw/lib/python3.9/site-packages/matplotlib/lines.py?line=998'>999</a>\u001b[0m     \u001b[39mself\u001b[39;49m\u001b[39m.\u001b[39;49mrecache()\n\u001b[1;32m   <a href='file:///home/martyna/miniconda3/envs/hmm_dtw/lib/python3.9/site-packages/matplotlib/lines.py?line=999'>1000</a>\u001b[0m \u001b[39mreturn\u001b[39;00m \u001b[39mself\u001b[39m\u001b[39m.\u001b[39m_path\n",
      "File \u001b[0;32m~/miniconda3/envs/hmm_dtw/lib/python3.9/site-packages/matplotlib/lines.py:657\u001b[0m, in \u001b[0;36mLine2D.recache\u001b[0;34m(self, always)\u001b[0m\n\u001b[1;32m    <a href='file:///home/martyna/miniconda3/envs/hmm_dtw/lib/python3.9/site-packages/matplotlib/lines.py?line=654'>655</a>\u001b[0m \u001b[39mif\u001b[39;00m always \u001b[39mor\u001b[39;00m \u001b[39mself\u001b[39m\u001b[39m.\u001b[39m_invalidy:\n\u001b[1;32m    <a href='file:///home/martyna/miniconda3/envs/hmm_dtw/lib/python3.9/site-packages/matplotlib/lines.py?line=655'>656</a>\u001b[0m     yconv \u001b[39m=\u001b[39m \u001b[39mself\u001b[39m\u001b[39m.\u001b[39mconvert_yunits(\u001b[39mself\u001b[39m\u001b[39m.\u001b[39m_yorig)\n\u001b[0;32m--> <a href='file:///home/martyna/miniconda3/envs/hmm_dtw/lib/python3.9/site-packages/matplotlib/lines.py?line=656'>657</a>\u001b[0m     y \u001b[39m=\u001b[39m _to_unmasked_float_array(yconv)\u001b[39m.\u001b[39mravel()\n\u001b[1;32m    <a href='file:///home/martyna/miniconda3/envs/hmm_dtw/lib/python3.9/site-packages/matplotlib/lines.py?line=657'>658</a>\u001b[0m \u001b[39melse\u001b[39;00m:\n\u001b[1;32m    <a href='file:///home/martyna/miniconda3/envs/hmm_dtw/lib/python3.9/site-packages/matplotlib/lines.py?line=658'>659</a>\u001b[0m     y \u001b[39m=\u001b[39m \u001b[39mself\u001b[39m\u001b[39m.\u001b[39m_y\n",
      "File \u001b[0;32m~/miniconda3/envs/hmm_dtw/lib/python3.9/site-packages/matplotlib/cbook/__init__.py:1298\u001b[0m, in \u001b[0;36m_to_unmasked_float_array\u001b[0;34m(x)\u001b[0m\n\u001b[1;32m   <a href='file:///home/martyna/miniconda3/envs/hmm_dtw/lib/python3.9/site-packages/matplotlib/cbook/__init__.py?line=1295'>1296</a>\u001b[0m     \u001b[39mreturn\u001b[39;00m np\u001b[39m.\u001b[39mma\u001b[39m.\u001b[39masarray(x, \u001b[39mfloat\u001b[39m)\u001b[39m.\u001b[39mfilled(np\u001b[39m.\u001b[39mnan)\n\u001b[1;32m   <a href='file:///home/martyna/miniconda3/envs/hmm_dtw/lib/python3.9/site-packages/matplotlib/cbook/__init__.py?line=1296'>1297</a>\u001b[0m \u001b[39melse\u001b[39;00m:\n\u001b[0;32m-> <a href='file:///home/martyna/miniconda3/envs/hmm_dtw/lib/python3.9/site-packages/matplotlib/cbook/__init__.py?line=1297'>1298</a>\u001b[0m     \u001b[39mreturn\u001b[39;00m np\u001b[39m.\u001b[39;49masarray(x, \u001b[39mfloat\u001b[39;49m)\n",
      "\u001b[0;31mValueError\u001b[0m: setting an array element with a sequence."
     ]
    },
    {
     "data": {
      "image/png": "[encoded data removed]",
      "text/plain": [
       "<Figure size 2880x1152 with 4 Axes>"
      ]
     },
     "metadata": {
      "needs_background": "light"
     },
     "output_type": "display_data"
    }
   ],
   "source": [
    "labels = [\"DD\", \"UD\", \"DU\", \"UU\"]\n",
    "plt.rcParams[\"figure.figsize\"] = (40, 16)\n",
    "plt.rcParams['font.size'] = 30\n",
    "fig, axes = plt.subplots(2,2, sharey=\"all\")\n",
    "plt.suptitle(f\"Two samples of each class\")\n",
    "for i, df in tqdm(labels_df.groupby(\"true_label\"), desc = \"Preparing plots\"):\n",
    "    ax = axes.flat[i]\n",
    "    ids = df[\"sample_id\"].sample(2).values\n",
    "    samples = np.array([all_X_samples[id] for id in ids])\n",
    "    ax.plot(samples.reshape((2, -1)).T, lw = 3)\n",
    "    ax.set_title(f\"({labels[i]}) label = {i}\")\n",
    "    ax.grid()\n",
    "    \n",
    "plt.savefig(f\"./plots/models_twoPat_{time_index}.jpg\")\n",
    "plt.show()"
   ]
  },
  {
   "cell_type": "code",
   "execution_count": null,
   "metadata": {},
   "outputs": [],
   "source": []
  }
 ],
 "metadata": {
  "interpreter": {
   "hash": "824dc94f4a21fb2b9b063d5374c6a5be71ea0704887dd3ffa4e3d703212d1775"
  },
  "kernelspec": {
   "display_name": "Python 3.9.12 ('hmm_dtw')",
   "language": "python",
   "name": "python3"
  },
  "language_info": {
   "codemirror_mode": {
    "name": "ipython",
    "version": 3
   },
   "file_extension": ".py",
   "mimetype": "text/x-python",
   "name": "python",
   "nbconvert_exporter": "python",
   "pygments_lexer": "ipython3",
   "version": "3.9.12"
  },
  "orig_nbformat": 4
 },
 "nbformat": 4,
 "nbformat_minor": 2
}

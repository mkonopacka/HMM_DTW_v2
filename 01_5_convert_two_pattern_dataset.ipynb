{
 "cells": [
  {
   "cell_type": "markdown",
   "metadata": {},
   "source": [
    "# Load and transform TwoPattern dataset\n",
    "http://timeseriesclassification.com/description.php?Dataset=TwoPatterns"
   ]
  },
  {
   "cell_type": "markdown",
   "metadata": {},
   "source": [
    "## Setup"
   ]
  },
  {
   "cell_type": "code",
   "execution_count": 37,
   "metadata": {},
   "outputs": [],
   "source": [
    "import pandas as pd\n",
    "import numpy as np\n",
    "import matplotlib.pyplot as plt\n",
    "import pickle\n",
    "from time import time\n",
    "from tqdm import tqdm\n",
    "\n",
    "time_index = int(time())\n",
    "\n",
    "DATA_DIR = \"data_two_pattern\"\n",
    "DIFFERENT_LENS = True\n",
    "UNBALANCED = False # if set to unbalanced, samples are shuffled so that data is unbalanced \n",
    "\n",
    "NO_TEST_SAMPLES = 800 # there are total 5000 samples\n",
    "NO_TRAIN_SAMPLES = 200\n",
    "if NO_TEST_SAMPLES + NO_TRAIN_SAMPLES > 5000:\n",
    "    raise Exception\n",
    "\n",
    "infix = \"dif\" if DIFFERENT_LENS else \"eq\"\n",
    "infix2 = \"unbal_\" if UNBALANCED else \"\"\n",
    "OUTPUT_FILENAME = f\"two_pattern_{infix}_lens_{infix2}ntrain{NO_TRAIN_SAMPLES}.pkl\""
   ]
  },
  {
   "cell_type": "markdown",
   "metadata": {},
   "source": [
    "## Prepare and save dataset"
   ]
  },
  {
   "cell_type": "code",
   "execution_count": 38,
   "metadata": {},
   "outputs": [],
   "source": [
    "converted_lines = []\n",
    "for filename in [\"test.txt\", \"train.txt\"]:\n",
    "    with open (f\"{DATA_DIR}/{filename}\", \"r\") as f:\n",
    "        lines = f.readlines()\n",
    "        for l in lines:\n",
    "            floats = list(map(float, l.split()))\n",
    "            converted_lines.append(floats)\n",
    "\n",
    "sample_ids = list(range(len(converted_lines)))\n",
    "true_labels = [int(X[0])-1 for X in converted_lines] # labels should start from 0\n",
    "all_X_samples = [np.array(X[1:]).reshape(-1,1) for X in converted_lines]"
   ]
  },
  {
   "cell_type": "code",
   "execution_count": 39,
   "metadata": {},
   "outputs": [
    {
     "data": {
      "text/plain": [
       "(128, 1)"
      ]
     },
     "execution_count": 39,
     "metadata": {},
     "output_type": "execute_result"
    }
   ],
   "source": [
    "all_X_samples[0].shape"
   ]
  },
  {
   "cell_type": "code",
   "execution_count": 40,
   "metadata": {},
   "outputs": [],
   "source": [
    "# if different lenghts, cut some of samples\n",
    "if DIFFERENT_LENS:\n",
    "    new_samples = []\n",
    "    for X in all_X_samples:\n",
    "        cut = np.random.randint(1,40)\n",
    "        new = X[:-cut]\n",
    "        new_samples.append(new)\n",
    "        if len(new) == 0:\n",
    "            raise Exception\n",
    "    all_X_samples = new_samples # overwrite sample list\n",
    "\n",
    "sample_lengths = [sample.shape[0] for sample in all_X_samples]\n",
    "\n",
    "labels_df = pd.DataFrame({\n",
    "    \"sample_id\": sample_ids,\n",
    "    \"true_label\": true_labels,\n",
    "    \"sample_len\": sample_lengths\n",
    "})"
   ]
  },
  {
   "cell_type": "code",
   "execution_count": 41,
   "metadata": {},
   "outputs": [
    {
     "data": {
      "text/html": [
       "<div>\n",
       "<style scoped>\n",
       "    .dataframe tbody tr th:only-of-type {\n",
       "        vertical-align: middle;\n",
       "    }\n",
       "\n",
       "    .dataframe tbody tr th {\n",
       "        vertical-align: top;\n",
       "    }\n",
       "\n",
       "    .dataframe thead th {\n",
       "        text-align: right;\n",
       "    }\n",
       "</style>\n",
       "<table border=\"1\" class=\"dataframe\">\n",
       "  <thead>\n",
       "    <tr style=\"text-align: right;\">\n",
       "      <th></th>\n",
       "      <th>sample_id</th>\n",
       "      <th>true_label</th>\n",
       "      <th>sample_len</th>\n",
       "    </tr>\n",
       "  </thead>\n",
       "  <tbody>\n",
       "    <tr>\n",
       "      <th>0</th>\n",
       "      <td>0</td>\n",
       "      <td>1</td>\n",
       "      <td>99</td>\n",
       "    </tr>\n",
       "    <tr>\n",
       "      <th>1</th>\n",
       "      <td>1</td>\n",
       "      <td>2</td>\n",
       "      <td>99</td>\n",
       "    </tr>\n",
       "    <tr>\n",
       "      <th>2</th>\n",
       "      <td>2</td>\n",
       "      <td>0</td>\n",
       "      <td>126</td>\n",
       "    </tr>\n",
       "    <tr>\n",
       "      <th>3</th>\n",
       "      <td>3</td>\n",
       "      <td>2</td>\n",
       "      <td>119</td>\n",
       "    </tr>\n",
       "    <tr>\n",
       "      <th>4</th>\n",
       "      <td>4</td>\n",
       "      <td>1</td>\n",
       "      <td>104</td>\n",
       "    </tr>\n",
       "  </tbody>\n",
       "</table>\n",
       "</div>"
      ],
      "text/plain": [
       "   sample_id  true_label  sample_len\n",
       "0          0           1          99\n",
       "1          1           2          99\n",
       "2          2           0         126\n",
       "3          3           2         119\n",
       "4          4           1         104"
      ]
     },
     "execution_count": 41,
     "metadata": {},
     "output_type": "execute_result"
    }
   ],
   "source": [
    "labels_df.head()"
   ]
  },
  {
   "cell_type": "code",
   "execution_count": 42,
   "metadata": {},
   "outputs": [],
   "source": [
    "test_samples_ids = []\n",
    "train_samples_ids = []\n",
    "for label, sub_df in labels_df.groupby(\"true_label\"):\n",
    "    if UNBALANCED:\n",
    "        frac = [0.1, 0.1, 0.2, 0.6]\n",
    "        train_ids = sub_df.sample(int(np.ceil(frac[label]*NO_TRAIN_SAMPLES/4))).index.values\n",
    "    else:\n",
    "        train_ids = sub_df.sample(int(NO_TRAIN_SAMPLES/4)).index.values\n",
    "    \n",
    "    test_ids = sub_df.drop(train_ids).sample(int(NO_TEST_SAMPLES/4)).index.values\n",
    "    train_samples_ids.extend(train_ids)\n",
    "    test_samples_ids.extend(test_ids)\n",
    "    \n",
    "indices_splits_lst = [{\"test_samples_ids\": test_samples_ids, \"train_samples_ids\": train_samples_ids}]"
   ]
  },
  {
   "cell_type": "code",
   "execution_count": 43,
   "metadata": {},
   "outputs": [
    {
     "name": "stdout",
     "output_type": "stream",
     "text": [
      "Data saved to data_two_pattern/two_pattern_dif_lens_ntrain200.pkl_1661938075.\n"
     ]
    }
   ],
   "source": [
    "output_path = f\"{DATA_DIR}/{OUTPUT_FILENAME}_{time_index}\"\n",
    "\n",
    "metadata = {\n",
    "    \"NO_TRAIN_SAMPLES\": len(train_ids),\n",
    "    \"NO_TEST_SAMPLES\": len(test_ids),\n",
    "    \"MAX_SAMPLE_LEN\": max(sample_lengths),\n",
    "    \"MIN_SAMPLE_LEN\": min(sample_lengths)\n",
    "}\n",
    "\n",
    "data = {\n",
    "    'generating_model': \"SIM_TwoPat\",\n",
    "    'data_filename': output_path,\n",
    "    'time_index': time_index,\n",
    "    'models_lst': None,\n",
    "    'labels_df': labels_df,\n",
    "    'all_X_samples': all_X_samples,\n",
    "    'indices_splits_lst': indices_splits_lst,\n",
    "    'metadata': metadata,\n",
    "    'description': \"http://timeseriesclassification.com/description.php?Dataset=TwoPatterns\"\n",
    "}\n",
    "\n",
    "with open(output_path, 'wb') as f:\n",
    "    pickle.dump(data, f)\n",
    "    print(f\"Data saved to {output_path}.\")"
   ]
  },
  {
   "cell_type": "markdown",
   "metadata": {},
   "source": [
    "## EDA"
   ]
  },
  {
   "cell_type": "markdown",
   "metadata": {},
   "source": [
    "### Is dataset balanced?"
   ]
  },
  {
   "cell_type": "code",
   "execution_count": 44,
   "metadata": {},
   "outputs": [
    {
     "data": {
      "text/plain": [
       "0    50\n",
       "1    50\n",
       "2    50\n",
       "3    50\n",
       "Name: true_label, dtype: int64"
      ]
     },
     "execution_count": 44,
     "metadata": {},
     "output_type": "execute_result"
    }
   ],
   "source": [
    "labels_df.set_index(\"sample_id\").iloc[train_samples_ids][\"true_label\"].value_counts()"
   ]
  },
  {
   "cell_type": "code",
   "execution_count": 45,
   "metadata": {},
   "outputs": [
    {
     "data": {
      "text/plain": [
       "0    200\n",
       "1    200\n",
       "2    200\n",
       "3    200\n",
       "Name: true_label, dtype: int64"
      ]
     },
     "execution_count": 45,
     "metadata": {},
     "output_type": "execute_result"
    }
   ],
   "source": [
    "labels_df.set_index(\"sample_id\").iloc[test_samples_ids][\"true_label\"].value_counts()"
   ]
  },
  {
   "cell_type": "code",
   "execution_count": 46,
   "metadata": {},
   "outputs": [
    {
     "data": {
      "text/html": [
       "<div>\n",
       "<style scoped>\n",
       "    .dataframe tbody tr th:only-of-type {\n",
       "        vertical-align: middle;\n",
       "    }\n",
       "\n",
       "    .dataframe tbody tr th {\n",
       "        vertical-align: top;\n",
       "    }\n",
       "\n",
       "    .dataframe thead th {\n",
       "        text-align: right;\n",
       "    }\n",
       "</style>\n",
       "<table border=\"1\" class=\"dataframe\">\n",
       "  <thead>\n",
       "    <tr style=\"text-align: right;\">\n",
       "      <th></th>\n",
       "      <th>true_label</th>\n",
       "      <th>sample_len</th>\n",
       "    </tr>\n",
       "    <tr>\n",
       "      <th>sample_id</th>\n",
       "      <th></th>\n",
       "      <th></th>\n",
       "    </tr>\n",
       "  </thead>\n",
       "  <tbody>\n",
       "    <tr>\n",
       "      <th>318</th>\n",
       "      <td>0</td>\n",
       "      <td>103</td>\n",
       "    </tr>\n",
       "    <tr>\n",
       "      <th>1579</th>\n",
       "      <td>0</td>\n",
       "      <td>120</td>\n",
       "    </tr>\n",
       "    <tr>\n",
       "      <th>4286</th>\n",
       "      <td>0</td>\n",
       "      <td>97</td>\n",
       "    </tr>\n",
       "    <tr>\n",
       "      <th>31</th>\n",
       "      <td>0</td>\n",
       "      <td>98</td>\n",
       "    </tr>\n",
       "    <tr>\n",
       "      <th>611</th>\n",
       "      <td>0</td>\n",
       "      <td>97</td>\n",
       "    </tr>\n",
       "    <tr>\n",
       "      <th>...</th>\n",
       "      <td>...</td>\n",
       "      <td>...</td>\n",
       "    </tr>\n",
       "    <tr>\n",
       "      <th>2354</th>\n",
       "      <td>3</td>\n",
       "      <td>118</td>\n",
       "    </tr>\n",
       "    <tr>\n",
       "      <th>3495</th>\n",
       "      <td>3</td>\n",
       "      <td>95</td>\n",
       "    </tr>\n",
       "    <tr>\n",
       "      <th>4959</th>\n",
       "      <td>3</td>\n",
       "      <td>100</td>\n",
       "    </tr>\n",
       "    <tr>\n",
       "      <th>4603</th>\n",
       "      <td>3</td>\n",
       "      <td>122</td>\n",
       "    </tr>\n",
       "    <tr>\n",
       "      <th>1277</th>\n",
       "      <td>3</td>\n",
       "      <td>89</td>\n",
       "    </tr>\n",
       "  </tbody>\n",
       "</table>\n",
       "<p>800 rows × 2 columns</p>\n",
       "</div>"
      ],
      "text/plain": [
       "           true_label  sample_len\n",
       "sample_id                        \n",
       "318                 0         103\n",
       "1579                0         120\n",
       "4286                0          97\n",
       "31                  0          98\n",
       "611                 0          97\n",
       "...               ...         ...\n",
       "2354                3         118\n",
       "3495                3          95\n",
       "4959                3         100\n",
       "4603                3         122\n",
       "1277                3          89\n",
       "\n",
       "[800 rows x 2 columns]"
      ]
     },
     "execution_count": 46,
     "metadata": {},
     "output_type": "execute_result"
    }
   ],
   "source": [
    "labels_df.set_index(\"sample_id\").iloc[test_samples_ids]"
   ]
  },
  {
   "cell_type": "code",
   "execution_count": 47,
   "metadata": {},
   "outputs": [
    {
     "data": {
      "text/plain": [
       "(99, 1)"
      ]
     },
     "execution_count": 47,
     "metadata": {},
     "output_type": "execute_result"
    }
   ],
   "source": [
    "all_X_samples[0].shape"
   ]
  },
  {
   "cell_type": "markdown",
   "metadata": {},
   "source": [
    "### Plots of samples"
   ]
  },
  {
   "cell_type": "code",
   "execution_count": 48,
   "metadata": {},
   "outputs": [],
   "source": [
    "if not UNBALANCED and not DIFFERENT_LENS: # create plots only for balanced data (cant plot easily different lengths)\n",
    "    labels = [\"DD\", \"UD\", \"DU\", \"UU\"]\n",
    "    plt.rcParams[\"figure.figsize\"] = (40, 16)\n",
    "    plt.rcParams['font.size'] = 30\n",
    "    fig, axes = plt.subplots(2,2, sharey=\"all\")\n",
    "    plt.suptitle(f\"Two samples of each class\")\n",
    "    for i, df in tqdm(labels_df.groupby(\"true_label\"), desc = \"Preparing plots\"):\n",
    "        ax = axes.flat[i]\n",
    "        ids = df[\"sample_id\"].sample(2).values\n",
    "        samples = np.array([all_X_samples[id] for id in ids])\n",
    "        ax.plot(samples.reshape((2, -1)).T, lw = 3)\n",
    "        ax.set_title(f\"({labels[i]}) label = {i}\")\n",
    "        ax.grid()\n",
    "        \n",
    "    plt.savefig(f\"./plots/models_twoPat_{time_index}.jpg\")\n",
    "    plt.show()"
   ]
  },
  {
   "cell_type": "code",
   "execution_count": null,
   "metadata": {},
   "outputs": [],
   "source": []
  }
 ],
 "metadata": {
  "interpreter": {
   "hash": "824dc94f4a21fb2b9b063d5374c6a5be71ea0704887dd3ffa4e3d703212d1775"
  },
  "kernelspec": {
   "display_name": "Python 3.9.12 ('hmm_dtw')",
   "language": "python",
   "name": "python3"
  },
  "language_info": {
   "codemirror_mode": {
    "name": "ipython",
    "version": 3
   },
   "file_extension": ".py",
   "mimetype": "text/x-python",
   "name": "python",
   "nbconvert_exporter": "python",
   "pygments_lexer": "ipython3",
   "version": "3.9.12"
  },
  "orig_nbformat": 4
 },
 "nbformat": 4,
 "nbformat_minor": 2
}

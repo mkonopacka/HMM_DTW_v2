{
 "cells": [
  {
   "cell_type": "markdown",
   "metadata": {},
   "source": [
    "# Load and transform TwoPattern dataset\n",
    "http://timeseriesclassification.com/description.php?Dataset=TwoPatterns"
   ]
  },
  {
   "cell_type": "markdown",
   "metadata": {},
   "source": [
    "## Setup"
   ]
  },
  {
   "cell_type": "code",
   "execution_count": 1,
   "metadata": {},
   "outputs": [],
   "source": [
    "import pandas as pd\n",
    "import numpy as np\n",
    "import matplotlib.pyplot as plt\n",
    "import pickle\n",
    "from time import time\n",
    "from tqdm import tqdm\n",
    "\n",
    "time_index = int(time())\n",
    "\n",
    "DATA_DIR = \"data_two_pattern\"\n",
    "DIFFERENT_LENS = True\n",
    "UNBALANCED = False # if set to unbalanced, samples are shuffled so that data is unbalanced \n",
    "\n",
    "NO_TEST_SAMPLES = 800 # there are total 5000 samples\n",
    "NO_TRAIN_SAMPLES = 200\n",
    "if NO_TEST_SAMPLES + NO_TRAIN_SAMPLES > 5000:\n",
    "    raise Exception\n",
    "\n",
    "infix = \"dif\" if DIFFERENT_LENS else \"eq\"\n",
    "OUTPUT_FILENAME = f\"two_pattern_{infix}_lens_ntrain{NO_TRAIN_SAMPLES}.pkl\""
   ]
  },
  {
   "cell_type": "markdown",
   "metadata": {},
   "source": [
    "## Prepare and save dataset"
   ]
  },
  {
   "cell_type": "code",
   "execution_count": 2,
   "metadata": {},
   "outputs": [],
   "source": [
    "converted_lines = []\n",
    "for filename in [\"test.txt\", \"train.txt\"]:\n",
    "    with open (f\"{DATA_DIR}/{filename}\", \"r\") as f:\n",
    "        lines = f.readlines()\n",
    "        for l in lines:\n",
    "            floats = list(map(float, l.split()))\n",
    "            converted_lines.append(floats)\n",
    "\n",
    "sample_ids = list(range(len(converted_lines)))\n",
    "true_labels = [int(X[0])-1 for X in converted_lines] # labels should start from 0\n",
    "all_X_samples = [np.array(X[1:]).reshape(-1,1) for X in converted_lines]\n",
    "\n",
    "# if different lenghts, cut some of samples\n",
    "if DIFFERENT_LENS:\n",
    "    new_samples = []\n",
    "    for X in all_X_samples:\n",
    "        cut = np.random.randint(1,40)\n",
    "        new = X[:-cut]\n",
    "        new_samples.append(new)\n",
    "        if len(new) == 0:\n",
    "            raise Exception\n",
    "    all_X_samples = new_samples # overwrite sample list\n",
    "\n",
    "sample_lengths = [sample.shape[0] for sample in all_X_samples]\n",
    "\n",
    "labels_df = pd.DataFrame({\n",
    "    \"sample_id\": sample_ids,\n",
    "    \"true_label\": true_labels,\n",
    "    \"sample_len\": sample_lengths\n",
    "})"
   ]
  },
  {
   "cell_type": "code",
   "execution_count": 17,
   "metadata": {},
   "outputs": [],
   "source": [
    "test_ids = []\n",
    "train_ids = []\n",
    "\n",
    "if not UNBALANCED:\n",
    "    for label, df in labels_df.groupby(\"true_label\"):\n",
    "        label_train = df.sample(NO_TRAIN_SAMPLES//4).index.values\n",
    "        label_test = df.drop(label_train).sample(NO_TEST_SAMPLES//4).index.values\n",
    "        if not set(label_train).isdisjoint(set(label_test)):\n",
    "            display(df.loc[label_train])\n",
    "            display(df.loc[label_test])\n",
    "            print([l for l in label_test if l in label_train])\n",
    "            raise Exception\n",
    "        train_ids.append(label_train)\n",
    "        test_ids.append(label_test)\n",
    "\n",
    "# make dataset unbalanced -----------\n",
    "else:\n",
    "    label_fractions = [0.1, 0.2, 0.2, 0.5]\n",
    "    for label, df in labels_df.groupby(\"true_label\"):\n",
    "        label_train = df.sample(label_fractions[label]*NO_TRAIN_SAMPLES//4).index.values\n",
    "        label_test = df.drop(label_train).sample(label_fractions[label]*NO_TEST_SAMPLES//4).index.values\n",
    "        if not set(label_train).isdisjoint(set(label_test)):\n",
    "            display(df.loc[label_train])\n",
    "            display(df.loc[label_test])\n",
    "            print([l for l in label_test if l in label_train])\n",
    "            raise Exception\n",
    "        train_ids.append(label_train)\n",
    "        test_ids.append(label_test)\n",
    "    \n",
    "indices_splits_lst = [{\"test_samples_ids\": test_ids, \"train_samples_ids\": train_ids}]"
   ]
  },
  {
   "cell_type": "code",
   "execution_count": null,
   "metadata": {},
   "outputs": [],
   "source": [
    "output_path = f\"{DATA_DIR}/{OUTPUT_FILENAME}_{time_index}\"\n",
    "\n",
    "metadata = {\n",
    "    \"N_TRAIN_SAMPLES_PER_MODEL\": len(train_ids),\n",
    "    \"N_TEST_SAMPLES_PER_MODEL\": len(test_ids),\n",
    "    \"MAX_SAMPLE_LEN\": max(sample_lengths),\n",
    "    \"MIN_SAMPLE_LEN\": min(sample_lengths)\n",
    "}\n",
    "\n",
    "data = {\n",
    "    'generating_model': \"SIM_TwoPat\",\n",
    "    'data_filename': output_path,\n",
    "    'time_index': time_index,\n",
    "    'models_lst': None,\n",
    "    'labels_df': labels_df,\n",
    "    'all_X_samples': all_X_samples,\n",
    "    'indices_splits_lst': indices_splits_lst,\n",
    "    'metadata': metadata,\n",
    "    'description': \"http://timeseriesclassification.com/description.php?Dataset=TwoPatterns\"\n",
    "}\n",
    "\n",
    "with open(output_path, 'wb') as f:\n",
    "    pickle.dump(data, f)\n",
    "    print(f\"Data saved to {output_path}.\")"
   ]
  },
  {
   "cell_type": "markdown",
   "metadata": {},
   "source": [
    "## EDA"
   ]
  },
  {
   "cell_type": "markdown",
   "metadata": {},
   "source": [
    "### Is dataset balanced?"
   ]
  },
  {
   "cell_type": "code",
   "execution_count": null,
   "metadata": {},
   "outputs": [],
   "source": [
    "# test\n",
    "labels_df.set_index(\"sample_id\").iloc[test_ids].groupby(\"true_label\").count()"
   ]
  },
  {
   "cell_type": "code",
   "execution_count": null,
   "metadata": {},
   "outputs": [],
   "source": [
    "labels_df.set_index(\"sample_id\").iloc[train_ids].groupby(\"true_label\").count()"
   ]
  },
  {
   "cell_type": "markdown",
   "metadata": {},
   "source": [
    "Sizes of all classes are roughly equal both in train and test subsets."
   ]
  },
  {
   "cell_type": "markdown",
   "metadata": {},
   "source": [
    "### Plots of samples"
   ]
  },
  {
   "cell_type": "code",
   "execution_count": null,
   "metadata": {},
   "outputs": [],
   "source": [
    "labels = [\"DD\", \"UD\", \"DU\", \"UU\"]\n",
    "plt.rcParams[\"figure.figsize\"] = (40, 16)\n",
    "plt.rcParams['font.size'] = 30\n",
    "fig, axes = plt.subplots(2,2, sharey=\"all\")\n",
    "plt.suptitle(f\"Two samples of each class\")\n",
    "for i, df in tqdm(labels_df.groupby(\"true_label\"), desc = \"Preparing plots\"):\n",
    "    ax = axes.flat[i]\n",
    "    ids = df[\"sample_id\"].sample(2).values\n",
    "    samples = np.array([all_X_samples[id] for id in ids])\n",
    "    ax.plot(samples.reshape((2, -1)).T, lw = 3)\n",
    "    ax.set_title(f\"({labels[i]}) label = {i}\")\n",
    "    ax.grid()\n",
    "    \n",
    "plt.savefig(f\"./plots/models_twoPat_{time_index}.jpg\")\n",
    "plt.show()"
   ]
  },
  {
   "cell_type": "code",
   "execution_count": null,
   "metadata": {},
   "outputs": [],
   "source": []
  }
 ],
 "metadata": {
  "interpreter": {
   "hash": "824dc94f4a21fb2b9b063d5374c6a5be71ea0704887dd3ffa4e3d703212d1775"
  },
  "kernelspec": {
   "display_name": "Python 3.9.12 ('hmm_dtw')",
   "language": "python",
   "name": "python3"
  },
  "language_info": {
   "codemirror_mode": {
    "name": "ipython",
    "version": 3
   },
   "file_extension": ".py",
   "mimetype": "text/x-python",
   "name": "python",
   "nbconvert_exporter": "python",
   "pygments_lexer": "ipython3",
   "version": "3.9.12"
  },
  "orig_nbformat": 4
 },
 "nbformat": 4,
 "nbformat_minor": 2
}

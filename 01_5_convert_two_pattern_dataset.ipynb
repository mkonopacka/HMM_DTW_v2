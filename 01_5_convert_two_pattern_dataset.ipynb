{
 "cells": [
  {
   "cell_type": "markdown",
   "metadata": {},
   "source": [
    "# Load and transform TwoPattern dataset\n",
    "http://timeseriesclassification.com/description.php?Dataset=TwoPatterns"
   ]
  },
  {
   "cell_type": "markdown",
   "metadata": {},
   "source": [
    "## Setup"
   ]
  },
  {
   "cell_type": "code",
   "execution_count": 3,
   "metadata": {},
   "outputs": [],
   "source": [
    "import pandas as pd\n",
    "import numpy as np\n",
    "import matplotlib.pyplot as plt\n",
    "import pickle\n",
    "from time import time\n",
    "\n",
    "time_index = int(time())\n",
    "\n",
    "DATA_DIR = \"data_two_pattern\"\n",
    "DIFFERENT_LENS = False\n",
    "\n",
    "infix = \"dif\" if DIFFERENT_LENS else \"eq\"\n",
    "OUTPUT_FILENAME = f\"two_pattern_{infix}_lens.pkl\"\n",
    "NO_TEST_SAMPLES = 4000 # there are total 5000 samples"
   ]
  },
  {
   "cell_type": "markdown",
   "metadata": {},
   "source": [
    "## Prepare and save dataset"
   ]
  },
  {
   "cell_type": "code",
   "execution_count": 4,
   "metadata": {},
   "outputs": [],
   "source": [
    "converted_lines = []\n",
    "for filename in [\"test.txt\", \"train.txt\"]:\n",
    "    with open (f\"{DATA_DIR}/{filename}\", \"r\") as f:\n",
    "        lines = f.readlines()\n",
    "        for l in lines:\n",
    "            floats = list(map(float, l.split()))\n",
    "            converted_lines.append(floats)\n",
    "\n",
    "sample_ids = list(range(len(converted_lines)))\n",
    "true_labels = [int(X[0])-1 for X in converted_lines] # labels should start from 0\n",
    "all_X_samples = [np.array(X[1:]).reshape(-1,1) for X in converted_lines]\n",
    "\n",
    "# if different lenghts, cut some of samples\n",
    "if DIFFERENT_LENS:\n",
    "    new_samples = []\n",
    "    for X in all_X_samples:\n",
    "        cut = np.random.randint(1,40)\n",
    "        new = X[:-cut]\n",
    "        new_samples.append(new)\n",
    "        if len(new) == 0:\n",
    "            raise Exception\n",
    "    all_X_samples = new_samples # overwrite sample list\n",
    "\n",
    "sample_lengths = [sample.shape[0] for sample in all_X_samples]\n",
    "\n",
    "test_ids = list(range(NO_TEST_SAMPLES))\n",
    "train_ids = list(range(4000,5000))"
   ]
  },
  {
   "cell_type": "code",
   "execution_count": 5,
   "metadata": {},
   "outputs": [],
   "source": [
    "labels_df = pd.DataFrame({\n",
    "    \"sample_id\": sample_ids,\n",
    "    \"true_label\": true_labels,\n",
    "    \"sample_len\": sample_lengths\n",
    "})\n",
    "\n",
    "indices_splits_lst = [{\"test_samples_ids\": test_ids, \"train_samples_ids\": train_ids}]"
   ]
  },
  {
   "cell_type": "code",
   "execution_count": 6,
   "metadata": {},
   "outputs": [
    {
     "name": "stdout",
     "output_type": "stream",
     "text": [
      "Data saved to data_two_pattern/two_pattern_eq_lens.pkl.\n"
     ]
    }
   ],
   "source": [
    "output_path = f\"{DATA_DIR}/{OUTPUT_FILENAME}\"\n",
    "\n",
    "metadata = {\n",
    "    \"N_TRAIN_SAMPLES_PER_MODEL\": len(train_ids),\n",
    "    \"N_TEST_SAMPLES_PER_MODEL\": len(test_ids),\n",
    "    \"MAX_SAMPLE_LEN\": max(sample_lengths),\n",
    "    \"MIN_SAMPLE_LEN\": min(sample_lengths)\n",
    "}\n",
    "\n",
    "data = {\n",
    "    'generating_model': \"SIM_TwoPat\",\n",
    "    'data_filename': output_path,\n",
    "    'time_index': time_index,\n",
    "    'models_lst': None,\n",
    "    'labels_df': labels_df,\n",
    "    'all_X_samples': all_X_samples,\n",
    "    'indices_splits_lst': indices_splits_lst,\n",
    "    'metadata': metadata,\n",
    "    'description': \"http://timeseriesclassification.com/description.php?Dataset=TwoPatterns\"\n",
    "}\n",
    "\n",
    "with open(output_path, 'wb') as f:\n",
    "    pickle.dump(data, f)\n",
    "    print(f\"Data saved to {output_path}.\")"
   ]
  },
  {
   "cell_type": "markdown",
   "metadata": {},
   "source": [
    "## EDA"
   ]
  },
  {
   "cell_type": "markdown",
   "metadata": {},
   "source": [
    "### Is dataset balanced?"
   ]
  },
  {
   "cell_type": "code",
   "execution_count": 7,
   "metadata": {},
   "outputs": [
    {
     "data": {
      "text/html": [
       "<div>\n",
       "<style scoped>\n",
       "    .dataframe tbody tr th:only-of-type {\n",
       "        vertical-align: middle;\n",
       "    }\n",
       "\n",
       "    .dataframe tbody tr th {\n",
       "        vertical-align: top;\n",
       "    }\n",
       "\n",
       "    .dataframe thead th {\n",
       "        text-align: right;\n",
       "    }\n",
       "</style>\n",
       "<table border=\"1\" class=\"dataframe\">\n",
       "  <thead>\n",
       "    <tr style=\"text-align: right;\">\n",
       "      <th></th>\n",
       "      <th>sample_len</th>\n",
       "    </tr>\n",
       "    <tr>\n",
       "      <th>true_label</th>\n",
       "      <th></th>\n",
       "    </tr>\n",
       "  </thead>\n",
       "  <tbody>\n",
       "    <tr>\n",
       "      <th>0</th>\n",
       "      <td>1035</td>\n",
       "    </tr>\n",
       "    <tr>\n",
       "      <th>1</th>\n",
       "      <td>1011</td>\n",
       "    </tr>\n",
       "    <tr>\n",
       "      <th>2</th>\n",
       "      <td>995</td>\n",
       "    </tr>\n",
       "    <tr>\n",
       "      <th>3</th>\n",
       "      <td>959</td>\n",
       "    </tr>\n",
       "  </tbody>\n",
       "</table>\n",
       "</div>"
      ],
      "text/plain": [
       "            sample_len\n",
       "true_label            \n",
       "0                 1035\n",
       "1                 1011\n",
       "2                  995\n",
       "3                  959"
      ]
     },
     "execution_count": 7,
     "metadata": {},
     "output_type": "execute_result"
    }
   ],
   "source": [
    "# test\n",
    "labels_df.set_index(\"sample_id\").iloc[test_ids].groupby(\"true_label\").count()"
   ]
  },
  {
   "cell_type": "code",
   "execution_count": 8,
   "metadata": {},
   "outputs": [
    {
     "data": {
      "text/html": [
       "<div>\n",
       "<style scoped>\n",
       "    .dataframe tbody tr th:only-of-type {\n",
       "        vertical-align: middle;\n",
       "    }\n",
       "\n",
       "    .dataframe tbody tr th {\n",
       "        vertical-align: top;\n",
       "    }\n",
       "\n",
       "    .dataframe thead th {\n",
       "        text-align: right;\n",
       "    }\n",
       "</style>\n",
       "<table border=\"1\" class=\"dataframe\">\n",
       "  <thead>\n",
       "    <tr style=\"text-align: right;\">\n",
       "      <th></th>\n",
       "      <th>sample_len</th>\n",
       "    </tr>\n",
       "    <tr>\n",
       "      <th>true_label</th>\n",
       "      <th></th>\n",
       "    </tr>\n",
       "  </thead>\n",
       "  <tbody>\n",
       "    <tr>\n",
       "      <th>0</th>\n",
       "      <td>271</td>\n",
       "    </tr>\n",
       "    <tr>\n",
       "      <th>1</th>\n",
       "      <td>237</td>\n",
       "    </tr>\n",
       "    <tr>\n",
       "      <th>2</th>\n",
       "      <td>250</td>\n",
       "    </tr>\n",
       "    <tr>\n",
       "      <th>3</th>\n",
       "      <td>242</td>\n",
       "    </tr>\n",
       "  </tbody>\n",
       "</table>\n",
       "</div>"
      ],
      "text/plain": [
       "            sample_len\n",
       "true_label            \n",
       "0                  271\n",
       "1                  237\n",
       "2                  250\n",
       "3                  242"
      ]
     },
     "execution_count": 8,
     "metadata": {},
     "output_type": "execute_result"
    }
   ],
   "source": [
    "labels_df.set_index(\"sample_id\").iloc[train_ids].groupby(\"true_label\").count()"
   ]
  },
  {
   "cell_type": "markdown",
   "metadata": {},
   "source": [
    "Sizes of all classes are roughly equal both in train and test subsets."
   ]
  },
  {
   "cell_type": "markdown",
   "metadata": {},
   "source": [
    "### Plots of samples"
   ]
  },
  {
   "cell_type": "code",
   "execution_count": 13,
   "metadata": {},
   "outputs": [],
   "source": [
    "plt.rcParams[\"figure.figsize\"] = (40, 16)\n",
    "plt.rcParams['font.size'] = 30\n",
    "fig, axes = plt.subplots(2,2, sharey=\"all\")\n",
    "plt.suptitle(f\"Two samples of each class\")\n",
    "for i, df in labels_df.groupby(\"true_label\"):\n",
    "    ax = axes.flat[i]\n",
    "    ids = df[\"sample_id\"].sample(2).values\n",
    "    samples = [all_X_samples[id] for id in ids]\n",
    "    ax.plot(samples.reshape((2, -1)), lw = 2)\n",
    "    ax.set_title(f\"Label = {i}\")\n",
    "    ax.grid()\n",
    "    \n",
    "# plt.savefig(f\"./plots/models_{GENERATING_MODEL_NAME}_{time_index}.jpg\")\n",
    "# plt.show()"
   ]
  },
  {
   "cell_type": "code",
   "execution_count": null,
   "metadata": {},
   "outputs": [],
   "source": []
  }
 ],
 "metadata": {
  "interpreter": {
   "hash": "824dc94f4a21fb2b9b063d5374c6a5be71ea0704887dd3ffa4e3d703212d1775"
  },
  "kernelspec": {
   "display_name": "Python 3.9.12 ('hmm_dtw')",
   "language": "python",
   "name": "python3"
  },
  "language_info": {
   "codemirror_mode": {
    "name": "ipython",
    "version": 3
   },
   "file_extension": ".py",
   "mimetype": "text/x-python",
   "name": "python",
   "nbconvert_exporter": "python",
   "pygments_lexer": "ipython3",
   "version": "3.9.12"
  },
  "orig_nbformat": 4
 },
 "nbformat": 4,
 "nbformat_minor": 2
}

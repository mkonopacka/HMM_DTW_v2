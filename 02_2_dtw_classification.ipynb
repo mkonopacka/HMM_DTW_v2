{
 "cells": [
  {
   "cell_type": "markdown",
   "metadata": {},
   "source": [
    "# Classification with Dynamic Time Warping"
   ]
  },
  {
   "cell_type": "markdown",
   "metadata": {},
   "source": [
    "## Setup"
   ]
  },
  {
   "cell_type": "code",
   "execution_count": 1,
   "metadata": {},
   "outputs": [
    {
     "name": "stdout",
     "output_type": "stream",
     "text": [
      "Importing the dtw module. When using in academic works please cite:\n",
      "  T. Giorgino. Computing and Visualizing Dynamic Time Warping Alignments in R: The dtw Package.\n",
      "  J. Stat. Soft., doi:10.18637/jss.v031.i07.\n",
      "\n"
     ]
    }
   ],
   "source": [
    "import pandas as pd\n",
    "import numpy as np\n",
    "import pickle\n",
    "from sklearn.metrics import confusion_matrix\n",
    "import matplotlib.pyplot as plt\n",
    "import seaborn as sns\n",
    "import dtw\n",
    "from statistics import mode\n",
    "import utils\n",
    "from tqdm import tqdm\n",
    "import os\n",
    "import time\n",
    "\n",
    "RESULTS_DIR = \"results_twoPattern\"\n",
    "DATA_PICKLE_FILE = \"data_two_pattern/two_pattern_dif_lens.pkl\"\n",
    "SPLIT_ID = 0\n",
    "K_LST = [1,3,5,10,20,30,100] # list of used K, don't change\n",
    "PARTIAL_MATCHES = True       # if True, allow for partial matches\n",
    "CLS_NAME = \"DTW\"\n",
    "WINDOW_SIZE = 0 # 0 is no window\n",
    "FILENAME_INFIX = f\"dtw_part_w{WINDOW_SIZE}_results_for\" if PARTIAL_MATCHES else f\"dtw_w{WINDOW_SIZE}_results_for\""
   ]
  },
  {
   "cell_type": "markdown",
   "metadata": {},
   "source": [
    "## Load data"
   ]
  },
  {
   "cell_type": "code",
   "execution_count": 2,
   "metadata": {},
   "outputs": [
    {
     "data": {
      "text/plain": [
       "dict_keys(['generating_model', 'data_filename', 'time_index', 'models_lst', 'labels_df', 'all_X_samples', 'indices_splits_lst', 'metadata', 'description'])"
      ]
     },
     "execution_count": 2,
     "metadata": {},
     "output_type": "execute_result"
    }
   ],
   "source": [
    "with open(DATA_PICKLE_FILE, \"rb\") as f:\n",
    "    data = pickle.load(f)\n",
    "\n",
    "data.keys()"
   ]
  },
  {
   "cell_type": "code",
   "execution_count": 3,
   "metadata": {},
   "outputs": [
    {
     "name": "stdout",
     "output_type": "stream",
     "text": [
      "{'N_TRAIN_SAMPLES_PER_MODEL': 1000, 'N_TEST_SAMPLES_PER_MODEL': 4000, 'MAX_SAMPLE_LEN': 127, 'MIN_SAMPLE_LEN': 89}\n"
     ]
    }
   ],
   "source": [
    "print(data[\"metadata\"])"
   ]
  },
  {
   "cell_type": "code",
   "execution_count": 4,
   "metadata": {},
   "outputs": [],
   "source": [
    "indices_splits_lst = data[\"indices_splits_lst\"]\n",
    "all_X_samples = data[\"all_X_samples\"]\n",
    "labels_df = data[\"labels_df\"]\n",
    "current_split = indices_splits_lst[SPLIT_ID]\n",
    "train_samples_ids = current_split[\"train_samples_ids\"]\n",
    "test_samples_ids = current_split[\"test_samples_ids\"]"
   ]
  },
  {
   "cell_type": "code",
   "execution_count": 5,
   "metadata": {},
   "outputs": [
    {
     "data": {
      "text/plain": [
       "4000"
      ]
     },
     "execution_count": 5,
     "metadata": {},
     "output_type": "execute_result"
    }
   ],
   "source": [
    "len(current_split[\"test_samples_ids\"])"
   ]
  },
  {
   "cell_type": "markdown",
   "metadata": {},
   "source": [
    "## Classify test samples with DTW\n",
    "For each test sample find DTW distance to all samples in train subset and classify as the closest one's label."
   ]
  },
  {
   "cell_type": "code",
   "execution_count": 6,
   "metadata": {},
   "outputs": [],
   "source": [
    "# TODO try cross-validation to choose better k\n",
    "def classify_sample(X: np.ndarray, train_samples: list[np.ndarray], train_labels: list[int], k_lst: list[int],\n",
    "partial = PARTIAL_MATCHES, window = WINDOW_SIZE) -> dict[int, int]:\n",
    "    \"\"\"Classify a sample using DTW with k-NN based on samples in `train_samples` with different values of k.\n",
    "    Returns a mapping k -> returned label. \n",
    "    If `partial` is set to True, partial mapping is found by letting go of connected endpoints \n",
    "    contraint from classic DTW version. Uses default window type and step pattern from dtw library.\"\"\"\n",
    "    results = dict()\n",
    "    distances = []\n",
    "    for Y in train_samples:\n",
    "        dtw_obj = dtw.dtw(\n",
    "            X, Y, open_begin= partial, open_end = partial,\n",
    "            step_pattern = dtw.asymmetric if partial else dtw.symmetric1,\n",
    "            window_args= {} if window == 0 else {\n",
    "                \"window_type\": \"saokechiba\",\n",
    "                \"window_size\": window\n",
    "            }\n",
    "            )\n",
    "        normalized_dist = dtw_obj.normalizedDistance\n",
    "        distances.append(normalized_dist)\n",
    "    sorted_distances = np.argsort(distances)\n",
    "    for k in k_lst:\n",
    "        if k >= len(train_samples):\n",
    "            raise ValueError(\"k >= number of train examples doesn't make sense in KNN-classifier.\")\n",
    "        first_k = sorted_distances[:k]\n",
    "        results[k] = mode(train_labels[first_k])\n",
    "    return results \n"
   ]
  },
  {
   "cell_type": "code",
   "execution_count": 7,
   "metadata": {},
   "outputs": [],
   "source": [
    "train_df = labels_df.loc[train_samples_ids]\n",
    "train_ids = train_df.index.values.astype('int')\n",
    "train_samples = [all_X_samples[id] for id in train_ids]\n",
    "train_labels = train_df[\"true_label\"].values\n",
    "\n",
    "test_df = labels_df.loc[test_samples_ids]\n",
    "test_ids = test_df.index.values.astype('int')\n",
    "test_samples = [all_X_samples[id] for id in test_ids]"
   ]
  },
  {
   "cell_type": "code",
   "execution_count": 8,
   "metadata": {},
   "outputs": [
    {
     "name": "stderr",
     "output_type": "stream",
     "text": [
      "Classifying test samples:  17%|█▋        | 687/4000 [15:02<45:18,  1.22it/s]  "
     ]
    },
    {
     "ename": "KeyboardInterrupt",
     "evalue": "",
     "output_type": "error",
     "traceback": [
      "\u001b[0;31m---------------------------------------------------------------------------\u001b[0m",
      "\u001b[0;31mKeyboardInterrupt\u001b[0m                         Traceback (most recent call last)",
      "\u001b[1;32m/home/martyna/hmm_dtw/02_2_dtw_classification.ipynb Cell 12'\u001b[0m in \u001b[0;36m<cell line: 4>\u001b[0;34m()\u001b[0m\n\u001b[1;32m      <a href='vscode-notebook-cell:/home/martyna/hmm_dtw/02_2_dtw_classification.ipynb#ch0000011?line=1'>2</a>\u001b[0m k_lst \u001b[39m=\u001b[39m [k \u001b[39mfor\u001b[39;00m k \u001b[39min\u001b[39;00m K_LST \u001b[39mif\u001b[39;00m k \u001b[39m<\u001b[39m\u001b[39m=\u001b[39m \u001b[39mlen\u001b[39m(train_samples)]\n\u001b[1;32m      <a href='vscode-notebook-cell:/home/martyna/hmm_dtw/02_2_dtw_classification.ipynb#ch0000011?line=2'>3</a>\u001b[0m start \u001b[39m=\u001b[39m time\u001b[39m.\u001b[39mtime()\n\u001b[0;32m----> <a href='vscode-notebook-cell:/home/martyna/hmm_dtw/02_2_dtw_classification.ipynb#ch0000011?line=3'>4</a>\u001b[0m k_to_label_mappings_lst \u001b[39m=\u001b[39m [\n\u001b[1;32m      <a href='vscode-notebook-cell:/home/martyna/hmm_dtw/02_2_dtw_classification.ipynb#ch0000011?line=4'>5</a>\u001b[0m     classify_sample(X, train_samples, train_labels, k_lst) \n\u001b[1;32m      <a href='vscode-notebook-cell:/home/martyna/hmm_dtw/02_2_dtw_classification.ipynb#ch0000011?line=5'>6</a>\u001b[0m     \u001b[39mfor\u001b[39;00m X \u001b[39min\u001b[39;00m tqdm(test_samples, desc \u001b[39m=\u001b[39m \u001b[39m\"\u001b[39m\u001b[39mClassifying test samples\u001b[39m\u001b[39m\"\u001b[39m)\n\u001b[1;32m      <a href='vscode-notebook-cell:/home/martyna/hmm_dtw/02_2_dtw_classification.ipynb#ch0000011?line=6'>7</a>\u001b[0m     ]\n\u001b[1;32m      <a href='vscode-notebook-cell:/home/martyna/hmm_dtw/02_2_dtw_classification.ipynb#ch0000011?line=8'>9</a>\u001b[0m stop \u001b[39m=\u001b[39m time\u001b[39m.\u001b[39mtime()\n\u001b[1;32m     <a href='vscode-notebook-cell:/home/martyna/hmm_dtw/02_2_dtw_classification.ipynb#ch0000011?line=9'>10</a>\u001b[0m total_time \u001b[39m=\u001b[39m stop \u001b[39m-\u001b[39m start\n",
      "\u001b[1;32m/home/martyna/hmm_dtw/02_2_dtw_classification.ipynb Cell 12'\u001b[0m in \u001b[0;36m<listcomp>\u001b[0;34m(.0)\u001b[0m\n\u001b[1;32m      <a href='vscode-notebook-cell:/home/martyna/hmm_dtw/02_2_dtw_classification.ipynb#ch0000011?line=1'>2</a>\u001b[0m k_lst \u001b[39m=\u001b[39m [k \u001b[39mfor\u001b[39;00m k \u001b[39min\u001b[39;00m K_LST \u001b[39mif\u001b[39;00m k \u001b[39m<\u001b[39m\u001b[39m=\u001b[39m \u001b[39mlen\u001b[39m(train_samples)]\n\u001b[1;32m      <a href='vscode-notebook-cell:/home/martyna/hmm_dtw/02_2_dtw_classification.ipynb#ch0000011?line=2'>3</a>\u001b[0m start \u001b[39m=\u001b[39m time\u001b[39m.\u001b[39mtime()\n\u001b[1;32m      <a href='vscode-notebook-cell:/home/martyna/hmm_dtw/02_2_dtw_classification.ipynb#ch0000011?line=3'>4</a>\u001b[0m k_to_label_mappings_lst \u001b[39m=\u001b[39m [\n\u001b[0;32m----> <a href='vscode-notebook-cell:/home/martyna/hmm_dtw/02_2_dtw_classification.ipynb#ch0000011?line=4'>5</a>\u001b[0m     classify_sample(X, train_samples, train_labels, k_lst) \n\u001b[1;32m      <a href='vscode-notebook-cell:/home/martyna/hmm_dtw/02_2_dtw_classification.ipynb#ch0000011?line=5'>6</a>\u001b[0m     \u001b[39mfor\u001b[39;00m X \u001b[39min\u001b[39;00m tqdm(test_samples, desc \u001b[39m=\u001b[39m \u001b[39m\"\u001b[39m\u001b[39mClassifying test samples\u001b[39m\u001b[39m\"\u001b[39m)\n\u001b[1;32m      <a href='vscode-notebook-cell:/home/martyna/hmm_dtw/02_2_dtw_classification.ipynb#ch0000011?line=6'>7</a>\u001b[0m     ]\n\u001b[1;32m      <a href='vscode-notebook-cell:/home/martyna/hmm_dtw/02_2_dtw_classification.ipynb#ch0000011?line=8'>9</a>\u001b[0m stop \u001b[39m=\u001b[39m time\u001b[39m.\u001b[39mtime()\n\u001b[1;32m     <a href='vscode-notebook-cell:/home/martyna/hmm_dtw/02_2_dtw_classification.ipynb#ch0000011?line=9'>10</a>\u001b[0m total_time \u001b[39m=\u001b[39m stop \u001b[39m-\u001b[39m start\n",
      "\u001b[1;32m/home/martyna/hmm_dtw/02_2_dtw_classification.ipynb Cell 10'\u001b[0m in \u001b[0;36mclassify_sample\u001b[0;34m(X, train_samples, train_labels, k_lst, partial, window)\u001b[0m\n\u001b[1;32m      <a href='vscode-notebook-cell:/home/martyna/hmm_dtw/02_2_dtw_classification.ipynb#ch0000009?line=8'>9</a>\u001b[0m distances \u001b[39m=\u001b[39m []\n\u001b[1;32m     <a href='vscode-notebook-cell:/home/martyna/hmm_dtw/02_2_dtw_classification.ipynb#ch0000009?line=9'>10</a>\u001b[0m \u001b[39mfor\u001b[39;00m Y \u001b[39min\u001b[39;00m train_samples:\n\u001b[0;32m---> <a href='vscode-notebook-cell:/home/martyna/hmm_dtw/02_2_dtw_classification.ipynb#ch0000009?line=10'>11</a>\u001b[0m     dtw_obj \u001b[39m=\u001b[39m dtw\u001b[39m.\u001b[39;49mdtw(\n\u001b[1;32m     <a href='vscode-notebook-cell:/home/martyna/hmm_dtw/02_2_dtw_classification.ipynb#ch0000009?line=11'>12</a>\u001b[0m         X, Y, open_begin\u001b[39m=\u001b[39;49m partial, open_end \u001b[39m=\u001b[39;49m partial,\n\u001b[1;32m     <a href='vscode-notebook-cell:/home/martyna/hmm_dtw/02_2_dtw_classification.ipynb#ch0000009?line=12'>13</a>\u001b[0m         step_pattern \u001b[39m=\u001b[39;49m dtw\u001b[39m.\u001b[39;49masymmetric \u001b[39mif\u001b[39;49;00m partial \u001b[39melse\u001b[39;49;00m dtw\u001b[39m.\u001b[39;49msymmetric1,\n\u001b[1;32m     <a href='vscode-notebook-cell:/home/martyna/hmm_dtw/02_2_dtw_classification.ipynb#ch0000009?line=13'>14</a>\u001b[0m         window_args\u001b[39m=\u001b[39;49m {} \u001b[39mif\u001b[39;49;00m window \u001b[39m==\u001b[39;49m \u001b[39m0\u001b[39;49m \u001b[39melse\u001b[39;49;00m {\n\u001b[1;32m     <a href='vscode-notebook-cell:/home/martyna/hmm_dtw/02_2_dtw_classification.ipynb#ch0000009?line=14'>15</a>\u001b[0m             \u001b[39m\"\u001b[39;49m\u001b[39mwindow_type\u001b[39;49m\u001b[39m\"\u001b[39;49m: \u001b[39m\"\u001b[39;49m\u001b[39msaokechiba\u001b[39;49m\u001b[39m\"\u001b[39;49m,\n\u001b[1;32m     <a href='vscode-notebook-cell:/home/martyna/hmm_dtw/02_2_dtw_classification.ipynb#ch0000009?line=15'>16</a>\u001b[0m             \u001b[39m\"\u001b[39;49m\u001b[39mwindow_size\u001b[39;49m\u001b[39m\"\u001b[39;49m: window\n\u001b[1;32m     <a href='vscode-notebook-cell:/home/martyna/hmm_dtw/02_2_dtw_classification.ipynb#ch0000009?line=16'>17</a>\u001b[0m         }\n\u001b[1;32m     <a href='vscode-notebook-cell:/home/martyna/hmm_dtw/02_2_dtw_classification.ipynb#ch0000009?line=17'>18</a>\u001b[0m         )\n\u001b[1;32m     <a href='vscode-notebook-cell:/home/martyna/hmm_dtw/02_2_dtw_classification.ipynb#ch0000009?line=18'>19</a>\u001b[0m     normalized_dist \u001b[39m=\u001b[39m dtw_obj\u001b[39m.\u001b[39mnormalizedDistance\n\u001b[1;32m     <a href='vscode-notebook-cell:/home/martyna/hmm_dtw/02_2_dtw_classification.ipynb#ch0000009?line=19'>20</a>\u001b[0m     distances\u001b[39m.\u001b[39mappend(normalized_dist)\n",
      "File \u001b[0;32m~/miniconda3/envs/hmm_dtw/lib/python3.9/site-packages/dtw/dtw.py:430\u001b[0m, in \u001b[0;36mdtw\u001b[0;34m(x, y, dist_method, step_pattern, window_type, window_args, keep_internals, distance_only, open_end, open_begin)\u001b[0m\n\u001b[1;32m    <a href='file:///home/martyna/miniconda3/envs/hmm_dtw/lib/python3.9/site-packages/dtw/dtw.py?line=426'>427</a>\u001b[0m     gcm\u001b[39m.\u001b[39mnormalizedDistance \u001b[39m=\u001b[39m numpy\u001b[39m.\u001b[39mnan\n\u001b[1;32m    <a href='file:///home/martyna/miniconda3/envs/hmm_dtw/lib/python3.9/site-packages/dtw/dtw.py?line=428'>429</a>\u001b[0m \u001b[39mif\u001b[39;00m \u001b[39mnot\u001b[39;00m distance_only:\n\u001b[0;32m--> <a href='file:///home/martyna/miniconda3/envs/hmm_dtw/lib/python3.9/site-packages/dtw/dtw.py?line=429'>430</a>\u001b[0m     mapping \u001b[39m=\u001b[39m _backtrack(gcm)\n\u001b[1;32m    <a href='file:///home/martyna/miniconda3/envs/hmm_dtw/lib/python3.9/site-packages/dtw/dtw.py?line=430'>431</a>\u001b[0m     gcm\u001b[39m.\u001b[39m\u001b[39m__dict__\u001b[39m\u001b[39m.\u001b[39mupdate(mapping)\n\u001b[1;32m    <a href='file:///home/martyna/miniconda3/envs/hmm_dtw/lib/python3.9/site-packages/dtw/dtw.py?line=432'>433</a>\u001b[0m \u001b[39mif\u001b[39;00m open_begin:\n",
      "File \u001b[0;32m~/miniconda3/envs/hmm_dtw/lib/python3.9/site-packages/dtw/_backtrack.py:73\u001b[0m, in \u001b[0;36m_backtrack\u001b[0;34m(gcm)\u001b[0m\n\u001b[1;32m     <a href='file:///home/martyna/miniconda3/envs/hmm_dtw/lib/python3.9/site-packages/dtw/_backtrack.py?line=69'>70</a>\u001b[0m     i \u001b[39m-\u001b[39m\u001b[39m=\u001b[39m steps[k, \u001b[39m0\u001b[39m]\n\u001b[1;32m     <a href='file:///home/martyna/miniconda3/envs/hmm_dtw/lib/python3.9/site-packages/dtw/_backtrack.py?line=70'>71</a>\u001b[0m     j \u001b[39m-\u001b[39m\u001b[39m=\u001b[39m steps[k, \u001b[39m1\u001b[39m]\n\u001b[0;32m---> <a href='file:///home/martyna/miniconda3/envs/hmm_dtw/lib/python3.9/site-packages/dtw/_backtrack.py?line=72'>73</a>\u001b[0m     iis\u001b[39m.\u001b[39;49minsert(\u001b[39m0\u001b[39m, i)\n\u001b[1;32m     <a href='file:///home/martyna/miniconda3/envs/hmm_dtw/lib/python3.9/site-packages/dtw/_backtrack.py?line=73'>74</a>\u001b[0m     jjs\u001b[39m.\u001b[39minsert(\u001b[39m0\u001b[39m, j)\n\u001b[1;32m     <a href='file:///home/martyna/miniconda3/envs/hmm_dtw/lib/python3.9/site-packages/dtw/_backtrack.py?line=75'>76</a>\u001b[0m out \u001b[39m=\u001b[39m {\u001b[39m'\u001b[39m\u001b[39mindex1\u001b[39m\u001b[39m'\u001b[39m: numpy\u001b[39m.\u001b[39marray(ii),\n\u001b[1;32m     <a href='file:///home/martyna/miniconda3/envs/hmm_dtw/lib/python3.9/site-packages/dtw/_backtrack.py?line=76'>77</a>\u001b[0m        \u001b[39m'\u001b[39m\u001b[39mindex2\u001b[39m\u001b[39m'\u001b[39m: numpy\u001b[39m.\u001b[39marray(jj),\n\u001b[1;32m     <a href='file:///home/martyna/miniconda3/envs/hmm_dtw/lib/python3.9/site-packages/dtw/_backtrack.py?line=77'>78</a>\u001b[0m        \u001b[39m'\u001b[39m\u001b[39mindex1s\u001b[39m\u001b[39m'\u001b[39m: numpy\u001b[39m.\u001b[39marray(iis),\n\u001b[1;32m     <a href='file:///home/martyna/miniconda3/envs/hmm_dtw/lib/python3.9/site-packages/dtw/_backtrack.py?line=78'>79</a>\u001b[0m        \u001b[39m'\u001b[39m\u001b[39mindex2s\u001b[39m\u001b[39m'\u001b[39m: numpy\u001b[39m.\u001b[39marray(jjs),\n\u001b[1;32m     <a href='file:///home/martyna/miniconda3/envs/hmm_dtw/lib/python3.9/site-packages/dtw/_backtrack.py?line=79'>80</a>\u001b[0m        \u001b[39m'\u001b[39m\u001b[39mstepsTaken\u001b[39m\u001b[39m'\u001b[39m: numpy\u001b[39m.\u001b[39marray(ss)}\n",
      "\u001b[0;31mKeyboardInterrupt\u001b[0m: "
     ]
    }
   ],
   "source": [
    "# Remove too small k from k_lst based on train size\n",
    "k_lst = [k for k in K_LST if k <= len(train_samples)]\n",
    "start = time.time()\n",
    "k_to_label_mappings_lst = [\n",
    "    classify_sample(X, train_samples, train_labels, k_lst) \n",
    "    for X in tqdm(test_samples, desc = \"Classifying test samples\")\n",
    "    ]\n",
    "\n",
    "stop = time.time()\n",
    "total_time = stop - start\n",
    "print(f\"Time needed to classify all test samples: {total_time:.2f}s\")"
   ]
  },
  {
   "cell_type": "code",
   "execution_count": null,
   "metadata": {},
   "outputs": [],
   "source": [
    "predictions_dict = {\n",
    "    k: tuple([d[k] for d in k_to_label_mappings_lst])\n",
    "    for k in k_lst\n",
    "}\n",
    "\n",
    "dfs_dict = {\n",
    "    k: pd.DataFrame({\"pred\": predictions_dict[k]}, index= test_df.index)\n",
    "    for k in k_lst\n",
    "}\n",
    "\n",
    "predictions_dfs = {\n",
    "    f\"{k}NN\": test_df.join(dfs_dict[k])\n",
    "    for k in k_lst\n",
    "}\n",
    "\n",
    "predictions_dfs[\"1NN\"].head()"
   ]
  },
  {
   "cell_type": "code",
   "execution_count": null,
   "metadata": {},
   "outputs": [],
   "source": [
    "# how many plots based on # used k values\n",
    "ncols = int(np.ceil(np.sqrt(len(k_lst))))\n",
    "nrows = int(np.ceil(len(k_lst)/ncols))\n",
    "\n",
    "y_true = test_df[\"true_label\"]\n",
    "plt.rcParams[\"figure.figsize\"] = (5*ncols, 5*nrows)\n",
    "plt.rcParams['font.size'] = 3*nrows\n",
    "fig, axes = plt.subplots(ncols = ncols, nrows = nrows)\n",
    "\n",
    "for i,k in enumerate(k_lst):\n",
    "    max_i = i\n",
    "    ax = axes.flat[i]\n",
    "    y_pred = predictions_dfs[f\"{k}NN\"][\"pred\"]\n",
    "    cm = confusion_matrix(y_true, y_pred)\n",
    "    sns.heatmap(cm, annot=True, fmt='g', ax=ax, cbar = False)\n",
    "    ax.matshow(cm)\n",
    "    ax.set_title(f\"DTW with {k}NN\")\n",
    "\n",
    "# hide unused axes\n",
    "for i in range(max_i+1,len(axes.flat)):\n",
    "    axes.flat[i].set_visible(False)\n",
    "\n",
    "plt.tight_layout()\n",
    "plt.show()"
   ]
  },
  {
   "cell_type": "code",
   "execution_count": null,
   "metadata": {},
   "outputs": [],
   "source": [
    "accuracies = dict()\n",
    "for variant, df in predictions_dfs.items():\n",
    "    if PARTIAL_MATCHES:\n",
    "        variant = f\"{variant}_partial\"\n",
    "    variant = variant + f\"w{WINDOW_SIZE}\"\n",
    "    acc = utils.accuracy(y_true, df[\"pred\"])\n",
    "    accuracies[variant] = acc\n",
    "    print(f\"{variant} accuracy: {acc:.4f}\")"
   ]
  },
  {
   "cell_type": "code",
   "execution_count": null,
   "metadata": {},
   "outputs": [],
   "source": [
    "time_index = data[\"time_index\"]\n",
    "summary = {\n",
    "    \"data_filename\": DATA_PICKLE_FILE,\n",
    "    \"classificator\": CLS_NAME,\n",
    "    \"time_index\": time_index,\n",
    "    \"split_id\": SPLIT_ID,\n",
    "    \"predictions_dfs\": predictions_dfs,\n",
    "    \"accuracies\": accuracies,\n",
    "    \"total_time\": total_time\n",
    "}\n",
    "\n",
    "for key, val in summary.items():\n",
    "    print(f\"{key}: {val}\")"
   ]
  },
  {
   "cell_type": "code",
   "execution_count": null,
   "metadata": {},
   "outputs": [],
   "source": [
    "gen_type = data[\"generating_model\"]\n",
    "split_id_str = str(SPLIT_ID)\n",
    "if len(split_id_str) == 1:\n",
    "    split_id_str = \"0\" + split_id_str\n",
    "\n",
    "output_path = f\"{RESULTS_DIR}/{FILENAME_INFIX}_{gen_type}_{time_index}_{split_id_str}.pkl\"\n",
    "if os.path.exists(output_path):\n",
    "    inp = input(f\"Classification results {output_path} already exists. Do you want to overwrite it? (y = yes)\")\n",
    "    if inp in [\"y\", \"Y\"]:\n",
    "        with open(output_path, 'wb') as f:\n",
    "                pickle.dump(summary, f)\n",
    "                print(f\"Updated classification results saved to {output_path}.\")\n",
    "    else:\n",
    "        print(\"Canceled.\")\n",
    "else:\n",
    "    with open(output_path, 'wb') as f:\n",
    "        pickle.dump(summary, f)\n",
    "        print(f\"Classification results saved to {output_path}.\")"
   ]
  }
 ],
 "metadata": {
  "interpreter": {
   "hash": "824dc94f4a21fb2b9b063d5374c6a5be71ea0704887dd3ffa4e3d703212d1775"
  },
  "kernelspec": {
   "display_name": "Python 3.9.12 ('hmm_dtw')",
   "language": "python",
   "name": "python3"
  },
  "language_info": {
   "codemirror_mode": {
    "name": "ipython",
    "version": 3
   },
   "file_extension": ".py",
   "mimetype": "text/x-python",
   "name": "python",
   "nbconvert_exporter": "python",
   "pygments_lexer": "ipython3",
   "version": "3.9.12"
  },
  "orig_nbformat": 4
 },
 "nbformat": 4,
 "nbformat_minor": 2
}
